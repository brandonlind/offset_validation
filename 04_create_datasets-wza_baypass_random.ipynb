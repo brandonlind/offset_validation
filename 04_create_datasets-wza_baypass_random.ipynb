{
 "cells": [
  {
   "cell_type": "markdown",
   "metadata": {},
   "source": [
    "<a id='home'></a>\n",
    "### purpose \n",
    "\n",
    "- create the files that will be needed to run the R script created in `../05_gradient_forest_processing_scripts.ipynb` for all permutations of `loci set x input populations` created here\n",
    "- in other words, the allele frequency for each loci set and environmental data for each population set will be subset for the populations randomly selected for training (see `../01_split_training_and_testing.ipynb`) and the loci sets created in this notebook\n",
    "\n",
    "\n",
    "### outline\n",
    "\n",
    "[1. load allele frequency data](#freqs)\n",
    "- read in filtered SNP sets in parallel, for each job convert % to float and drop irrelevant columns\n",
    "\n",
    "[2. load outliers and select random loci two ways (random and pseudo random)](#outliers)\n",
    "- determine snps found in WZA genes\n",
    "    - take top 500 ranked WZA genes from each environment, keep loci within genes with Kendall's tau > 0.5 to any environment\n",
    "        - original submission used 100 genes, but we changed annotations since then. In order to increase total number of loci for the revision, I increased the number of top genes to 500\n",
    "- get baypass outliers ≥ 15\n",
    "- get loci that had tau ≤ 0.1 for all envs - this is the non-outlier set\n",
    "- for the set of loci from wza and baypass, randomly choose the same number of loci from the non-outlier set (a pseudorandom set) and from a truly random set (whole dataset genome wide)\n",
    "    - pseudorandom set should be what we DONT want to give these offset methods\n",
    "\n",
    "[3. load environmental data](#envdata)\n",
    "- load the raw environmental data to get each pop's lat/long\n",
    "\n",
    "[4. load training data](#training)\n",
    "- for the populations that were chosen for training sets for each of the kfold cross validations (from `01_split_training_and_testing.ipynb`), subset the frequency data and envdata for these pops\n",
    "- save these training sets to file\n",
    "\n",
    "[5. create HPC slurm files to run scripts for each permutation](#slurm)\n",
    "- create the necessary sbatch.sh files to run scripts\n",
    "\n",
    "\n",
    "[6. transfer to HPC (cedar)](#cedar)\n",
    "- rsync all needed files to HPC, execute on HPC\n",
    "\n",
    "### Notes\n",
    "\n",
    "- this will need to be rerun to get the WL baypass results (not yet done, probably won't happen)\n",
    "- models across both varieties of doug-fir were loci from combined snp calling** that intersected with:\n",
    "    - coastal + interior baypass\n",
    "    - coastal + interior wza loci\n",
    "    - except for the random/pseudo random sets which were random with respect to non_outliers and genome wide (ie these were not any deliberate combination of coastal + interior)\n",
    "    \n",
    "\\** combined snp calling is calling SNPs across both varieties, and implementing filtering as usual (<25% missing data across all pops (both varieties), etc)"
   ]
  },
  {
   "cell_type": "code",
   "execution_count": 1,
   "metadata": {
    "scrolled": true
   },
   "outputs": [
    {
     "name": "stdout",
     "output_type": "stream",
     "text": [
      "56 56\n",
      "##################################################################\n",
      "Today:\tJune 09, 2023 - 12:07:25\n",
      "python version: 3.8.5\n",
      "conda env: newpy385\n",
      "\n",
      "Current commit of pythonimports:\n",
      "commit 03d76f7a992130f4b94ac34a09ad439e918d3044  \n",
      "Author: Brandon Lind <lind.brandon.m@gmail.com>  \n",
      "Date:   Fri Jun 9 09:42:21 2023 -0400\n",
      "##################################################################\n",
      "\n"
     ]
    },
    {
     "data": {
      "text/html": [
       "<details>\n",
       "<summary>Click to view session information</summary>\n",
       "<pre>\n",
       "-----\n",
       "balance_queue       NA\n",
       "cartopy             0.18.0\n",
       "ipyparallel         6.3.0\n",
       "matplotlib          3.3.1\n",
       "myclasses           NA\n",
       "myfigs              NA\n",
       "mymaps              NA\n",
       "myslurm             NA\n",
       "numpy               1.22.4\n",
       "pandas              1.5.3\n",
       "pythonimports       NA\n",
       "session_info        1.0.0\n",
       "tqdm                4.55.1\n",
       "-----\n",
       "</pre>\n",
       "<details>\n",
       "<summary>Click to view modules imported as dependencies</summary>\n",
       "<pre>\n",
       "PIL                 9.4.0\n",
       "attr                22.2.0\n",
       "backcall            0.2.0\n",
       "certifi             2022.12.07\n",
       "cffi                1.14.5\n",
       "cycler              0.10.0\n",
       "cython_runtime      NA\n",
       "dateutil            2.8.2\n",
       "decorator           5.0.9\n",
       "defusedxml          0.7.1\n",
       "fiona               1.8.20\n",
       "ipykernel           5.4.2\n",
       "ipython_genutils    0.2.0\n",
       "ipywidgets          7.6.3\n",
       "jedi                0.17.0\n",
       "kiwisolver          1.4.4\n",
       "matplotlib_venn     0.11.6\n",
       "mpl_toolkits        NA\n",
       "parso               0.7.1\n",
       "pexpect             4.8.0\n",
       "pickleshare         0.7.5\n",
       "pkg_resources       NA\n",
       "prompt_toolkit      3.0.17\n",
       "ptyprocess          0.7.0\n",
       "pygments            2.9.0\n",
       "pyparsing           3.0.9\n",
       "pytz                2022.7.1\n",
       "scipy               1.6.2\n",
       "seaborn             0.11.0\n",
       "setuptools          67.2.0\n",
       "shapefile           2.1.3\n",
       "shapely             1.7.1\n",
       "six                 1.16.0\n",
       "statsmodels         0.12.2\n",
       "storemagic          NA\n",
       "tornado             6.1\n",
       "traitlets           5.0.5\n",
       "wcwidth             0.2.5\n",
       "zmq                 22.1.0\n",
       "</pre>\n",
       "</details> <!-- seems like this ends pre, so might as well be explicit -->\n",
       "<pre>\n",
       "-----\n",
       "IPython             7.19.0\n",
       "jupyter_client      6.1.12\n",
       "jupyter_core        4.7.1\n",
       "notebook            6.4.0\n",
       "-----\n",
       "Python 3.8.5 (default, Sep  4 2020, 07:30:14) [GCC 7.3.0]\n",
       "Linux-3.10.0-1160.90.1.el7.x86_64-x86_64-with-glibc2.10\n",
       "-----\n",
       "Session information updated at 2023-06-09 12:07\n",
       "</pre>\n",
       "</details>"
      ],
      "text/plain": [
       "<IPython.core.display.HTML object>"
      ]
     },
     "execution_count": 1,
     "metadata": {},
     "output_type": "execute_result"
    }
   ],
   "source": [
    "from pythonimports import *\n",
    "\n",
    "DIR = '/data/projects/pool_seq/phenotypic_data/offset_misc_files'\n",
    "\n",
    "lview,dview = get_client()\n",
    "\n",
    "latest_commit()\n",
    "session_info.show()"
   ]
  },
  {
   "cell_type": "code",
   "execution_count": 2,
   "metadata": {},
   "outputs": [],
   "source": [
    "# see end of notebook for run time\n",
    "t1 = dt.now()"
   ]
  },
  {
   "cell_type": "markdown",
   "metadata": {},
   "source": [
    " "
   ]
  },
  {
   "cell_type": "markdown",
   "metadata": {},
   "source": [
    " "
   ]
  },
  {
   "cell_type": "markdown",
   "metadata": {},
   "source": [
    "<a id='freqs'></a>\n",
    "# 1. load allele freqs\n",
    "\n",
    "- gradient forests wants allele freqs, varscan outputs percentages, convert in parallel\n",
    "\n",
    "[top](#home)"
   ]
  },
  {
   "cell_type": "code",
   "execution_count": 3,
   "metadata": {},
   "outputs": [],
   "source": [
    "def frequenize(df):\n",
    "    \"\"\"Convert allele freq percent to float.\"\"\"\n",
    "    # convert percentage to float\n",
    "    import pandas \n",
    "\n",
    "    locuscol = 'unstitched_locus' if 'unstitched_locus' in df.columns.tolist() else 'locus'\n",
    "    \n",
    "    freqcols = [col for col in df.columns if 'FREQ' in col]\n",
    "    \n",
    "    df.index = df[locuscol].tolist()\n",
    "    df = df[freqcols].apply(lambda row: row.str.rstrip(\"%\").astype(float)/100, axis=1)\n",
    "    df.columns = [col.rstrip(\".FREQ\") for col in df.columns]\n",
    "\n",
    "    return df"
   ]
  },
  {
   "cell_type": "code",
   "execution_count": 4,
   "metadata": {},
   "outputs": [],
   "source": [
    "# these are the full sets of MAF-filtered loci\n",
    "snp_files = {\n",
    "    'fdc': '/data/projects/pool_seq/DF_datasets/DF_pooled_GEA/DF_pooled/snpsANDindels/coastal_variety_with-p6/03_maf-p05_RD-recalculated_FDC/DF_pooled-varscan_all_bedfiles_SNP_FDC_maf_RD-recalculated.txt',\n",
    "    'fdi': '/data/projects/pool_seq/DF_datasets/DF_pooled_GEA/DF_pooled/snpsANDindels/interior_variety_without-p6/03_maf-p05_RD-recalculated_FDI/DF_pooled-varscan_all_bedfiles_SNP_FDI_maf_RD-recalculated.txt',\n",
    "    'jp': '/data/projects/pool_seq/pangenome/JP_pangenome/JP_pooled/snpsANDindels/without_p24/03_maf-p05_RD-recalculated/JP_pooled-varscan_all_bedfiles_SNP_without-p24_maf_RD-recalculated.txt',\n",
    "    'wl': '/data/projects/pool_seq/WL_genome_tests/WL_psuedo/WL_pseudo_all/snpsANDindels/03_maf-p05_RD-recalculated/WL_pseudo-varscan_all_bedfiles_SNP_maf_RD-recalculated.txt',\n",
    "    'combined': '/data/projects/pool_seq/DF_datasets/DF_pooled_GEA/DF_pooled/snpsANDindels/combined_varieties/03_maf-p05_RD-recalculated_both/DF_pooled-varscan_all_bedfiles_SNP_both-varieties_maf_RD-recalculated.txt'\n",
    "}"
   ]
  },
  {
   "cell_type": "code",
   "execution_count": 5,
   "metadata": {
    "collapsed": true
   },
   "outputs": [
    {
     "name": "stdout",
     "output_type": "stream",
     "text": [
      "\u001b[1m\n",
      "Watching 56 parallel_read() jobs ...\u001b[0m\n"
     ]
    },
    {
     "name": "stderr",
     "output_type": "stream",
     "text": [
      "DF_pooled-varscan_all_bedfiles_SNP_FDC_maf_RD-recalculated.txt: 100%|███████████████| 56/56 [00:56<00:00,  1.01s/it]\n"
     ]
    },
    {
     "name": "stdout",
     "output_type": "stream",
     "text": [
      "Function `parallel_read` completed after : 0-00:01:09\n",
      "fdc 2254116\n",
      "\u001b[1m\n",
      "Watching 56 parallel_read() jobs ...\u001b[0m\n"
     ]
    },
    {
     "name": "stderr",
     "output_type": "stream",
     "text": [
      "DF_pooled-varscan_all_bedfiles_SNP_FDI_maf_RD-recalculated.txt: 100%|███████████████| 56/56 [01:00<00:00,  1.08s/it]\n"
     ]
    },
    {
     "name": "stdout",
     "output_type": "stream",
     "text": [
      "Function `parallel_read` completed after : 0-00:01:15\n",
      "fdi 2483660\n",
      "\u001b[1m\n",
      "Watching 56 parallel_read() jobs ...\u001b[0m\n"
     ]
    },
    {
     "name": "stderr",
     "output_type": "stream",
     "text": [
      "JP_pooled-varscan_all_bedfiles_SNP_without-p24_maf_RD-recalculated.txt: 100%|███████████████| 56/56 [00:28<00:00,  1.94it/s]\n"
     ]
    },
    {
     "name": "stdout",
     "output_type": "stream",
     "text": [
      "Function `parallel_read` completed after : 0-00:00:40\n",
      "jp 1163236\n",
      "\u001b[1m\n",
      "Watching 56 parallel_read() jobs ...\u001b[0m\n"
     ]
    },
    {
     "name": "stderr",
     "output_type": "stream",
     "text": [
      "WL_pseudo-varscan_all_bedfiles_SNP_maf_RD-recalculated.txt: 100%|███████████████| 56/56 [00:39<00:00,  1.41it/s]\n"
     ]
    },
    {
     "name": "stdout",
     "output_type": "stream",
     "text": [
      "Function `parallel_read` completed after : 0-00:00:52\n",
      "wl 1465277\n",
      "\u001b[1m\n",
      "Watching 56 parallel_read() jobs ...\u001b[0m\n"
     ]
    },
    {
     "name": "stderr",
     "output_type": "stream",
     "text": [
      "DF_pooled-varscan_all_bedfiles_SNP_both-varieties_maf_RD-recalculated.txt: 100%|███████████████| 56/56 [01:36<00:00,  1.71s/it]\n"
     ]
    },
    {
     "name": "stdout",
     "output_type": "stream",
     "text": [
      "Function `parallel_read` completed after : 0-00:01:54\n",
      "combined 2767766\n"
     ]
    }
   ],
   "source": [
    "# read in each snp file in parallel, each job convert % to float for each allele freq in chunk, throw out all other info\n",
    "snps = {}\n",
    "for spp,file in snp_files.items():\n",
    "    snps[spp] = parallel_read(file,\n",
    "                              lview=lview,\n",
    "                              dview=dview,\n",
    "                              verbose=False,\n",
    "                              functions=create_fundict(frequenize),\n",
    "                              reset_index=False)\n",
    "    print(spp, nrow(snps[spp]))"
   ]
  },
  {
   "cell_type": "markdown",
   "metadata": {},
   "source": [
    " "
   ]
  },
  {
   "cell_type": "markdown",
   "metadata": {},
   "source": [
    " "
   ]
  },
  {
   "cell_type": "markdown",
   "metadata": {},
   "source": [
    " "
   ]
  },
  {
   "cell_type": "markdown",
   "metadata": {},
   "source": [
    "<a id='outliers'></a>\n",
    "# 2. load outliers and random loci\n",
    "- baypass\n",
    "- wza\n",
    "- random\n",
    "\n",
    "[top](#home)"
   ]
  },
  {
   "cell_type": "markdown",
   "metadata": {},
   "source": [
    "### WZA\n",
    "\n",
    "First, isolate the top 100 WZA genes for each env, then subset the loci within these genes for any loci with Kendall's tau > 0.5"
   ]
  },
  {
   "cell_type": "markdown",
   "metadata": {},
   "source": [
    "##### Get WZA genes"
   ]
  },
  {
   "cell_type": "code",
   "execution_count": 6,
   "metadata": {},
   "outputs": [
    {
     "name": "stdout",
     "output_type": "stream",
     "text": [
      "fdc 19\n",
      "fdi 19\n",
      "jp 19\n",
      "wl 19\n"
     ]
    }
   ],
   "source": [
    "# get the wza output\n",
    "wzadir = '/data/projects/convergence/WZA_allEnvs'\n",
    "\n",
    "# get environmental files ranking genes\n",
    "files = fs(wzadir, endswith='.csv', exclude=['CMI', 'DD1040', 'DD18', 'DD_18', 'MAR', 'RH', 'el', 'lat'])\n",
    "assert len(files) % 19 == 0  # assert 19 files per species/variety\n",
    "\n",
    "wza_files = defaultdict(dict)\n",
    "wza_envs = defaultdict(list)\n",
    "envs = set()\n",
    "for f in files:\n",
    "    spp, *env, suffix = op.basename(f).split(\"_\")\n",
    "    \n",
    "    if spp.lower() == 'dfc':\n",
    "        spp = 'fdc'\n",
    "    if spp.lower() == 'dfi':\n",
    "        spp = 'fdi'\n",
    "    \n",
    "    env = \"_\".join(env)\n",
    "    \n",
    "    envs = set(envs.union({env}))\n",
    "    \n",
    "    wza_files[spp.lower()][env] = f\n",
    "    wza_envs[spp.lower()].append(env)\n",
    "    \n",
    "envs = sorted(list(envs))\n",
    "    \n",
    "for spp, files in wza_files.items():\n",
    "    print(spp, len(files))"
   ]
  },
  {
   "cell_type": "code",
   "execution_count": 7,
   "metadata": {},
   "outputs": [
    {
     "data": {
      "text/plain": [
       "19"
      ]
     },
     "execution_count": 7,
     "metadata": {},
     "output_type": "execute_result"
    }
   ],
   "source": [
    "len(envs)"
   ]
  },
  {
   "cell_type": "code",
   "execution_count": 8,
   "metadata": {},
   "outputs": [
    {
     "data": {
      "text/plain": [
       "['AHM',\n",
       " 'CMD',\n",
       " 'DD5',\n",
       " 'DD_0',\n",
       " 'EMT',\n",
       " 'EXT',\n",
       " 'Eref',\n",
       " 'FFP',\n",
       " 'MAP',\n",
       " 'MAT',\n",
       " 'MCMT',\n",
       " 'MSP',\n",
       " 'MWMT',\n",
       " 'NFFD',\n",
       " 'PAS',\n",
       " 'SHM',\n",
       " 'TD',\n",
       " 'bFFP',\n",
       " 'eFFP']"
      ]
     },
     "execution_count": 8,
     "metadata": {},
     "output_type": "execute_result"
    }
   ],
   "source": [
    "envs"
   ]
  },
  {
   "cell_type": "code",
   "execution_count": null,
   "metadata": {},
   "outputs": [],
   "source": []
  },
  {
   "cell_type": "code",
   "execution_count": 9,
   "metadata": {},
   "outputs": [
    {
     "name": "stdout",
     "output_type": "stream",
     "text": [
      "fdc fdi 19\n",
      "fdc jp 19\n",
      "fdc wl 19\n",
      "fdi jp 19\n",
      "fdi wl 19\n",
      "jp wl 19\n"
     ]
    }
   ],
   "source": [
    "# make sure all envs overlap among files\n",
    "for i, sppi in enumerate(wza_envs.keys()):\n",
    "    for j, sppj in enumerate(wza_envs.keys()):\n",
    "        if i < j:\n",
    "            print(sppi, sppj, len(set(wza_envs[sppi]).intersection(wza_envs[sppj])))"
   ]
  },
  {
   "cell_type": "code",
   "execution_count": null,
   "metadata": {},
   "outputs": [],
   "source": []
  },
  {
   "cell_type": "code",
   "execution_count": 10,
   "metadata": {},
   "outputs": [
    {
     "name": "stderr",
     "output_type": "stream",
     "text": [
      "100%|███████████████| 4/4 [00:03<00:00,  1.15it/s]"
     ]
    },
    {
     "name": "stdout",
     "output_type": "stream",
     "text": [
      "AHM 982\n",
      "CMD 983\n",
      "DD5 983\n",
      "DD_0 979\n",
      "EMT 978\n",
      "EXT 978\n",
      "Eref 977\n",
      "FFP 980\n",
      "MAP 980\n",
      "MAT 979\n",
      "MCMT 980\n",
      "MSP 983\n",
      "MWMT 989\n",
      "NFFD 979\n",
      "PAS 982\n",
      "SHM 987\n",
      "TD 980\n",
      "bFFP 986\n",
      "eFFP 977\n"
     ]
    },
    {
     "name": "stderr",
     "output_type": "stream",
     "text": [
      "\n"
     ]
    },
    {
     "data": {
      "text/html": [
       "<div>\n",
       "<style scoped>\n",
       "    .dataframe tbody tr th:only-of-type {\n",
       "        vertical-align: middle;\n",
       "    }\n",
       "\n",
       "    .dataframe tbody tr th {\n",
       "        vertical-align: top;\n",
       "    }\n",
       "\n",
       "    .dataframe thead th {\n",
       "        text-align: right;\n",
       "    }\n",
       "</style>\n",
       "<table border=\"1\" class=\"dataframe\">\n",
       "  <thead>\n",
       "    <tr style=\"text-align: right;\">\n",
       "      <th></th>\n",
       "      <th>index</th>\n",
       "      <th>SNPs</th>\n",
       "      <th>hits</th>\n",
       "      <th>Z</th>\n",
       "      <th>top_candidate_p</th>\n",
       "      <th>Orthogroup</th>\n",
       "      <th>CHROM</th>\n",
       "      <th>Z_pVal</th>\n",
       "    </tr>\n",
       "  </thead>\n",
       "  <tbody>\n",
       "    <tr>\n",
       "      <th>0</th>\n",
       "      <td>PSME_24276</td>\n",
       "      <td>269.0</td>\n",
       "      <td>11.0</td>\n",
       "      <td>10.283452</td>\n",
       "      <td>1.032503e-04</td>\n",
       "      <td>OG0002864</td>\n",
       "      <td>jcf7190000045144</td>\n",
       "      <td>0.000000e+00</td>\n",
       "    </tr>\n",
       "    <tr>\n",
       "      <th>1</th>\n",
       "      <td>PSME_51134</td>\n",
       "      <td>274.0</td>\n",
       "      <td>14.0</td>\n",
       "      <td>7.809656</td>\n",
       "      <td>9.748793e-07</td>\n",
       "      <td>OG0043509</td>\n",
       "      <td>jcf7190000035367</td>\n",
       "      <td>0.000000e+00</td>\n",
       "    </tr>\n",
       "    <tr>\n",
       "      <th>2</th>\n",
       "      <td>PSME_09862</td>\n",
       "      <td>287.0</td>\n",
       "      <td>0.0</td>\n",
       "      <td>2.438399</td>\n",
       "      <td>1.000000e+00</td>\n",
       "      <td>OG0005852</td>\n",
       "      <td>jcf7190000044504</td>\n",
       "      <td>0.000000e+00</td>\n",
       "    </tr>\n",
       "    <tr>\n",
       "      <th>3</th>\n",
       "      <td>PSME_50037</td>\n",
       "      <td>13.0</td>\n",
       "      <td>7.0</td>\n",
       "      <td>9.052174</td>\n",
       "      <td>1.627888e-11</td>\n",
       "      <td>OG0000146</td>\n",
       "      <td>jcf7190000006878</td>\n",
       "      <td>3.736576e-09</td>\n",
       "    </tr>\n",
       "    <tr>\n",
       "      <th>4</th>\n",
       "      <td>PSME_48928</td>\n",
       "      <td>34.0</td>\n",
       "      <td>18.0</td>\n",
       "      <td>12.202710</td>\n",
       "      <td>1.892664e-27</td>\n",
       "      <td>OG0011715</td>\n",
       "      <td>jcf7190000003158</td>\n",
       "      <td>7.684966e-09</td>\n",
       "    </tr>\n",
       "  </tbody>\n",
       "</table>\n",
       "</div>"
      ],
      "text/plain": [
       "        index   SNPs  hits          Z  top_candidate_p Orthogroup  \\\n",
       "0  PSME_24276  269.0  11.0  10.283452     1.032503e-04  OG0002864   \n",
       "1  PSME_51134  274.0  14.0   7.809656     9.748793e-07  OG0043509   \n",
       "2  PSME_09862  287.0   0.0   2.438399     1.000000e+00  OG0005852   \n",
       "3  PSME_50037   13.0   7.0   9.052174     1.627888e-11  OG0000146   \n",
       "4  PSME_48928   34.0  18.0  12.202710     1.892664e-27  OG0011715   \n",
       "\n",
       "              CHROM        Z_pVal  \n",
       "0  jcf7190000045144  0.000000e+00  \n",
       "1  jcf7190000035367  0.000000e+00  \n",
       "2  jcf7190000044504  0.000000e+00  \n",
       "3  jcf7190000006878  3.736576e-09  \n",
       "4  jcf7190000003158  7.684966e-09  "
      ]
     },
     "execution_count": 10,
     "metadata": {},
     "output_type": "execute_result"
    }
   ],
   "source": [
    "# get the top 500 WZA genes by taking the prioritizing low values of Z_pVal of the WZA statistic\n",
    "\n",
    "cutoff = 500  # only keep top 100 genes\n",
    "count = {}\n",
    "wza_dfs = defaultdict(dict)\n",
    "for (spp, env), envfile in unwrap_dictionary(wza_files, progress_bar=True):\n",
    "    if spp=='fdi':\n",
    "        spp2 = 'fdi'\n",
    "    elif spp=='fdc':\n",
    "        spp2 = 'fdc'\n",
    "    elif spp=='jp':\n",
    "        spp2 = spp\n",
    "    elif spp=='wl':\n",
    "        spp2 = 'wl'\n",
    "    if spp in ['dfc', 'dfi']:\n",
    "        raise Exception(\"I don't like these labels\")\n",
    "\n",
    "        \n",
    "    df = pd.read_table(envfile, sep=',')\n",
    "    \n",
    "    if spp not in count:\n",
    "        count[spp] = nrow(df)\n",
    "    else:\n",
    "        assert count[spp] == nrow(df)\n",
    "        \n",
    "    wza_dfs[spp2][env] = df.sort_values(by='Z_pVal', ascending=True).iloc[:cutoff].reset_index(drop=True)\n",
    "\n",
    "\n",
    "    \n",
    "# add to combined (coastal + interior) - use top 500 from each variety\n",
    "for env, df in wza_dfs['fdc'].items():\n",
    "    fdidf = wza_dfs['fdi'][env]\n",
    "    fdcgenes = set(df['index'])\n",
    "    # if i don't subtract fdcgenes, then the dfs I get back will have duplicated genes\n",
    "    fdigenes = set(fdidf['index']) - set(fdcgenes)\n",
    "    cdf = pd.concat(\n",
    "        [df[df['index'].isin(fdcgenes)],\n",
    "         fdidf[fdidf['index'].isin(fdigenes)]]\n",
    "    ).reset_index(drop=True)\n",
    "    \n",
    "    assert luni(cdf['index']) == nrow(cdf)\n",
    "    \n",
    "    wza_dfs['combined'][env]  = cdf\n",
    "    \n",
    "    print(env, nrow(cdf))\n",
    "    \n",
    "wza_dfs['combined'][env].head()"
   ]
  },
  {
   "cell_type": "code",
   "execution_count": 11,
   "metadata": {
    "scrolled": true
   },
   "outputs": [
    {
     "name": "stdout",
     "output_type": "stream",
     "text": [
      "fdc AHM 500\n",
      "fdc CMD 500\n",
      "fdc DD5 500\n",
      "fdc DD_0 500\n",
      "fdc EMT 500\n",
      "fdc EXT 500\n",
      "fdc Eref 500\n",
      "fdc FFP 500\n",
      "fdc MAP 500\n",
      "fdc MAT 500\n",
      "fdc MCMT 500\n",
      "fdc MSP 500\n",
      "fdc MWMT 500\n",
      "fdc NFFD 500\n",
      "fdc PAS 500\n",
      "fdc SHM 500\n",
      "fdc TD 500\n",
      "fdc bFFP 500\n",
      "fdc eFFP 500\n",
      "fdi AHM 500\n",
      "fdi CMD 500\n",
      "fdi DD5 500\n",
      "fdi DD_0 500\n",
      "fdi EMT 500\n",
      "fdi EXT 500\n",
      "fdi Eref 500\n",
      "fdi FFP 500\n",
      "fdi MAP 500\n",
      "fdi MAT 500\n",
      "fdi MCMT 500\n",
      "fdi MSP 500\n",
      "fdi MWMT 500\n",
      "fdi NFFD 500\n",
      "fdi PAS 500\n",
      "fdi SHM 500\n",
      "fdi TD 500\n",
      "fdi bFFP 500\n",
      "fdi eFFP 500\n",
      "jp AHM 500\n",
      "jp CMD 500\n",
      "jp DD5 500\n",
      "jp DD_0 500\n",
      "jp EMT 500\n",
      "jp EXT 500\n",
      "jp Eref 500\n",
      "jp FFP 500\n",
      "jp MAP 500\n",
      "jp MAT 500\n",
      "jp MCMT 500\n",
      "jp MSP 500\n",
      "jp MWMT 500\n",
      "jp NFFD 500\n",
      "jp PAS 500\n",
      "jp SHM 500\n",
      "jp TD 500\n",
      "jp bFFP 500\n",
      "jp eFFP 500\n",
      "wl AHM 500\n",
      "wl CMD 500\n",
      "wl DD5 500\n",
      "wl DD_0 500\n",
      "wl EMT 500\n",
      "wl EXT 500\n",
      "wl Eref 500\n",
      "wl FFP 500\n",
      "wl MAP 500\n",
      "wl MAT 500\n",
      "wl MCMT 500\n",
      "wl MSP 500\n",
      "wl MWMT 500\n",
      "wl NFFD 500\n",
      "wl PAS 500\n",
      "wl SHM 500\n",
      "wl TD 500\n",
      "wl bFFP 500\n",
      "wl eFFP 500\n",
      "combined AHM 982\n",
      "combined CMD 983\n",
      "combined DD5 983\n",
      "combined DD_0 979\n",
      "combined EMT 978\n",
      "combined EXT 978\n",
      "combined Eref 977\n",
      "combined FFP 980\n",
      "combined MAP 980\n",
      "combined MAT 979\n",
      "combined MCMT 980\n",
      "combined MSP 983\n",
      "combined MWMT 989\n",
      "combined NFFD 979\n",
      "combined PAS 982\n",
      "combined SHM 987\n",
      "combined TD 980\n",
      "combined bFFP 986\n",
      "combined eFFP 977\n"
     ]
    }
   ],
   "source": [
    "# how many genes per group?\n",
    "for (spp, env), df in unwrap_dictionary(wza_dfs):\n",
    "    print(spp, env, nrow(df))\n",
    "    \n",
    "# before revision:\n",
    "# combined AHM 198\n",
    "# combined CMD 198\n",
    "# combined DD5 198\n",
    "# combined DD_0 198\n",
    "# combined EMT 200\n",
    "# combined EXT 198\n",
    "# combined Elevation 192\n",
    "# combined Eref 199\n",
    "# combined FFP 199\n",
    "# combined MAP 199\n",
    "# combined MAT 199\n",
    "# combined MCMT 199\n",
    "# combined MSP 198\n",
    "# combined MWMT 198\n",
    "# combined NFFD 199\n",
    "# combined PAS 197\n",
    "# combined SHM 198\n",
    "# combined TD 196\n",
    "# combined bFFP 200\n",
    "# combined eFFP 200"
   ]
  },
  {
   "cell_type": "code",
   "execution_count": null,
   "metadata": {},
   "outputs": [],
   "source": []
  },
  {
   "cell_type": "code",
   "execution_count": null,
   "metadata": {},
   "outputs": [],
   "source": []
  },
  {
   "cell_type": "code",
   "execution_count": 12,
   "metadata": {},
   "outputs": [
    {
     "name": "stdout",
     "output_type": "stream",
     "text": [
      "fdc 2401\n",
      "fdi 2774\n",
      "jp 1975\n",
      "wl 3239\n",
      "combined 4776\n"
     ]
    }
   ],
   "source": [
    "# get a list of the unique wza genes across envs (for asserting correct annotation later on)\n",
    "wza_genes = defaultdict(set)\n",
    "for (spp, env), df in unwrap_dictionary(wza_dfs):\n",
    "    if len(wza_genes[spp]) == 0:\n",
    "        wza_genes[spp] = df['index'].tolist()\n",
    "    else:\n",
    "        wza_genes[spp] = set(list(wza_genes[spp]) + df['index'].tolist())\n",
    "    \n",
    "for spp, genes in wza_genes.items():\n",
    "    print(spp, len(genes))\n",
    "    \n",
    "# before revision:\n",
    "# fdc 569\n",
    "# fdi 661\n",
    "# jp 483\n",
    "# wl 731\n",
    "# combined 1194"
   ]
  },
  {
   "cell_type": "code",
   "execution_count": null,
   "metadata": {},
   "outputs": [],
   "source": []
  },
  {
   "cell_type": "markdown",
   "metadata": {},
   "source": [
    "##### determine loci within WZA genes by annotating loci with gene start/stops"
   ]
  },
  {
   "cell_type": "code",
   "execution_count": 13,
   "metadata": {},
   "outputs": [],
   "source": [
    "def get_wza_loci(spp):\n",
    "    \"\"\"Get loci from WZA genes that have abs(tau) > 0.5 with any env.\"\"\"\n",
    "    import pandas as pd\n",
    "    corrdir = '/data/projects/convergence/correlations/Correlations'\n",
    "    \n",
    "    f = f'{corrdir}/{spp}.climatena.clean.csv'\n",
    "    cor_df = pd.read_table(f, sep=',', usecols=envs + ['CHROM', 'POS', 'gene_ID'], low_memory=False)\n",
    "    \n",
    "    cor_df.index = cor_df['CHROM'] + '-' + cor_df['POS'].astype(str)\n",
    "    \n",
    "    # the loci in wza genes\n",
    "    gene_loci = cor_df[cor_df.gene_ID.isin(wza_genes[spp])]\n",
    "    \n",
    "    # the loci that have abs(tau) > 0.5 for any env\n",
    "    loci_df = gene_loci[\n",
    "        gene_loci[envs].apply(lambda env_taus: (env_taus.abs() > 0.5).any(), axis=1)\n",
    "    ]\n",
    "    \n",
    "    # now overwrite tau score with True or False to indicate env set\n",
    "    loci_df[envs] = loci_df[envs].abs() > 0.5\n",
    "    \n",
    "    return loci_df\n",
    "\n",
    "dview['envs'] = envs\n",
    "dview['wza_genes'] = wza_genes"
   ]
  },
  {
   "cell_type": "code",
   "execution_count": 14,
   "metadata": {},
   "outputs": [
    {
     "name": "stdout",
     "output_type": "stream",
     "text": [
      "\u001b[1m\n",
      "Watching 4 jobs ...\u001b[0m\n"
     ]
    },
    {
     "name": "stderr",
     "output_type": "stream",
     "text": [
      "100%|███████████████| 4/4 [00:57<00:00, 14.25s/it]\n"
     ]
    }
   ],
   "source": [
    "# get wza dfs in parallel\n",
    "jobs = []\n",
    "for spp in wza_dfs.keys():\n",
    "    if spp == 'combined':  # no file for combined, just add two varieties together later on\n",
    "        continue\n",
    "        \n",
    "    jobs.append(\n",
    "        lview.apply_async(\n",
    "            get_wza_loci, spp\n",
    "        )\n",
    "    )\n",
    "    \n",
    "watch_async(jobs)"
   ]
  },
  {
   "cell_type": "code",
   "execution_count": 15,
   "metadata": {
    "scrolled": true
   },
   "outputs": [
    {
     "name": "stdout",
     "output_type": "stream",
     "text": [
      "fdc 2401 3770\n"
     ]
    },
    {
     "data": {
      "text/html": [
       "<div>\n",
       "<style scoped>\n",
       "    .dataframe tbody tr th:only-of-type {\n",
       "        vertical-align: middle;\n",
       "    }\n",
       "\n",
       "    .dataframe tbody tr th {\n",
       "        vertical-align: top;\n",
       "    }\n",
       "\n",
       "    .dataframe thead th {\n",
       "        text-align: right;\n",
       "    }\n",
       "</style>\n",
       "<table border=\"1\" class=\"dataframe\">\n",
       "  <thead>\n",
       "    <tr style=\"text-align: right;\">\n",
       "      <th></th>\n",
       "      <th>CHROM</th>\n",
       "      <th>POS</th>\n",
       "      <th>gene_ID</th>\n",
       "      <th>MAT</th>\n",
       "      <th>MWMT</th>\n",
       "      <th>MCMT</th>\n",
       "      <th>TD</th>\n",
       "      <th>MAP</th>\n",
       "      <th>MSP</th>\n",
       "      <th>AHM</th>\n",
       "      <th>SHM</th>\n",
       "      <th>DD_0</th>\n",
       "      <th>DD5</th>\n",
       "      <th>NFFD</th>\n",
       "      <th>bFFP</th>\n",
       "      <th>eFFP</th>\n",
       "      <th>FFP</th>\n",
       "      <th>PAS</th>\n",
       "      <th>EMT</th>\n",
       "      <th>EXT</th>\n",
       "      <th>Eref</th>\n",
       "      <th>CMD</th>\n",
       "    </tr>\n",
       "  </thead>\n",
       "  <tbody>\n",
       "    <tr>\n",
       "      <th>jcf7190000000596-226265</th>\n",
       "      <td>jcf7190000000596</td>\n",
       "      <td>226265</td>\n",
       "      <td>PSME_46807</td>\n",
       "      <td>False</td>\n",
       "      <td>False</td>\n",
       "      <td>False</td>\n",
       "      <td>False</td>\n",
       "      <td>False</td>\n",
       "      <td>False</td>\n",
       "      <td>False</td>\n",
       "      <td>False</td>\n",
       "      <td>False</td>\n",
       "      <td>False</td>\n",
       "      <td>False</td>\n",
       "      <td>False</td>\n",
       "      <td>False</td>\n",
       "      <td>False</td>\n",
       "      <td>False</td>\n",
       "      <td>False</td>\n",
       "      <td>False</td>\n",
       "      <td>True</td>\n",
       "      <td>False</td>\n",
       "    </tr>\n",
       "    <tr>\n",
       "      <th>jcf7190000000596-226519</th>\n",
       "      <td>jcf7190000000596</td>\n",
       "      <td>226519</td>\n",
       "      <td>PSME_46807</td>\n",
       "      <td>False</td>\n",
       "      <td>False</td>\n",
       "      <td>False</td>\n",
       "      <td>False</td>\n",
       "      <td>False</td>\n",
       "      <td>False</td>\n",
       "      <td>False</td>\n",
       "      <td>False</td>\n",
       "      <td>False</td>\n",
       "      <td>False</td>\n",
       "      <td>False</td>\n",
       "      <td>False</td>\n",
       "      <td>False</td>\n",
       "      <td>False</td>\n",
       "      <td>False</td>\n",
       "      <td>False</td>\n",
       "      <td>False</td>\n",
       "      <td>True</td>\n",
       "      <td>False</td>\n",
       "    </tr>\n",
       "  </tbody>\n",
       "</table>\n",
       "</div>"
      ],
      "text/plain": [
       "                                    CHROM     POS     gene_ID    MAT   MWMT  \\\n",
       "jcf7190000000596-226265  jcf7190000000596  226265  PSME_46807  False  False   \n",
       "jcf7190000000596-226519  jcf7190000000596  226519  PSME_46807  False  False   \n",
       "\n",
       "                          MCMT     TD    MAP    MSP    AHM    SHM   DD_0  \\\n",
       "jcf7190000000596-226265  False  False  False  False  False  False  False   \n",
       "jcf7190000000596-226519  False  False  False  False  False  False  False   \n",
       "\n",
       "                           DD5   NFFD   bFFP   eFFP    FFP    PAS    EMT  \\\n",
       "jcf7190000000596-226265  False  False  False  False  False  False  False   \n",
       "jcf7190000000596-226519  False  False  False  False  False  False  False   \n",
       "\n",
       "                           EXT  Eref    CMD  \n",
       "jcf7190000000596-226265  False  True  False  \n",
       "jcf7190000000596-226519  False  True  False  "
      ]
     },
     "metadata": {},
     "output_type": "display_data"
    },
    {
     "name": "stdout",
     "output_type": "stream",
     "text": [
      "fdi 2774 1787\n"
     ]
    },
    {
     "data": {
      "text/html": [
       "<div>\n",
       "<style scoped>\n",
       "    .dataframe tbody tr th:only-of-type {\n",
       "        vertical-align: middle;\n",
       "    }\n",
       "\n",
       "    .dataframe tbody tr th {\n",
       "        vertical-align: top;\n",
       "    }\n",
       "\n",
       "    .dataframe thead th {\n",
       "        text-align: right;\n",
       "    }\n",
       "</style>\n",
       "<table border=\"1\" class=\"dataframe\">\n",
       "  <thead>\n",
       "    <tr style=\"text-align: right;\">\n",
       "      <th></th>\n",
       "      <th>CHROM</th>\n",
       "      <th>POS</th>\n",
       "      <th>gene_ID</th>\n",
       "      <th>MAT</th>\n",
       "      <th>MWMT</th>\n",
       "      <th>MCMT</th>\n",
       "      <th>TD</th>\n",
       "      <th>MAP</th>\n",
       "      <th>MSP</th>\n",
       "      <th>AHM</th>\n",
       "      <th>SHM</th>\n",
       "      <th>DD_0</th>\n",
       "      <th>DD5</th>\n",
       "      <th>NFFD</th>\n",
       "      <th>bFFP</th>\n",
       "      <th>eFFP</th>\n",
       "      <th>FFP</th>\n",
       "      <th>PAS</th>\n",
       "      <th>EMT</th>\n",
       "      <th>EXT</th>\n",
       "      <th>Eref</th>\n",
       "      <th>CMD</th>\n",
       "    </tr>\n",
       "  </thead>\n",
       "  <tbody>\n",
       "    <tr>\n",
       "      <th>jcf7190000000037-18788</th>\n",
       "      <td>jcf7190000000037</td>\n",
       "      <td>18788</td>\n",
       "      <td>PSME_41321</td>\n",
       "      <td>False</td>\n",
       "      <td>False</td>\n",
       "      <td>False</td>\n",
       "      <td>False</td>\n",
       "      <td>False</td>\n",
       "      <td>False</td>\n",
       "      <td>False</td>\n",
       "      <td>False</td>\n",
       "      <td>False</td>\n",
       "      <td>False</td>\n",
       "      <td>False</td>\n",
       "      <td>False</td>\n",
       "      <td>False</td>\n",
       "      <td>False</td>\n",
       "      <td>False</td>\n",
       "      <td>True</td>\n",
       "      <td>False</td>\n",
       "      <td>False</td>\n",
       "      <td>False</td>\n",
       "    </tr>\n",
       "    <tr>\n",
       "      <th>jcf7190000000125-73057</th>\n",
       "      <td>jcf7190000000125</td>\n",
       "      <td>73057</td>\n",
       "      <td>PSME_12765</td>\n",
       "      <td>False</td>\n",
       "      <td>False</td>\n",
       "      <td>True</td>\n",
       "      <td>False</td>\n",
       "      <td>False</td>\n",
       "      <td>False</td>\n",
       "      <td>False</td>\n",
       "      <td>False</td>\n",
       "      <td>False</td>\n",
       "      <td>False</td>\n",
       "      <td>False</td>\n",
       "      <td>False</td>\n",
       "      <td>False</td>\n",
       "      <td>False</td>\n",
       "      <td>False</td>\n",
       "      <td>True</td>\n",
       "      <td>False</td>\n",
       "      <td>False</td>\n",
       "      <td>False</td>\n",
       "    </tr>\n",
       "  </tbody>\n",
       "</table>\n",
       "</div>"
      ],
      "text/plain": [
       "                                   CHROM    POS     gene_ID    MAT   MWMT  \\\n",
       "jcf7190000000037-18788  jcf7190000000037  18788  PSME_41321  False  False   \n",
       "jcf7190000000125-73057  jcf7190000000125  73057  PSME_12765  False  False   \n",
       "\n",
       "                         MCMT     TD    MAP    MSP    AHM    SHM   DD_0  \\\n",
       "jcf7190000000037-18788  False  False  False  False  False  False  False   \n",
       "jcf7190000000125-73057   True  False  False  False  False  False  False   \n",
       "\n",
       "                          DD5   NFFD   bFFP   eFFP    FFP    PAS   EMT    EXT  \\\n",
       "jcf7190000000037-18788  False  False  False  False  False  False  True  False   \n",
       "jcf7190000000125-73057  False  False  False  False  False  False  True  False   \n",
       "\n",
       "                         Eref    CMD  \n",
       "jcf7190000000037-18788  False  False  \n",
       "jcf7190000000125-73057  False  False  "
      ]
     },
     "metadata": {},
     "output_type": "display_data"
    },
    {
     "name": "stdout",
     "output_type": "stream",
     "text": [
      "jp 1975 8564\n"
     ]
    },
    {
     "data": {
      "text/html": [
       "<div>\n",
       "<style scoped>\n",
       "    .dataframe tbody tr th:only-of-type {\n",
       "        vertical-align: middle;\n",
       "    }\n",
       "\n",
       "    .dataframe tbody tr th {\n",
       "        vertical-align: top;\n",
       "    }\n",
       "\n",
       "    .dataframe thead th {\n",
       "        text-align: right;\n",
       "    }\n",
       "</style>\n",
       "<table border=\"1\" class=\"dataframe\">\n",
       "  <thead>\n",
       "    <tr style=\"text-align: right;\">\n",
       "      <th></th>\n",
       "      <th>CHROM</th>\n",
       "      <th>POS</th>\n",
       "      <th>gene_ID</th>\n",
       "      <th>MAT</th>\n",
       "      <th>MWMT</th>\n",
       "      <th>MCMT</th>\n",
       "      <th>TD</th>\n",
       "      <th>MAP</th>\n",
       "      <th>MSP</th>\n",
       "      <th>AHM</th>\n",
       "      <th>SHM</th>\n",
       "      <th>DD_0</th>\n",
       "      <th>DD5</th>\n",
       "      <th>NFFD</th>\n",
       "      <th>bFFP</th>\n",
       "      <th>eFFP</th>\n",
       "      <th>FFP</th>\n",
       "      <th>PAS</th>\n",
       "      <th>EMT</th>\n",
       "      <th>EXT</th>\n",
       "      <th>Eref</th>\n",
       "      <th>CMD</th>\n",
       "    </tr>\n",
       "  </thead>\n",
       "  <tbody>\n",
       "    <tr>\n",
       "      <th>C3778067-411</th>\n",
       "      <td>C3778067</td>\n",
       "      <td>411</td>\n",
       "      <td>PITA_22571</td>\n",
       "      <td>True</td>\n",
       "      <td>False</td>\n",
       "      <td>True</td>\n",
       "      <td>False</td>\n",
       "      <td>False</td>\n",
       "      <td>False</td>\n",
       "      <td>False</td>\n",
       "      <td>False</td>\n",
       "      <td>True</td>\n",
       "      <td>True</td>\n",
       "      <td>False</td>\n",
       "      <td>False</td>\n",
       "      <td>True</td>\n",
       "      <td>False</td>\n",
       "      <td>False</td>\n",
       "      <td>True</td>\n",
       "      <td>False</td>\n",
       "      <td>True</td>\n",
       "      <td>False</td>\n",
       "    </tr>\n",
       "    <tr>\n",
       "      <th>C3898871-4973</th>\n",
       "      <td>C3898871</td>\n",
       "      <td>4973</td>\n",
       "      <td>PITA_48292</td>\n",
       "      <td>False</td>\n",
       "      <td>False</td>\n",
       "      <td>True</td>\n",
       "      <td>False</td>\n",
       "      <td>False</td>\n",
       "      <td>False</td>\n",
       "      <td>False</td>\n",
       "      <td>False</td>\n",
       "      <td>False</td>\n",
       "      <td>False</td>\n",
       "      <td>False</td>\n",
       "      <td>False</td>\n",
       "      <td>False</td>\n",
       "      <td>False</td>\n",
       "      <td>False</td>\n",
       "      <td>False</td>\n",
       "      <td>False</td>\n",
       "      <td>False</td>\n",
       "      <td>False</td>\n",
       "    </tr>\n",
       "  </tbody>\n",
       "</table>\n",
       "</div>"
      ],
      "text/plain": [
       "                  CHROM   POS     gene_ID    MAT   MWMT  MCMT     TD    MAP  \\\n",
       "C3778067-411   C3778067   411  PITA_22571   True  False  True  False  False   \n",
       "C3898871-4973  C3898871  4973  PITA_48292  False  False  True  False  False   \n",
       "\n",
       "                 MSP    AHM    SHM   DD_0    DD5   NFFD   bFFP   eFFP    FFP  \\\n",
       "C3778067-411   False  False  False   True   True  False  False   True  False   \n",
       "C3898871-4973  False  False  False  False  False  False  False  False  False   \n",
       "\n",
       "                 PAS    EMT    EXT   Eref    CMD  \n",
       "C3778067-411   False   True  False   True  False  \n",
       "C3898871-4973  False  False  False  False  False  "
      ]
     },
     "metadata": {},
     "output_type": "display_data"
    },
    {
     "name": "stdout",
     "output_type": "stream",
     "text": [
      "wl 3239 79\n"
     ]
    },
    {
     "data": {
      "text/html": [
       "<div>\n",
       "<style scoped>\n",
       "    .dataframe tbody tr th:only-of-type {\n",
       "        vertical-align: middle;\n",
       "    }\n",
       "\n",
       "    .dataframe tbody tr th {\n",
       "        vertical-align: top;\n",
       "    }\n",
       "\n",
       "    .dataframe thead th {\n",
       "        text-align: right;\n",
       "    }\n",
       "</style>\n",
       "<table border=\"1\" class=\"dataframe\">\n",
       "  <thead>\n",
       "    <tr style=\"text-align: right;\">\n",
       "      <th></th>\n",
       "      <th>CHROM</th>\n",
       "      <th>POS</th>\n",
       "      <th>gene_ID</th>\n",
       "      <th>MAT</th>\n",
       "      <th>MWMT</th>\n",
       "      <th>MCMT</th>\n",
       "      <th>TD</th>\n",
       "      <th>MAP</th>\n",
       "      <th>MSP</th>\n",
       "      <th>AHM</th>\n",
       "      <th>SHM</th>\n",
       "      <th>DD_0</th>\n",
       "      <th>DD5</th>\n",
       "      <th>NFFD</th>\n",
       "      <th>bFFP</th>\n",
       "      <th>eFFP</th>\n",
       "      <th>FFP</th>\n",
       "      <th>PAS</th>\n",
       "      <th>EMT</th>\n",
       "      <th>EXT</th>\n",
       "      <th>Eref</th>\n",
       "      <th>CMD</th>\n",
       "    </tr>\n",
       "  </thead>\n",
       "  <tbody>\n",
       "    <tr>\n",
       "      <th>jcf7190000000692-270237</th>\n",
       "      <td>jcf7190000000692</td>\n",
       "      <td>270237</td>\n",
       "      <td>PSME_51316</td>\n",
       "      <td>False</td>\n",
       "      <td>False</td>\n",
       "      <td>False</td>\n",
       "      <td>False</td>\n",
       "      <td>False</td>\n",
       "      <td>False</td>\n",
       "      <td>False</td>\n",
       "      <td>False</td>\n",
       "      <td>False</td>\n",
       "      <td>False</td>\n",
       "      <td>False</td>\n",
       "      <td>True</td>\n",
       "      <td>False</td>\n",
       "      <td>False</td>\n",
       "      <td>False</td>\n",
       "      <td>False</td>\n",
       "      <td>False</td>\n",
       "      <td>False</td>\n",
       "      <td>False</td>\n",
       "    </tr>\n",
       "    <tr>\n",
       "      <th>jcf7190000002074-572582</th>\n",
       "      <td>jcf7190000002074</td>\n",
       "      <td>572582</td>\n",
       "      <td>PSME_14131</td>\n",
       "      <td>False</td>\n",
       "      <td>False</td>\n",
       "      <td>True</td>\n",
       "      <td>False</td>\n",
       "      <td>False</td>\n",
       "      <td>False</td>\n",
       "      <td>False</td>\n",
       "      <td>False</td>\n",
       "      <td>False</td>\n",
       "      <td>False</td>\n",
       "      <td>False</td>\n",
       "      <td>False</td>\n",
       "      <td>False</td>\n",
       "      <td>False</td>\n",
       "      <td>False</td>\n",
       "      <td>False</td>\n",
       "      <td>False</td>\n",
       "      <td>False</td>\n",
       "      <td>False</td>\n",
       "    </tr>\n",
       "  </tbody>\n",
       "</table>\n",
       "</div>"
      ],
      "text/plain": [
       "                                    CHROM     POS     gene_ID    MAT   MWMT  \\\n",
       "jcf7190000000692-270237  jcf7190000000692  270237  PSME_51316  False  False   \n",
       "jcf7190000002074-572582  jcf7190000002074  572582  PSME_14131  False  False   \n",
       "\n",
       "                          MCMT     TD    MAP    MSP    AHM    SHM   DD_0  \\\n",
       "jcf7190000000692-270237  False  False  False  False  False  False  False   \n",
       "jcf7190000002074-572582   True  False  False  False  False  False  False   \n",
       "\n",
       "                           DD5   NFFD   bFFP   eFFP    FFP    PAS    EMT  \\\n",
       "jcf7190000000692-270237  False  False   True  False  False  False  False   \n",
       "jcf7190000002074-572582  False  False  False  False  False  False  False   \n",
       "\n",
       "                           EXT   Eref    CMD  \n",
       "jcf7190000000692-270237  False  False  False  \n",
       "jcf7190000002074-572582  False  False  False  "
      ]
     },
     "metadata": {},
     "output_type": "display_data"
    }
   ],
   "source": [
    "# retrieve parallel dfs\n",
    "wza_loci = {}\n",
    "for i, spp in enumerate(keys(wza_dfs)):\n",
    "    if spp == 'combined':\n",
    "        continue\n",
    "\n",
    "    wza_loci[spp] = jobs[i].r\n",
    "\n",
    "    print(spp, len(wza_genes[spp]), nrow(wza_loci[spp]))\n",
    "    display(wza_loci[spp].head(2))"
   ]
  },
  {
   "cell_type": "code",
   "execution_count": 16,
   "metadata": {},
   "outputs": [
    {
     "name": "stdout",
     "output_type": "stream",
     "text": [
      "5550\n",
      "4810\n",
      "combined 4776 4810\n"
     ]
    }
   ],
   "source": [
    "# create combined file\n",
    "interloci = list(set(wza_loci['fdc'].index).intersection(wza_loci['fdi'].index))\n",
    "interdf = wza_loci['fdc'].loc[interloci].copy()\n",
    "for env in envs:\n",
    "    for locus in interloci:\n",
    "        fdi_bool = wza_loci['fdi'][env].loc[locus]\n",
    "        fdc_bool = wza_loci['fdc'][env].loc[locus]\n",
    "        interdf.loc[locus, env] = any([fdi_bool, fdc_bool])\n",
    "        \n",
    "# combine the loci in the intersection with the variety-specific dataframes\n",
    "rem_df = pd.concat(\n",
    "    [\n",
    "        interdf,\n",
    "        wza_loci['fdc'][~wza_loci['fdc'].index.isin(interloci)].copy(),\n",
    "        wza_loci['fdi'][~wza_loci['fdi'].index.isin(interloci)].copy()\n",
    "    ]\n",
    ")\n",
    "\n",
    "assert luni(rem_df.index) == nrow(rem_df)  # make sure no locus duplications\n",
    "\n",
    "# reduce loci to those that pass cross-variety filtering\n",
    "print(nrow(rem_df))\n",
    "rem_df2 = rem_df[rem_df.index.isin(snps['combined'].index)].copy()\n",
    "print(nrow(rem_df2))\n",
    "\n",
    "wza_loci['combined'] = rem_df2\n",
    "print('combined', len(wza_genes['combined']), nrow(wza_loci['combined']))"
   ]
  },
  {
   "cell_type": "code",
   "execution_count": 17,
   "metadata": {
    "scrolled": true
   },
   "outputs": [
    {
     "data": {
      "image/png": "[encoded data removed]",
      "text/plain": [
       "<Figure size 432x288 with 1 Axes>"
      ]
     },
     "metadata": {
      "needs_background": "light"
     },
     "output_type": "display_data"
    },
    {
     "data": {
      "image/png": "[encoded data removed]",
      "text/plain": [
       "<Figure size 432x288 with 1 Axes>"
      ]
     },
     "metadata": {
      "needs_background": "light"
     },
     "output_type": "display_data"
    },
    {
     "data": {
      "image/png": "[encoded data removed]",
      "text/plain": [
       "<Figure size 432x288 with 1 Axes>"
      ]
     },
     "metadata": {
      "needs_background": "light"
     },
     "output_type": "display_data"
    },
    {
     "data": {
      "image/png": "[encoded data removed]",
      "text/plain": [
       "<Figure size 432x288 with 1 Axes>"
      ]
     },
     "metadata": {
      "needs_background": "light"
     },
     "output_type": "display_data"
    },
    {
     "data": {
      "image/png": "[encoded data removed]",
      "text/plain": [
       "<Figure size 432x288 with 1 Axes>"
      ]
     },
     "metadata": {
      "needs_background": "light"
     },
     "output_type": "display_data"
    }
   ],
   "source": [
    "# how many times was a given gene associated to X number of envs? \n",
    "# - this actually counts loci, not genes (but loci are within genes so shape of hist should be consistent)\n",
    "for spp, locidf in wza_loci.items():\n",
    "    locidf['sums'] = locidf[envs].apply(lambda env_bools: env_bools.sum(), axis=1)\n",
    "    \n",
    "    locidf['sums'].hist(bins=20)\n",
    "    plt.title(spp)\n",
    "    try:\n",
    "        plt.xticks(range(0,\n",
    "                         locidf['sums'].max(),\n",
    "                         1))\n",
    "    except TypeError as e:\n",
    "        fail_msg = f'******* error for {spp} *******'\n",
    "        border = '*' * len(fail_msg)\n",
    "        print(ColorText(f'{border}\\n{fail_msg}\\n{border}').fail().bold())\n",
    "    plt.show()"
   ]
  },
  {
   "cell_type": "code",
   "execution_count": null,
   "metadata": {},
   "outputs": [],
   "source": []
  },
  {
   "cell_type": "code",
   "execution_count": null,
   "metadata": {},
   "outputs": [],
   "source": []
  },
  {
   "cell_type": "code",
   "execution_count": null,
   "metadata": {},
   "outputs": [],
   "source": []
  },
  {
   "cell_type": "code",
   "execution_count": 18,
   "metadata": {},
   "outputs": [
    {
     "name": "stdout",
     "output_type": "stream",
     "text": [
      "\u001b[1m\n",
      "Watching 56 parallel_read() jobs ...\u001b[0m\n"
     ]
    },
    {
     "name": "stderr",
     "output_type": "stream",
     "text": [
      "WL_pseudo-varscan_all_bedfiles_SNP_maf_RD-recalculated.txt: 100%|███████████████| 56/56 [00:18<00:00,  3.05it/s]\n"
     ]
    },
    {
     "name": "stdout",
     "output_type": "stream",
     "text": [
      "Function `parallel_read` completed after : 0-00:00:30\n"
     ]
    },
    {
     "data": {
      "text/plain": [
       "(1465277, 1465277)"
      ]
     },
     "execution_count": 18,
     "metadata": {},
     "output_type": "execute_result"
    }
   ],
   "source": [
    "# translate WL stitched to unstitched position (wza team accidentally used stitched position)\n",
    "\n",
    "def translate(df):\n",
    "    \"\"\"Translate WL stitched to unstitched locus names.\"\"\"\n",
    "    return dict(zip(df['locus'], df['unstitched_locus']))\n",
    "\n",
    "dicts = parallel_read(\n",
    "    snp_files['wl'],\n",
    "    lview=lview,\n",
    "    dview=dview,\n",
    "    verbose=False,\n",
    "    maintain_dataframe=False,\n",
    "    functions=create_fundict(translate)\n",
    ")\n",
    "\n",
    "wl_trans = {}\n",
    "counts = 0\n",
    "for d in dicts:\n",
    "    wl_trans.update(d)\n",
    "    counts += len(d)\n",
    "    \n",
    "len(wl_trans), counts"
   ]
  },
  {
   "cell_type": "code",
   "execution_count": null,
   "metadata": {},
   "outputs": [],
   "source": []
  },
  {
   "cell_type": "code",
   "execution_count": 19,
   "metadata": {
    "scrolled": true
   },
   "outputs": [
    {
     "name": "stdout",
     "output_type": "stream",
     "text": [
      "fdc 3770\n",
      "fdi 1787\n",
      "jp 8564\n",
      "wl 79\n",
      "combined 4810\n"
     ]
    }
   ],
   "source": [
    "wza = {}\n",
    "for spp, df in wza_loci.items():\n",
    "    loci = df.index\n",
    "    \n",
    "    # edit the name of some loci\n",
    "    if spp in ['jp', 'wl']:\n",
    "        loci = '>' + loci\n",
    "    \n",
    "    # make sure all loci names are in the snp tables\n",
    "    x = snps[spp].loc[loci]\n",
    "    \n",
    "    wza[spp] = list(loci)\n",
    "    \n",
    "    print(spp, len(wza[spp]))\n",
    "    \n",
    "# before revision\n",
    "# fdc 4886\n",
    "# fdi 11434\n",
    "# jp 4788\n",
    "# wl 8496\n",
    "# combined 14760"
   ]
  },
  {
   "cell_type": "code",
   "execution_count": null,
   "metadata": {},
   "outputs": [],
   "source": []
  },
  {
   "cell_type": "code",
   "execution_count": null,
   "metadata": {},
   "outputs": [],
   "source": []
  },
  {
   "cell_type": "markdown",
   "metadata": {},
   "source": [
    "### non-outliers (pseudo random)\n",
    "\n",
    "- these are loci that have kendall's tau < 0.1 for ALL envs\n",
    "- I'll choose randomly among these loci to match sample sizes in WZA (above) and baypass (below)\n",
    "- truly random loci (without respect to outlier status) are chosen after baypass below"
   ]
  },
  {
   "cell_type": "code",
   "execution_count": 20,
   "metadata": {},
   "outputs": [],
   "source": [
    "# def get_non_outliers(tau_table):\n",
    "#     \"\"\"Return only loci that have Kendall's Tau < 0.1.\n",
    "    \n",
    "#     `tau_table` is the input to the WZA test.\n",
    "#     \"\"\"\n",
    "#     return tau_table[tau_table['kendallstau'] < 0.1]\n",
    "\n",
    "# # my 20 envs that I'm using to train gradient forest\n",
    "# envs = ['Elevation', 'AHM', 'CMD', 'DD5', 'DD_0', 'EMT', 'EXT', 'Eref', 'FFP', 'MAP',\n",
    "#         'MAT', 'MCMT', 'MSP', 'MWMT', 'NFFD', 'PAS', 'SHM', 'TD', 'bFFP', 'eFFP']\n",
    "# assert len(envs) == 20\n",
    "\n",
    "\n",
    "# non_outliers = {}\n",
    "# for spp,d in zip(['fdc', 'fdi', 'jp', 'wl'], wzadirs):\n",
    "#     files = fs(d, pattern='kendallstau')\n",
    "#     assert len(files) == 1\n",
    "    \n",
    "#     # read in kendall's tau results\n",
    "#     taudf = parallel_read(files[0],\n",
    "#                           lview=lview,\n",
    "#                           dview=dview,\n",
    "#                           verbose=False,\n",
    "#                           assert_rowcount=False,\n",
    "#                           functions=create_fundict(get_non_outliers),\n",
    "#                           desc=spp)\n",
    "\n",
    "#     # make sure all 20 envs are in the df, reduce tau results to only those envs\n",
    "#     assert sum(pd.Series(envs).isin(taudf['env'])) == 20\n",
    "#     taudf = taudf[taudf['env'].isin(envs)]\n",
    "    \n",
    "#     # find loci that have low tau across all envs\n",
    "#     # (if tau < 0.1 for a locus for all envs, a locus should occur 20 times in the full filtered tau_table \n",
    "#         # - I have 20 envs)\n",
    "#     locus_counter = Counter(taudf['snp'])\n",
    "#     low_tau = [locus for (locus,count) in locus_counter.items() if count == 20]\n",
    "    \n",
    "#     # clean up locus names\n",
    "#     if spp in ['jp', 'wl']:\n",
    "#         # append '>' before locus name\n",
    "#         low_tau = ['>' + locus for locus in low_tau]\n",
    "#     if spp == 'wl':\n",
    "#         # translate to unstitched positions - wza team used stitched\n",
    "#         low_tau = [wl_trans[locus.replace('>', '')] for locus in low_tau]\n",
    "        \n",
    "#     # make sure numbers make sense - I should be able to find all of the outliers in the snp table\n",
    "#         # this will ensure that they should be in the annotated loci that fall within WZA genes\n",
    "#     assert len(set(low_tau).intersection(snps[spp].index)) == luni(low_tau)\n",
    "    \n",
    "#     non_outliers[spp] = uni(low_tau)\n",
    "#     print(spp, len(non_outliers[spp]))\n",
    "    \n",
    "\n",
    "# # combine coastal and interior, reduce to those SNPs called across varieities    \n",
    "# non_outliers['combined'] = list(set(\n",
    "#     non_outliers['fdi'] + non_outliers['fdc']\n",
    "# ).intersection(snps['combined'].index.tolist()))\n",
    "# print('combined', len(non_outliers['combined']))"
   ]
  },
  {
   "cell_type": "code",
   "execution_count": null,
   "metadata": {},
   "outputs": [],
   "source": []
  },
  {
   "cell_type": "code",
   "execution_count": 21,
   "metadata": {},
   "outputs": [],
   "source": [
    "# non_copy = copy.deepcopy(non_outliers)"
   ]
  },
  {
   "cell_type": "markdown",
   "metadata": {},
   "source": [
    "### baypass\n",
    "\n",
    "for each species\n",
    "- get lists of baypass outliers with mean_BF(dB) ≥ 15"
   ]
  },
  {
   "cell_type": "code",
   "execution_count": 22,
   "metadata": {},
   "outputs": [],
   "source": [
    "def find_outliers(spp, pkl):\n",
    "    \"\"\"For a given species, get baypass outliers with mean_BF ≥ 15.\n",
    "    \n",
    "    Also get non-outliers for loci with mean_BF < 1 for ALL envs.\n",
    "    \n",
    "    Notes\n",
    "    -----\n",
    "    - each pkl is a dictionary with keys for environment and values as baypass output\n",
    "        - these files were created in each species' baypass/gather notebook\n",
    "    \"\"\"\n",
    "    from pythonimports import pklload, uni\n",
    "    from tqdm import tqdm as pbar\n",
    "    \n",
    "    results = pklload(pkl)\n",
    "    \n",
    "    outliers = []  # loci that have BF ≥ 15 for any of the envs\n",
    "    for i, (env,df) in enumerate(pbar(results.items())):\n",
    "        gte15 = df.index[df['mean_BF(dB)'] >= 15].tolist()  # greater than or equal to 15\n",
    "        outliers.extend(gte15)\n",
    "        \n",
    "    outliers = uni(outliers)\n",
    "    \n",
    "    return spp, outliers"
   ]
  },
  {
   "cell_type": "code",
   "execution_count": null,
   "metadata": {},
   "outputs": [],
   "source": []
  },
  {
   "cell_type": "code",
   "execution_count": 23,
   "metadata": {},
   "outputs": [
    {
     "name": "stdout",
     "output_type": "stream",
     "text": [
      "\u001b[1m\n",
      "Watching 3 jobs ...\u001b[0m\n"
     ]
    },
    {
     "name": "stderr",
     "output_type": "stream",
     "text": [
      "100%|███████████████| 3/3 [00:56<00:00, 18.89s/it]\n"
     ]
    },
    {
     "name": "stdout",
     "output_type": "stream",
     "text": [
      "spp cands\n",
      "fdc 17516\n",
      "fdi 12398\n",
      "jp 22635\n",
      "combined 25219\n"
     ]
    }
   ],
   "source": [
    "# get outlier sets in parallel\n",
    "jobs = []\n",
    "for spp, file in snp_files.items():\n",
    "    if spp in ['wl', 'combined']:\n",
    "        # no baypass results\n",
    "        continue\n",
    "\n",
    "    d = op.dirname(file)\n",
    "    pkl = op.join(d, 'baypass/final_results/envdfs_after_ranking.pkl')\n",
    "    \n",
    "    jobs.append(\n",
    "        lview.apply_async(\n",
    "            find_outliers, *(spp, pkl)\n",
    "        )\n",
    "    )\n",
    "    \n",
    "watch_async(jobs)\n",
    "\n",
    "# retrieve parallel job info\n",
    "print('spp cands')\n",
    "baypass = {}\n",
    "for j in jobs:\n",
    "    spp, candidates = j.r\n",
    "    baypass[spp] = candidates\n",
    "    print(spp, len(candidates))\n",
    "    \n",
    "# combine coastal and interior, reduce to those SNPs called across varieties\n",
    "spp = 'combined'\n",
    "baypass[spp] = list(set(\n",
    "    baypass['fdc'] + baypass['fdi']\n",
    ").intersection(snps[spp].index.tolist()))\n",
    "print(spp, len(baypass[spp]))\n",
    "\n",
    "# before revision\n",
    "# spp cands\n",
    "# fdc 17516\n",
    "# fdi 12398\n",
    "# jp 22635\n",
    "# combined 25219"
   ]
  },
  {
   "cell_type": "code",
   "execution_count": 24,
   "metadata": {},
   "outputs": [
    {
     "name": "stdout",
     "output_type": "stream",
     "text": [
      "fdc 3770\n",
      "fdi 1787\n",
      "jp 8564\n",
      "wl 79\n",
      "combined 4810\n"
     ]
    }
   ],
   "source": [
    "# compare with wza\n",
    "for spp, loci in wza.items():\n",
    "    print(spp, len(loci))\n",
    "    \n",
    "# before revision\n",
    "# fdc 4886\n",
    "# fdi 11434\n",
    "# jp 4788\n",
    "# wl 8496"
   ]
  },
  {
   "cell_type": "code",
   "execution_count": 25,
   "metadata": {},
   "outputs": [
    {
     "data": {
      "text/plain": [
       "['fdc', 'fdi', 'jp', 'combined']"
      ]
     },
     "execution_count": 25,
     "metadata": {},
     "output_type": "execute_result"
    }
   ],
   "source": [
    "keys(baypass)"
   ]
  },
  {
   "cell_type": "code",
   "execution_count": 26,
   "metadata": {},
   "outputs": [
    {
     "data": {
      "text/plain": [
       "['fdc', 'fdi', 'jp', 'wl', 'combined']"
      ]
     },
     "execution_count": 26,
     "metadata": {},
     "output_type": "execute_result"
    }
   ],
   "source": [
    "keys(wza)"
   ]
  },
  {
   "cell_type": "markdown",
   "metadata": {},
   "source": [
    " "
   ]
  },
  {
   "cell_type": "markdown",
   "metadata": {},
   "source": [
    " "
   ]
  },
  {
   "cell_type": "markdown",
   "metadata": {},
   "source": [
    "### pseudo random loci (randomly chosen among non-outliers)\n",
    "random non-outlier loci sets of the same size as wza and baypass"
   ]
  },
  {
   "cell_type": "code",
   "execution_count": 27,
   "metadata": {},
   "outputs": [],
   "source": [
    "# # previously set seeds (i may add in wl_baypass at a later date, and I like to rerun notebooks some times)\n",
    "# seeds = {\n",
    "#     'pseudo': {\n",
    "#         'fdc_baypass' : 116297,\n",
    "#         'fdi_baypass' : 100096,\n",
    "#         'jp_baypass' : 261763,\n",
    "#         'fdc_wza' : 6096,\n",
    "#         'fdi_wza' : 161898,\n",
    "#         'jp_wza' : 184965,\n",
    "#         'wl_wza' : 272713\n",
    "#     },\n",
    "#     'random': {\n",
    "#         'fdc_baypass' : 43196,\n",
    "#         'fdi_baypass' : 478266,\n",
    "#         'jp_baypass' : 14771,\n",
    "#         'fdc_wza' : 32646,\n",
    "#         'fdi_wza' : 126925,\n",
    "#         'jp_wza' : 257765,\n",
    "#         'wl_wza' : 118895\n",
    "        \n",
    "#     }\n",
    "# }"
   ]
  },
  {
   "cell_type": "code",
   "execution_count": 28,
   "metadata": {},
   "outputs": [],
   "source": [
    "# non_outliers = copy.deepcopy(non_copy)"
   ]
  },
  {
   "cell_type": "code",
   "execution_count": 29,
   "metadata": {},
   "outputs": [],
   "source": [
    "# the number of random sets of loci per species equals the number of outlier methods\n",
    "random_sizes = defaultdict(list)\n",
    "for method, candidates in zip(['baypass', 'wza'], [baypass, wza]):\n",
    "    for spp, loci in candidates.items():\n",
    "        random_sizes[f'{spp}_{method}'].append(len(loci))\n",
    "# del spp\n",
    "\n",
    "# # for each species choose random loci among the non-outlier\n",
    "# pseudo_random_loci = defaultdict(list)\n",
    "# for spp_method,set_sizes in random_sizes.items():\n",
    "#     loci = list(non_candidates[spp_method.split('_')[0]])\n",
    "#     for i,set_size in enumerate(set_sizes):\n",
    "#         if spp_method in keys(seeds['pseudo']):\n",
    "#             seed = seeds['pseudo'][spp_method]\n",
    "#         else:\n",
    "#             seed = random.randint(0, 500000)\n",
    "#         print(spp_method, set_size, seed)\n",
    "#         random.Random(seed).shuffle(loci)\n",
    "#         pseudo_random_loci[spp_method].append(loci[:set_size])\n",
    "#         assert set_size == len(pseudo_random_loci[spp_method][i])"
   ]
  },
  {
   "cell_type": "code",
   "execution_count": 30,
   "metadata": {},
   "outputs": [
    {
     "data": {
      "text/plain": [
       "['fdc_baypass',\n",
       " 'fdi_baypass',\n",
       " 'jp_baypass',\n",
       " 'combined_baypass',\n",
       " 'fdc_wza',\n",
       " 'fdi_wza',\n",
       " 'jp_wza',\n",
       " 'wl_wza',\n",
       " 'combined_wza']"
      ]
     },
     "execution_count": 30,
     "metadata": {},
     "output_type": "execute_result"
    }
   ],
   "source": [
    "keys(random_sizes)"
   ]
  },
  {
   "cell_type": "markdown",
   "metadata": {},
   "source": [
    " "
   ]
  },
  {
   "cell_type": "markdown",
   "metadata": {},
   "source": [
    " "
   ]
  },
  {
   "cell_type": "markdown",
   "metadata": {},
   "source": [
    "  "
   ]
  },
  {
   "cell_type": "markdown",
   "metadata": {},
   "source": [
    " "
   ]
  },
  {
   "cell_type": "markdown",
   "metadata": {},
   "source": [
    "### random sets (random without respect to outlier status)"
   ]
  },
  {
   "cell_type": "code",
   "execution_count": 31,
   "metadata": {},
   "outputs": [
    {
     "data": {
      "text/plain": [
       "['fdc_baypass',\n",
       " 'fdi_baypass',\n",
       " 'jp_baypass',\n",
       " 'combined_baypass',\n",
       " 'fdc_wza',\n",
       " 'fdi_wza',\n",
       " 'jp_wza',\n",
       " 'wl_wza',\n",
       " 'combined_wza']"
      ]
     },
     "execution_count": 31,
     "metadata": {},
     "output_type": "execute_result"
    }
   ],
   "source": [
    "keys(random_sizes)"
   ]
  },
  {
   "cell_type": "code",
   "execution_count": 32,
   "metadata": {},
   "outputs": [],
   "source": [
    "seeds = {\n",
    "    'pseudo': {\n",
    "        'fdc_baypass' : 116297,\n",
    "        'fdi_baypass' : 100096,\n",
    "        'jp_baypass' : 261763,\n",
    "        'fdc_wza' : 6096,\n",
    "        'fdi_wza' : 161898,\n",
    "        'jp_wza' : 184965,\n",
    "        'wl_wza' : 272713\n",
    "    },\n",
    "    'random': {\n",
    "        'fdc_baypass' : 43196,\n",
    "        'fdi_baypass' : 478266,\n",
    "        'jp_baypass' : 14771,\n",
    "        'fdc_wza' : 32646,\n",
    "        'fdi_wza' : 126925,\n",
    "        'jp_wza' : 257765,\n",
    "        'wl_wza' : 118895,\n",
    "        'combined_baypass' : 191988,  # added for revision (this was printed out)\n",
    "        'combined_wza' : 128528  # added for revision (this was printed out)\n",
    "        \n",
    "    }\n",
    "}"
   ]
  },
  {
   "cell_type": "code",
   "execution_count": 33,
   "metadata": {},
   "outputs": [
    {
     "name": "stdout",
     "output_type": "stream",
     "text": [
      "fdc_baypass 17516 43196\n",
      "fdi_baypass 12398 478266\n",
      "jp_baypass 22635 14771\n",
      "combined_baypass 25219 191988\n",
      "fdc_wza 3770 32646\n",
      "fdi_wza 1787 126925\n",
      "jp_wza 8564 257765\n",
      "wl_wza 79 118895\n",
      "combined_wza 4810 128528\n"
     ]
    }
   ],
   "source": [
    "random_loci = defaultdict(list)\n",
    "for spp, set_sizes in random_sizes.items():\n",
    "    loci = snps[spp.split(\"_\")[0]].index.tolist()\n",
    "    \n",
    "    for i, set_size in enumerate(set_sizes):\n",
    "#         if spp not in keys(seeds['random']):\n",
    "#             seed = random.randint(0, 500000)\n",
    "#         else:\n",
    "#             seed = seeds['random'][spp]\n",
    "            \n",
    "        seed = seeds['random'][spp]  # use \n",
    "            \n",
    "        print(spp, set_size, seed)\n",
    "        \n",
    "        random.Random(seed).shuffle(loci)\n",
    "        random_loci[spp].append(loci[:set_size])\n",
    "        \n",
    "        assert set_size == len(random_loci[spp][i])\n",
    "        \n",
    "# before revision\n",
    "# fdc_baypass 17516 43196\n",
    "# fdi_baypass 12398 478266\n",
    "# jp_baypass 22635 14771\n",
    "# combined_baypass 25219 191988\n",
    "# fdc_wza 4886 32646\n",
    "# fdi_wza 11434 126925\n",
    "# jp_wza 4788 257765\n",
    "# wl_wza 8496 118895\n",
    "# combined_wza 14760 128528"
   ]
  },
  {
   "cell_type": "markdown",
   "metadata": {},
   "source": [
    " "
   ]
  },
  {
   "cell_type": "markdown",
   "metadata": {},
   "source": [
    "### subset allele freqs to the loci sets"
   ]
  },
  {
   "cell_type": "code",
   "execution_count": 34,
   "metadata": {},
   "outputs": [],
   "source": [
    "# BF ≥ 15\n",
    "# wza\n",
    "# random"
   ]
  },
  {
   "cell_type": "code",
   "execution_count": 35,
   "metadata": {},
   "outputs": [],
   "source": [
    "loci_sets = {'baypass' : baypass,\n",
    "             'wza' : wza,\n",
    "             'random' : random_loci}#,\n",
    "#              'pseudo_random_loci' : pseudo_random_loci}"
   ]
  },
  {
   "cell_type": "code",
   "execution_count": null,
   "metadata": {},
   "outputs": [],
   "source": []
  },
  {
   "cell_type": "code",
   "execution_count": 36,
   "metadata": {
    "scrolled": false
   },
   "outputs": [
    {
     "name": "stdout",
     "output_type": "stream",
     "text": [
      "fdc-baypass-real 17516\n",
      "fdi-baypass-real 12398\n",
      "jp-baypass-real 22635\n",
      "combined-baypass-real 25219\n",
      "\n",
      "\n",
      "fdc-wza-real 3770\n",
      "fdi-wza-real 1787\n",
      "jp-wza-real 8564\n",
      "wl-wza-real 79\n",
      "combined-wza-real 4810\n",
      "\n",
      "\n",
      "fdc-baypass-random 17516\n",
      "fdi-baypass-random 12398\n",
      "jp-baypass-random 22635\n",
      "combined-baypass-random 25219\n",
      "fdc-wza-random 3770\n",
      "fdi-wza-random 1787\n",
      "jp-wza-random 8564\n",
      "wl-wza-random 79\n",
      "combined-wza-random 4810\n",
      "\n",
      "\n"
     ]
    }
   ],
   "source": [
    "# get allele freqs for loci in loci_sets\n",
    "freq_sets = {}\n",
    "for _method,loci_set in loci_sets.items():\n",
    "    for spp,loci in loci_set.items():\n",
    "        # fix naming convention\n",
    "        method = _method\n",
    "        if '_' in spp:\n",
    "            full = False\n",
    "            spp,setname = spp.split(\"_\")\n",
    "            method,setname = setname,method\n",
    "            if method == 'random':\n",
    "                method = 'random_loci'\n",
    "        else:\n",
    "            full = True\n",
    "            setname = 'real'\n",
    "            \n",
    "        # get a list of loci\n",
    "        if 'random' in setname:\n",
    "            assert len(loci) == 1\n",
    "            df = snps[spp.split(\"_\")[0]].loc[loci[0]]\n",
    "        else:\n",
    "            df = snps[spp.split(\"_\")[0]].loc[loci]\n",
    "        # save to dict\n",
    "        key = f\"{spp}-{method}-{setname}\"\n",
    "        freq_sets[key] = df.copy()\n",
    "        \n",
    "        print(key, nrow(df))\n",
    "    print('\\n')\n",
    "    \n",
    "# before revision\n",
    "# fdc-baypass-real 17516\n",
    "# fdi-baypass-real 12398\n",
    "# jp-baypass-real 22635\n",
    "# combined-baypass-real 25219\n",
    "\n",
    "# fdc-wza-real 4886\n",
    "# fdi-wza-real 11434\n",
    "# jp-wza-real 4788\n",
    "# wl-wza-real 8496\n",
    "# combined-wza-real 14760\n",
    "\n",
    "# fdc-baypass-random 17516\n",
    "# fdi-baypass-random 12398\n",
    "# jp-baypass-random 22635\n",
    "# combined-baypass-random 25219\n",
    "# fdc-wza-random 4886\n",
    "# fdi-wza-random 11434\n",
    "# jp-wza-random 4788\n",
    "# wl-wza-random 8496\n",
    "# combined-wza-random 14760\n",
    "\n",
    "# fdc-baypass-pseudo_random_loci 17516\n",
    "# fdi-baypass-pseudo_random_loci 12398\n",
    "# jp-baypass-pseudo_random_loci 22635\n",
    "# combined-baypass-pseudo_random_loci 25219\n",
    "# fdc-wza-pseudo_random_loci 4886\n",
    "# fdi-wza-pseudo_random_loci 11434\n",
    "# jp-wza-pseudo_random_loci 4788\n",
    "# wl-wza-pseudo_random_loci 8496\n",
    "# combined-wza-pseudo_random_loci 14760"
   ]
  },
  {
   "cell_type": "markdown",
   "metadata": {},
   "source": [
    " "
   ]
  },
  {
   "cell_type": "markdown",
   "metadata": {},
   "source": [
    " "
   ]
  },
  {
   "cell_type": "markdown",
   "metadata": {},
   "source": [
    "<a id='envdata'></a>\n",
    "# 3. load envdata\n",
    "\n",
    "[top](#home)"
   ]
  },
  {
   "cell_type": "code",
   "execution_count": 37,
   "metadata": {},
   "outputs": [],
   "source": [
    "# envdata files\n",
    "env_files = {'fdi' : '/data/projects/pool_seq/environemental_data/change_p6/df_interior-naturalpops_raw_env-19variables_change-p6.txt',\n",
    "             'fdc' : '/data/projects/pool_seq/environemental_data/change_p6/df_coastal-naturalpops_raw_env-19variables_change-p6.txt',\n",
    "             'jp' : '/data/projects/pool_seq/environemental_data/jp_rm_p24/jp_no-p24_raw_env-19variables.txt',\n",
    "             'wl' : '/data/projects/pool_seq/environemental_data/wl_raw_env-19variables_45pops.txt',\n",
    "             'combined' : '/data/projects/pool_seq/environemental_data/change_p6/df_ALL-naturalpops_raw_env-19variables_change-p6.txt'\n",
    "            }"
   ]
  },
  {
   "cell_type": "code",
   "execution_count": 38,
   "metadata": {
    "scrolled": true
   },
   "outputs": [
    {
     "data": {
      "text/html": [
       "<div>\n",
       "<style scoped>\n",
       "    .dataframe tbody tr th:only-of-type {\n",
       "        vertical-align: middle;\n",
       "    }\n",
       "\n",
       "    .dataframe tbody tr th {\n",
       "        vertical-align: top;\n",
       "    }\n",
       "\n",
       "    .dataframe thead th {\n",
       "        text-align: right;\n",
       "    }\n",
       "</style>\n",
       "<table border=\"1\" class=\"dataframe\">\n",
       "  <thead>\n",
       "    <tr style=\"text-align: right;\">\n",
       "      <th></th>\n",
       "      <th>prov</th>\n",
       "      <th>our_id</th>\n",
       "      <th>Variety</th>\n",
       "      <th>LONG</th>\n",
       "      <th>LAT</th>\n",
       "      <th>Elevation</th>\n",
       "      <th>MAT</th>\n",
       "      <th>MWMT</th>\n",
       "      <th>MCMT</th>\n",
       "      <th>TD</th>\n",
       "      <th>MAP</th>\n",
       "      <th>MSP</th>\n",
       "      <th>AHM</th>\n",
       "      <th>SHM</th>\n",
       "      <th>DD_0</th>\n",
       "      <th>DD5</th>\n",
       "      <th>NFFD</th>\n",
       "      <th>bFFP</th>\n",
       "      <th>eFFP</th>\n",
       "      <th>FFP</th>\n",
       "      <th>PAS</th>\n",
       "      <th>EMT</th>\n",
       "      <th>EXT</th>\n",
       "      <th>Eref</th>\n",
       "      <th>CMD</th>\n",
       "    </tr>\n",
       "  </thead>\n",
       "  <tbody>\n",
       "    <tr>\n",
       "      <th>DF_p1</th>\n",
       "      <td>1</td>\n",
       "      <td>DF_p1</td>\n",
       "      <td>FDC</td>\n",
       "      <td>-126.63</td>\n",
       "      <td>49.78</td>\n",
       "      <td>225</td>\n",
       "      <td>8.4</td>\n",
       "      <td>15.6</td>\n",
       "      <td>2.3</td>\n",
       "      <td>13.3</td>\n",
       "      <td>4004</td>\n",
       "      <td>778</td>\n",
       "      <td>4.6</td>\n",
       "      <td>20.0</td>\n",
       "      <td>143</td>\n",
       "      <td>1644</td>\n",
       "      <td>277</td>\n",
       "      <td>115</td>\n",
       "      <td>301</td>\n",
       "      <td>186</td>\n",
       "      <td>242</td>\n",
       "      <td>-18.3</td>\n",
       "      <td>33.3</td>\n",
       "      <td>606</td>\n",
       "      <td>10</td>\n",
       "    </tr>\n",
       "    <tr>\n",
       "      <th>DF_p2</th>\n",
       "      <td>2</td>\n",
       "      <td>DF_p2</td>\n",
       "      <td>FDC</td>\n",
       "      <td>-122.73</td>\n",
       "      <td>50.32</td>\n",
       "      <td>550</td>\n",
       "      <td>6.1</td>\n",
       "      <td>16.4</td>\n",
       "      <td>-4.4</td>\n",
       "      <td>20.8</td>\n",
       "      <td>1029</td>\n",
       "      <td>225</td>\n",
       "      <td>15.6</td>\n",
       "      <td>73.0</td>\n",
       "      <td>518</td>\n",
       "      <td>1521</td>\n",
       "      <td>202</td>\n",
       "      <td>135</td>\n",
       "      <td>272</td>\n",
       "      <td>137</td>\n",
       "      <td>330</td>\n",
       "      <td>-30.9</td>\n",
       "      <td>35.2</td>\n",
       "      <td>659</td>\n",
       "      <td>307</td>\n",
       "    </tr>\n",
       "    <tr>\n",
       "      <th>DF_p3</th>\n",
       "      <td>3</td>\n",
       "      <td>DF_p3</td>\n",
       "      <td>FDI</td>\n",
       "      <td>-115.62</td>\n",
       "      <td>50.54</td>\n",
       "      <td>1525</td>\n",
       "      <td>1.6</td>\n",
       "      <td>13.4</td>\n",
       "      <td>-10.7</td>\n",
       "      <td>24.1</td>\n",
       "      <td>630</td>\n",
       "      <td>321</td>\n",
       "      <td>18.5</td>\n",
       "      <td>41.8</td>\n",
       "      <td>1242</td>\n",
       "      <td>929</td>\n",
       "      <td>130</td>\n",
       "      <td>171</td>\n",
       "      <td>244</td>\n",
       "      <td>73</td>\n",
       "      <td>261</td>\n",
       "      <td>-43.3</td>\n",
       "      <td>32.6</td>\n",
       "      <td>548</td>\n",
       "      <td>151</td>\n",
       "    </tr>\n",
       "    <tr>\n",
       "      <th>DF_p4</th>\n",
       "      <td>4</td>\n",
       "      <td>DF_p4</td>\n",
       "      <td>FDI</td>\n",
       "      <td>-122.33</td>\n",
       "      <td>52.04</td>\n",
       "      <td>900</td>\n",
       "      <td>3.9</td>\n",
       "      <td>15.3</td>\n",
       "      <td>-9.2</td>\n",
       "      <td>24.5</td>\n",
       "      <td>423</td>\n",
       "      <td>196</td>\n",
       "      <td>32.9</td>\n",
       "      <td>78.2</td>\n",
       "      <td>919</td>\n",
       "      <td>1270</td>\n",
       "      <td>158</td>\n",
       "      <td>154</td>\n",
       "      <td>255</td>\n",
       "      <td>101</td>\n",
       "      <td>149</td>\n",
       "      <td>-40.2</td>\n",
       "      <td>34.9</td>\n",
       "      <td>598</td>\n",
       "      <td>350</td>\n",
       "    </tr>\n",
       "    <tr>\n",
       "      <th>DF_p5</th>\n",
       "      <td>5</td>\n",
       "      <td>DF_p5</td>\n",
       "      <td>FDI</td>\n",
       "      <td>-119.05</td>\n",
       "      <td>49.02</td>\n",
       "      <td>853</td>\n",
       "      <td>6.0</td>\n",
       "      <td>17.7</td>\n",
       "      <td>-6.2</td>\n",
       "      <td>23.9</td>\n",
       "      <td>367</td>\n",
       "      <td>171</td>\n",
       "      <td>43.8</td>\n",
       "      <td>103.6</td>\n",
       "      <td>637</td>\n",
       "      <td>1650</td>\n",
       "      <td>182</td>\n",
       "      <td>142</td>\n",
       "      <td>265</td>\n",
       "      <td>123</td>\n",
       "      <td>100</td>\n",
       "      <td>-34.8</td>\n",
       "      <td>37.7</td>\n",
       "      <td>732</td>\n",
       "      <td>497</td>\n",
       "    </tr>\n",
       "  </tbody>\n",
       "</table>\n",
       "</div>"
      ],
      "text/plain": [
       "       prov our_id Variety    LONG    LAT  Elevation  MAT  MWMT  MCMT    TD  \\\n",
       "DF_p1     1  DF_p1     FDC -126.63  49.78        225  8.4  15.6   2.3  13.3   \n",
       "DF_p2     2  DF_p2     FDC -122.73  50.32        550  6.1  16.4  -4.4  20.8   \n",
       "DF_p3     3  DF_p3     FDI -115.62  50.54       1525  1.6  13.4 -10.7  24.1   \n",
       "DF_p4     4  DF_p4     FDI -122.33  52.04        900  3.9  15.3  -9.2  24.5   \n",
       "DF_p5     5  DF_p5     FDI -119.05  49.02        853  6.0  17.7  -6.2  23.9   \n",
       "\n",
       "        MAP  MSP   AHM    SHM  DD_0   DD5  NFFD  bFFP  eFFP  FFP  PAS   EMT  \\\n",
       "DF_p1  4004  778   4.6   20.0   143  1644   277   115   301  186  242 -18.3   \n",
       "DF_p2  1029  225  15.6   73.0   518  1521   202   135   272  137  330 -30.9   \n",
       "DF_p3   630  321  18.5   41.8  1242   929   130   171   244   73  261 -43.3   \n",
       "DF_p4   423  196  32.9   78.2   919  1270   158   154   255  101  149 -40.2   \n",
       "DF_p5   367  171  43.8  103.6   637  1650   182   142   265  123  100 -34.8   \n",
       "\n",
       "        EXT  Eref  CMD  \n",
       "DF_p1  33.3   606   10  \n",
       "DF_p2  35.2   659  307  \n",
       "DF_p3  32.6   548  151  \n",
       "DF_p4  34.9   598  350  \n",
       "DF_p5  37.7   732  497  "
      ]
     },
     "execution_count": 38,
     "metadata": {},
     "output_type": "execute_result"
    }
   ],
   "source": [
    "# read in envdata\n",
    "envdata = {}\n",
    "for spp, file in env_files.items():\n",
    "    envdata[spp] = pd.read_table(file)\n",
    "    envdata[spp].index = envdata[spp]['our_id'].tolist()\n",
    "envdata[spp].head()"
   ]
  },
  {
   "cell_type": "code",
   "execution_count": 39,
   "metadata": {},
   "outputs": [
    {
     "name": "stdout",
     "output_type": "stream",
     "text": [
      "['AHM', 'CMD', 'DD5', 'DD_0', 'EMT', 'EXT', 'Eref', 'FFP', 'MAP', 'MAT', 'MCMT', 'MSP', 'MWMT', 'NFFD', 'PAS', 'SHM', 'TD', 'bFFP', 'eFFP']\n"
     ]
    }
   ],
   "source": [
    "# the envs I care about\n",
    "assert len(envs) == 19  # 19 climatic variables\n",
    "print(envs)"
   ]
  },
  {
   "cell_type": "markdown",
   "metadata": {},
   "source": [
    " "
   ]
  },
  {
   "cell_type": "markdown",
   "metadata": {},
   "source": [
    " "
   ]
  },
  {
   "cell_type": "markdown",
   "metadata": {},
   "source": [
    "<a id='training'></a>\n",
    "# 4. load training/test sets, remove non-training pops from loci sets\n",
    "\n",
    "also keep one full set\n",
    "\n",
    "[top](#home)"
   ]
  },
  {
   "cell_type": "code",
   "execution_count": 40,
   "metadata": {},
   "outputs": [
    {
     "data": {
      "text/plain": [
       "['fdc', 'fdi', 'combined', 'jp', 'wl']"
      ]
     },
     "execution_count": 40,
     "metadata": {},
     "output_type": "execute_result"
    }
   ],
   "source": [
    "# load training/test sets - True if pop is in training set else False\n",
    "# created in ../01_split_training_and_testing.ipynb\n",
    "training_df = pklload(op.join(DIR, 'train_test_assignment_for_kfold_crossval.pkl'))\n",
    "keys(training_df)"
   ]
  },
  {
   "cell_type": "code",
   "execution_count": 41,
   "metadata": {},
   "outputs": [
    {
     "data": {
      "text/html": [
       "<div>\n",
       "<style scoped>\n",
       "    .dataframe tbody tr th:only-of-type {\n",
       "        vertical-align: middle;\n",
       "    }\n",
       "\n",
       "    .dataframe tbody tr th {\n",
       "        vertical-align: top;\n",
       "    }\n",
       "\n",
       "    .dataframe thead th {\n",
       "        text-align: right;\n",
       "    }\n",
       "</style>\n",
       "<table border=\"1\" class=\"dataframe\">\n",
       "  <thead>\n",
       "    <tr style=\"text-align: right;\">\n",
       "      <th></th>\n",
       "      <th>k1 training</th>\n",
       "      <th>k2 training</th>\n",
       "      <th>k3 training</th>\n",
       "      <th>k4 training</th>\n",
       "    </tr>\n",
       "  </thead>\n",
       "  <tbody>\n",
       "    <tr>\n",
       "      <th>DF_p1</th>\n",
       "      <td>True</td>\n",
       "      <td>True</td>\n",
       "      <td>False</td>\n",
       "      <td>True</td>\n",
       "    </tr>\n",
       "    <tr>\n",
       "      <th>DF_p2</th>\n",
       "      <td>True</td>\n",
       "      <td>True</td>\n",
       "      <td>True</td>\n",
       "      <td>False</td>\n",
       "    </tr>\n",
       "    <tr>\n",
       "      <th>DF_p6</th>\n",
       "      <td>True</td>\n",
       "      <td>False</td>\n",
       "      <td>True</td>\n",
       "      <td>True</td>\n",
       "    </tr>\n",
       "    <tr>\n",
       "      <th>DF_p10</th>\n",
       "      <td>True</td>\n",
       "      <td>True</td>\n",
       "      <td>True</td>\n",
       "      <td>False</td>\n",
       "    </tr>\n",
       "    <tr>\n",
       "      <th>DF_p11</th>\n",
       "      <td>True</td>\n",
       "      <td>True</td>\n",
       "      <td>False</td>\n",
       "      <td>True</td>\n",
       "    </tr>\n",
       "  </tbody>\n",
       "</table>\n",
       "</div>"
      ],
      "text/plain": [
       "        k1 training  k2 training  k3 training  k4 training\n",
       "DF_p1          True         True        False         True\n",
       "DF_p2          True         True         True        False\n",
       "DF_p6          True        False         True         True\n",
       "DF_p10         True         True         True        False\n",
       "DF_p11         True         True        False         True"
      ]
     },
     "execution_count": 41,
     "metadata": {},
     "output_type": "execute_result"
    }
   ],
   "source": [
    "training_df['fdc'].head()"
   ]
  },
  {
   "cell_type": "code",
   "execution_count": 42,
   "metadata": {},
   "outputs": [],
   "source": [
    "colors = {'fdc': 'lime',\n",
    "          'fdi' : 'purple',\n",
    "          'jp' : 'green',\n",
    "          'wl' : 'blue',\n",
    "          'combined' : 'red'\n",
    "         }"
   ]
  },
  {
   "cell_type": "code",
   "execution_count": 43,
   "metadata": {},
   "outputs": [
    {
     "data": {
      "text/plain": [
       "['baypass', 'wza', 'random']"
      ]
     },
     "execution_count": 43,
     "metadata": {},
     "output_type": "execute_result"
    }
   ],
   "source": [
    "keys(loci_sets)"
   ]
  },
  {
   "cell_type": "code",
   "execution_count": 44,
   "metadata": {},
   "outputs": [
    {
     "name": "stdout",
     "output_type": "stream",
     "text": [
      "k1\n",
      "k2\n",
      "k3\n",
      "k4\n"
     ]
    }
   ],
   "source": [
    "df = training_df['fdc']\n",
    "for training_set in df.columns:\n",
    "    kfold = training_set.split(' ')[0]\n",
    "    print(kfold)"
   ]
  },
  {
   "cell_type": "code",
   "execution_count": null,
   "metadata": {},
   "outputs": [],
   "source": []
  },
  {
   "cell_type": "code",
   "execution_count": 45,
   "metadata": {
    "scrolled": true
   },
   "outputs": [
    {
     "name": "stdout",
     "output_type": "stream",
     "text": [
      "\u001b[1m\n",
      "\n",
      "------ CROSS VALIDATION ------\u001b[0m\n",
      "\u001b[38;2;0;255;0m\u001b[1m\n",
      "fdc\u001b[0m\u001b[0m\n",
      "fdc-baypass-real k1 (28, 17516) (28, 19)\n",
      "fdc-baypass-real k2 (28, 17516) (28, 19)\n",
      "fdc-baypass-real k3 (29, 17516) (29, 19)\n",
      "fdc-baypass-real k4 (29, 17516) (29, 19)\n",
      "\u001b[1m\n",
      "------ FULL DATSETS ------\u001b[0m\n",
      "fdc-baypass-real full (38, 17516) (38, 19)\n",
      "\u001b[1m\n",
      "\n",
      "------ CROSS VALIDATION ------\u001b[0m\n",
      "\u001b[38;2;128;0;128m\u001b[1m\n",
      "fdi\u001b[0m\u001b[0m\n",
      "fdi-baypass-real k1 (26, 12398) (26, 19)\n",
      "fdi-baypass-real k2 (26, 12398) (26, 19)\n",
      "fdi-baypass-real k3 (26, 12398) (26, 19)\n",
      "fdi-baypass-real k4 (27, 12398) (27, 19)\n",
      "\u001b[1m\n",
      "------ FULL DATSETS ------\u001b[0m\n",
      "fdi-baypass-real full (35, 12398) (35, 19)\n",
      "\u001b[1m\n",
      "\n",
      "------ CROSS VALIDATION ------\u001b[0m\n",
      "\u001b[38;2;0;128;0m\u001b[1m\n",
      "jp\u001b[0m\u001b[0m\n",
      "jp-baypass-real k1 (26, 22635) (26, 19)\n",
      "jp-baypass-real k2 (26, 22635) (26, 19)\n",
      "jp-baypass-real k3 (26, 22635) (26, 19)\n",
      "\u001b[1m\n",
      "------ FULL DATSETS ------\u001b[0m\n",
      "jp-baypass-real full (39, 22635) (39, 19)\n",
      "\u001b[1m\n",
      "\n",
      "------ CROSS VALIDATION ------\u001b[0m\n",
      "\u001b[38;2;255;0;0m\u001b[1m\n",
      "combined\u001b[0m\u001b[0m\n",
      "combined-baypass-real k1 (54, 25219) (54, 19)\n",
      "combined-baypass-real k2 (55, 25219) (55, 19)\n",
      "combined-baypass-real k3 (55, 25219) (55, 19)\n",
      "combined-baypass-real k4 (55, 25219) (55, 19)\n",
      "\u001b[1m\n",
      "------ FULL DATSETS ------\u001b[0m\n",
      "combined-baypass-real full (73, 25219) (73, 19)\n",
      "\u001b[1m\n",
      "\n",
      "------ CROSS VALIDATION ------\u001b[0m\n",
      "\u001b[38;2;0;255;0m\u001b[1m\n",
      "fdc\u001b[0m\u001b[0m\n",
      "fdc-wza-real k1 (28, 3770) (28, 19)\n",
      "fdc-wza-real k2 (28, 3770) (28, 19)\n",
      "fdc-wza-real k3 (29, 3770) (29, 19)\n",
      "fdc-wza-real k4 (29, 3770) (29, 19)\n",
      "\u001b[1m\n",
      "------ FULL DATSETS ------\u001b[0m\n",
      "fdc-wza-real full (38, 3770) (38, 19)\n",
      "\u001b[1m\n",
      "\n",
      "------ CROSS VALIDATION ------\u001b[0m\n",
      "\u001b[38;2;128;0;128m\u001b[1m\n",
      "fdi\u001b[0m\u001b[0m\n",
      "fdi-wza-real k1 (26, 1787) (26, 19)\n",
      "fdi-wza-real k2 (26, 1787) (26, 19)\n",
      "fdi-wza-real k3 (26, 1787) (26, 19)\n",
      "fdi-wza-real k4 (27, 1787) (27, 19)\n",
      "\u001b[1m\n",
      "------ FULL DATSETS ------\u001b[0m\n",
      "fdi-wza-real full (35, 1787) (35, 19)\n",
      "\u001b[1m\n",
      "\n",
      "------ CROSS VALIDATION ------\u001b[0m\n",
      "\u001b[38;2;0;128;0m\u001b[1m\n",
      "jp\u001b[0m\u001b[0m\n",
      "jp-wza-real k1 (26, 8564) (26, 19)\n",
      "jp-wza-real k2 (26, 8564) (26, 19)\n",
      "jp-wza-real k3 (26, 8564) (26, 19)\n",
      "\u001b[1m\n",
      "------ FULL DATSETS ------\u001b[0m\n",
      "jp-wza-real full (39, 8564) (39, 19)\n",
      "\u001b[1m\n",
      "\n",
      "------ CROSS VALIDATION ------\u001b[0m\n",
      "\u001b[38;2;0;0;255m\u001b[1m\n",
      "wl\u001b[0m\u001b[0m\n",
      "wl-wza-real k1 (33, 79) (33, 19)\n",
      "wl-wza-real k2 (34, 79) (34, 19)\n",
      "wl-wza-real k3 (34, 79) (34, 19)\n",
      "wl-wza-real k4 (34, 79) (34, 19)\n",
      "\u001b[1m\n",
      "------ FULL DATSETS ------\u001b[0m\n",
      "wl-wza-real full (45, 79) (45, 19)\n",
      "\u001b[1m\n",
      "\n",
      "------ CROSS VALIDATION ------\u001b[0m\n",
      "\u001b[38;2;255;0;0m\u001b[1m\n",
      "combined\u001b[0m\u001b[0m\n",
      "combined-wza-real k1 (54, 4810) (54, 19)\n",
      "combined-wza-real k2 (55, 4810) (55, 19)\n",
      "combined-wza-real k3 (55, 4810) (55, 19)\n",
      "combined-wza-real k4 (55, 4810) (55, 19)\n",
      "\u001b[1m\n",
      "------ FULL DATSETS ------\u001b[0m\n",
      "combined-wza-real full (73, 4810) (73, 19)\n",
      "\u001b[1m\n",
      "\n",
      "------ CROSS VALIDATION ------\u001b[0m\n",
      "\u001b[38;2;0;255;0m\u001b[1m\n",
      "fdc\u001b[0m\u001b[0m\n",
      "fdc-baypass-random k1 (28, 17516) (28, 19)\n",
      "fdc-baypass-random k2 (28, 17516) (28, 19)\n",
      "fdc-baypass-random k3 (29, 17516) (29, 19)\n",
      "fdc-baypass-random k4 (29, 17516) (29, 19)\n",
      "\u001b[1m\n",
      "------ FULL DATSETS ------\u001b[0m\n",
      "fdc-baypass-random full (38, 17516) (38, 19)\n",
      "\u001b[1m\n",
      "\n",
      "------ CROSS VALIDATION ------\u001b[0m\n",
      "\u001b[38;2;128;0;128m\u001b[1m\n",
      "fdi\u001b[0m\u001b[0m\n",
      "fdi-baypass-random k1 (26, 12398) (26, 19)\n",
      "fdi-baypass-random k2 (26, 12398) (26, 19)\n",
      "fdi-baypass-random k3 (26, 12398) (26, 19)\n",
      "fdi-baypass-random k4 (27, 12398) (27, 19)\n",
      "\u001b[1m\n",
      "------ FULL DATSETS ------\u001b[0m\n",
      "fdi-baypass-random full (35, 12398) (35, 19)\n",
      "\u001b[1m\n",
      "\n",
      "------ CROSS VALIDATION ------\u001b[0m\n",
      "\u001b[38;2;0;128;0m\u001b[1m\n",
      "jp\u001b[0m\u001b[0m\n",
      "jp-baypass-random k1 (26, 22635) (26, 19)\n",
      "jp-baypass-random k2 (26, 22635) (26, 19)\n",
      "jp-baypass-random k3 (26, 22635) (26, 19)\n",
      "\u001b[1m\n",
      "------ FULL DATSETS ------\u001b[0m\n",
      "jp-baypass-random full (39, 22635) (39, 19)\n",
      "\u001b[1m\n",
      "\n",
      "------ CROSS VALIDATION ------\u001b[0m\n",
      "\u001b[38;2;255;0;0m\u001b[1m\n",
      "combined\u001b[0m\u001b[0m\n",
      "combined-baypass-random k1 (54, 25219) (54, 19)\n",
      "combined-baypass-random k2 (55, 25219) (55, 19)\n",
      "combined-baypass-random k3 (55, 25219) (55, 19)\n",
      "combined-baypass-random k4 (55, 25219) (55, 19)\n",
      "\u001b[1m\n",
      "------ FULL DATSETS ------\u001b[0m\n",
      "combined-baypass-random full (73, 25219) (73, 19)\n",
      "\u001b[1m\n",
      "\n",
      "------ CROSS VALIDATION ------\u001b[0m\n",
      "\u001b[38;2;0;255;0m\u001b[1m\n",
      "fdc\u001b[0m\u001b[0m\n",
      "fdc-wza-random k1 (28, 3770) (28, 19)\n",
      "fdc-wza-random k2 (28, 3770) (28, 19)\n",
      "fdc-wza-random k3 (29, 3770) (29, 19)\n",
      "fdc-wza-random k4 (29, 3770) (29, 19)\n",
      "\u001b[1m\n",
      "------ FULL DATSETS ------\u001b[0m\n",
      "fdc-wza-random full (38, 3770) (38, 19)\n",
      "\u001b[1m\n",
      "\n",
      "------ CROSS VALIDATION ------\u001b[0m\n",
      "\u001b[38;2;128;0;128m\u001b[1m\n",
      "fdi\u001b[0m\u001b[0m\n",
      "fdi-wza-random k1 (26, 1787) (26, 19)\n",
      "fdi-wza-random k2 (26, 1787) (26, 19)\n",
      "fdi-wza-random k3 (26, 1787) (26, 19)\n",
      "fdi-wza-random k4 (27, 1787) (27, 19)\n",
      "\u001b[1m\n",
      "------ FULL DATSETS ------\u001b[0m\n",
      "fdi-wza-random full (35, 1787) (35, 19)\n",
      "\u001b[1m\n",
      "\n",
      "------ CROSS VALIDATION ------\u001b[0m\n",
      "\u001b[38;2;0;128;0m\u001b[1m\n",
      "jp\u001b[0m\u001b[0m\n",
      "jp-wza-random k1 (26, 8564) (26, 19)\n",
      "jp-wza-random k2 (26, 8564) (26, 19)\n",
      "jp-wza-random k3 (26, 8564) (26, 19)\n",
      "\u001b[1m\n",
      "------ FULL DATSETS ------\u001b[0m\n",
      "jp-wza-random full (39, 8564) (39, 19)\n",
      "\u001b[1m\n",
      "\n",
      "------ CROSS VALIDATION ------\u001b[0m\n",
      "\u001b[38;2;0;0;255m\u001b[1m\n",
      "wl\u001b[0m\u001b[0m\n",
      "wl-wza-random k1 (33, 79) (33, 19)\n",
      "wl-wza-random k2 (34, 79) (34, 19)\n",
      "wl-wza-random k3 (34, 79) (34, 19)\n",
      "wl-wza-random k4 (34, 79) (34, 19)\n",
      "\u001b[1m\n",
      "------ FULL DATSETS ------\u001b[0m\n",
      "wl-wza-random full (45, 79) (45, 19)\n",
      "\u001b[1m\n",
      "\n",
      "------ CROSS VALIDATION ------\u001b[0m\n",
      "\u001b[38;2;255;0;0m\u001b[1m\n",
      "combined\u001b[0m\u001b[0m\n",
      "combined-wza-random k1 (54, 4810) (54, 19)\n",
      "combined-wza-random k2 (55, 4810) (55, 19)\n",
      "combined-wza-random k3 (55, 4810) (55, 19)\n",
      "combined-wza-random k4 (55, 4810) (55, 19)\n",
      "\u001b[1m\n",
      "------ FULL DATSETS ------\u001b[0m\n",
      "combined-wza-random full (73, 4810) (73, 19)\n"
     ]
    }
   ],
   "source": [
    "# create training data sets - one for each kfold, and one 'full' model using all pops\n",
    "training_data = defaultdict(dict)\n",
    "training_climate = defaultdict(dict)\n",
    "\n",
    "\n",
    "for dataset, dataset_freqs in freq_sets.items():\n",
    "    print(ColorText('\\n\\n------ CROSS VALIDATION ------').bold())\n",
    "    \n",
    "    spp,method,setname = dataset.split(\"-\")\n",
    "    print(ColorText(f'\\n{spp}').bold().custom(colors[spp]))\n",
    "    # get kfold training assignments\n",
    "    df = training_df[spp]\n",
    "    \n",
    "    \n",
    "    # create training data for each kfold\n",
    "    for training_set in df.columns:\n",
    "        # create cross-validation dataset\n",
    "        kfold = training_set.split(' ')[0]\n",
    "        training_pops = df[df[training_set] == True].index.tolist()\n",
    "        training_data[dataset][kfold] = dataset_freqs[training_pops].T  # transpose so pops are rows\n",
    "        training_climate[dataset][kfold] = envdata[spp][envs].loc[training_pops]  # pops already are rows\n",
    "        assert all(training_data[dataset][kfold].index == training_climate[dataset][kfold].index)\n",
    "        print(dataset, kfold, training_data[dataset][kfold].shape, training_climate[dataset][kfold].shape)\n",
    "        \n",
    "    # create full datasets\n",
    "    print(ColorText('\\n------ FULL DATSETS ------').bold())\n",
    "    training_climate[dataset]['full'] = envdata[spp][envs]\n",
    "    training_data[dataset]['full'] = dataset_freqs.T.loc[envdata[spp].index]\n",
    "    assert all(training_data[dataset]['full'].index == training_climate[dataset]['full'].index)\n",
    "    print(dataset, 'full', training_data[dataset]['full'].shape, training_climate[dataset]['full'].shape)\n",
    "\n",
    "training_data = dict(training_data)\n",
    "training_climate = dict(training_climate)"
   ]
  },
  {
   "cell_type": "code",
   "execution_count": 46,
   "metadata": {},
   "outputs": [
    {
     "name": "stdout",
     "output_type": "stream",
     "text": [
      "fdc-baypass-real\n",
      "\t k1\n",
      "\t k2\n",
      "\t k3\n",
      "\t k4\n",
      "\t full\n",
      "fdi-baypass-real\n",
      "\t k1\n",
      "\t k2\n",
      "\t k3\n",
      "\t k4\n",
      "\t full\n",
      "jp-baypass-real\n",
      "\t k1\n",
      "\t k2\n",
      "\t k3\n",
      "\t full\n",
      "combined-baypass-real\n",
      "\t k1\n",
      "\t k2\n",
      "\t k3\n",
      "\t k4\n",
      "\t full\n",
      "fdc-wza-real\n",
      "\t k1\n",
      "\t k2\n",
      "\t k3\n",
      "\t k4\n",
      "\t full\n",
      "fdi-wza-real\n",
      "\t k1\n",
      "\t k2\n",
      "\t k3\n",
      "\t k4\n",
      "\t full\n",
      "jp-wza-real\n",
      "\t k1\n",
      "\t k2\n",
      "\t k3\n",
      "\t full\n",
      "wl-wza-real\n",
      "\t k1\n",
      "\t k2\n",
      "\t k3\n",
      "\t k4\n",
      "\t full\n",
      "combined-wza-real\n",
      "\t k1\n",
      "\t k2\n",
      "\t k3\n",
      "\t k4\n",
      "\t full\n",
      "fdc-baypass-random\n",
      "\t k1\n",
      "\t k2\n",
      "\t k3\n",
      "\t k4\n",
      "\t full\n",
      "fdi-baypass-random\n",
      "\t k1\n",
      "\t k2\n",
      "\t k3\n",
      "\t k4\n",
      "\t full\n",
      "jp-baypass-random\n",
      "\t k1\n",
      "\t k2\n",
      "\t k3\n",
      "\t full\n",
      "combined-baypass-random\n",
      "\t k1\n",
      "\t k2\n",
      "\t k3\n",
      "\t k4\n",
      "\t full\n",
      "fdc-wza-random\n",
      "\t k1\n",
      "\t k2\n",
      "\t k3\n",
      "\t k4\n",
      "\t full\n",
      "fdi-wza-random\n",
      "\t k1\n",
      "\t k2\n",
      "\t k3\n",
      "\t k4\n",
      "\t full\n",
      "jp-wza-random\n",
      "\t k1\n",
      "\t k2\n",
      "\t k3\n",
      "\t full\n",
      "wl-wza-random\n",
      "\t k1\n",
      "\t k2\n",
      "\t k3\n",
      "\t k4\n",
      "\t full\n",
      "combined-wza-random\n",
      "\t k1\n",
      "\t k2\n",
      "\t k3\n",
      "\t k4\n",
      "\t full\n"
     ]
    }
   ],
   "source": [
    "for dataset,kdict in training_climate.items():\n",
    "    print(dataset)\n",
    "    for k,envdf in kdict.items():\n",
    "        print('\\t', k)"
   ]
  },
  {
   "cell_type": "code",
   "execution_count": null,
   "metadata": {},
   "outputs": [],
   "source": []
  },
  {
   "cell_type": "code",
   "execution_count": null,
   "metadata": {},
   "outputs": [],
   "source": []
  },
  {
   "cell_type": "markdown",
   "metadata": {},
   "source": [
    "# Save"
   ]
  },
  {
   "cell_type": "markdown",
   "metadata": {},
   "source": [
    "### first, make sure the new files are exactly like the old files (unless 'combined')"
   ]
  },
  {
   "cell_type": "code",
   "execution_count": 47,
   "metadata": {},
   "outputs": [],
   "source": [
    "# save training files\n",
    "def write_datafile(file, df, reset_index=False, index=True, dry_run=False, index_col=None):\n",
    "    df = df.copy()\n",
    "    if reset_index is True:\n",
    "        # convert index to column named 'index'\n",
    "        df.reset_index(inplace=True, drop=False)     \n",
    "        index = False\n",
    "    \n",
    "    df.to_csv(file, sep='\\t', index=index, header=True)\n",
    "    \n",
    "    pass"
   ]
  },
  {
   "cell_type": "code",
   "execution_count": 48,
   "metadata": {},
   "outputs": [],
   "source": [
    "# make sure training files are the same as last time\n",
    "training_dir = makedir(op.join(DIR, 'training/training_files'))\n",
    "\n",
    "def finish_files():\n",
    "    freq_files = []\n",
    "    envdata_files = []\n",
    "    for dataset, kfolds in training_data.items():\n",
    "        if isinstance(kfolds, pd.DataFrame):  # if it's the full dataset\n",
    "            freqfile = op.join(training_dir, f'{dataset}.txt')\n",
    "            freq_files.append(freqfile)\n",
    "            write_datafile(freqfile, kfolds, reset_index=True)\n",
    "\n",
    "            envfile = op.join(training_dir, f'{dataset}_envdata.txt')\n",
    "            write_datafile(envfile, training_climate[dataset])\n",
    "    #         print(freqfile, '\\n', envfile)\n",
    "\n",
    "        else:  # else it's one of the cross-validation sets\n",
    "            for kfold,freqs in pbar(kfolds.items(), desc=dataset):\n",
    "                freqfile = op.join(training_dir, f'{dataset}-{kfold}.txt')\n",
    "                freq_files.append(freqfile)\n",
    "                write_datafile(freqfile, freqs, reset_index=True)\n",
    "\n",
    "                envfile = op.join(training_dir, f'{dataset}-{kfold}_envdata.txt')\n",
    "                envdata_files.append(envfile)\n",
    "    #             print(freqfile, '\\n', envfile)\n",
    "                write_datafile(envfile, training_climate[dataset][kfold])\n",
    "    return freq_files,envdata_files"
   ]
  },
  {
   "cell_type": "code",
   "execution_count": null,
   "metadata": {},
   "outputs": [],
   "source": []
  },
  {
   "cell_type": "markdown",
   "metadata": {},
   "source": [
    "### save training files for real"
   ]
  },
  {
   "cell_type": "code",
   "execution_count": 49,
   "metadata": {},
   "outputs": [
    {
     "name": "stderr",
     "output_type": "stream",
     "text": [
      "fdc-baypass-real: 100%|███████████████| 5/5 [00:03<00:00,  1.62it/s]\n",
      "fdi-baypass-real: 100%|███████████████| 5/5 [00:01<00:00,  2.96it/s]\n",
      "jp-baypass-real: 100%|███████████████| 4/4 [00:03<00:00,  1.31it/s]\n",
      "combined-baypass-real: 100%|███████████████| 5/5 [00:08<00:00,  1.78s/it]\n",
      "fdc-wza-real: 100%|███████████████| 5/5 [00:00<00:00,  9.63it/s]\n",
      "fdi-wza-real: 100%|███████████████| 5/5 [00:00<00:00, 23.37it/s]\n",
      "jp-wza-real: 100%|███████████████| 4/4 [00:00<00:00,  4.27it/s]\n",
      "wl-wza-real: 100%|███████████████| 5/5 [00:00<00:00, 210.75it/s]\n",
      "combined-wza-real: 100%|███████████████| 5/5 [00:01<00:00,  4.12it/s]\n",
      "fdc-baypass-random: 100%|███████████████| 5/5 [00:02<00:00,  1.77it/s]\n",
      "fdi-baypass-random: 100%|███████████████| 5/5 [00:01<00:00,  2.90it/s]\n",
      "jp-baypass-random: 100%|███████████████| 4/4 [00:03<00:00,  1.31it/s]\n",
      "combined-baypass-random: 100%|███████████████| 5/5 [00:08<00:00,  1.78s/it]\n",
      "fdc-wza-random: 100%|███████████████| 5/5 [00:00<00:00,  9.29it/s]\n",
      "fdi-wza-random: 100%|███████████████| 5/5 [00:00<00:00, 20.99it/s]\n",
      "jp-wza-random: 100%|███████████████| 4/4 [00:00<00:00,  4.21it/s]\n",
      "wl-wza-random: 100%|███████████████| 5/5 [00:00<00:00, 117.34it/s]\n",
      "combined-wza-random: 100%|███████████████| 5/5 [00:01<00:00,  4.27it/s]\n"
     ]
    }
   ],
   "source": [
    "# write to file\n",
    "freqfiles, envdata_files = finish_files()"
   ]
  },
  {
   "cell_type": "code",
   "execution_count": 50,
   "metadata": {},
   "outputs": [],
   "source": [
    "assert len(freqfiles) == luni(freqfiles)\n",
    "assert len(envdata_files) == luni(envdata_files)"
   ]
  },
  {
   "cell_type": "code",
   "execution_count": null,
   "metadata": {},
   "outputs": [],
   "source": []
  },
  {
   "cell_type": "code",
   "execution_count": 51,
   "metadata": {},
   "outputs": [
    {
     "data": {
      "text/plain": [
       "['/data/projects/pool_seq/phenotypic_data/offset_misc_files/training/training_files/fdc-baypass-real-k1_envdata.txt',\n",
       " '/data/projects/pool_seq/phenotypic_data/offset_misc_files/training/training_files/fdc-baypass-real-k2_envdata.txt',\n",
       " '/data/projects/pool_seq/phenotypic_data/offset_misc_files/training/training_files/fdc-baypass-real-k3_envdata.txt',\n",
       " '/data/projects/pool_seq/phenotypic_data/offset_misc_files/training/training_files/fdc-baypass-real-k4_envdata.txt',\n",
       " '/data/projects/pool_seq/phenotypic_data/offset_misc_files/training/training_files/fdc-baypass-real-full_envdata.txt',\n",
       " '/data/projects/pool_seq/phenotypic_data/offset_misc_files/training/training_files/fdi-baypass-real-k1_envdata.txt',\n",
       " '/data/projects/pool_seq/phenotypic_data/offset_misc_files/training/training_files/fdi-baypass-real-k2_envdata.txt',\n",
       " '/data/projects/pool_seq/phenotypic_data/offset_misc_files/training/training_files/fdi-baypass-real-k3_envdata.txt',\n",
       " '/data/projects/pool_seq/phenotypic_data/offset_misc_files/training/training_files/fdi-baypass-real-k4_envdata.txt',\n",
       " '/data/projects/pool_seq/phenotypic_data/offset_misc_files/training/training_files/fdi-baypass-real-full_envdata.txt',\n",
       " '/data/projects/pool_seq/phenotypic_data/offset_misc_files/training/training_files/jp-baypass-real-k1_envdata.txt',\n",
       " '/data/projects/pool_seq/phenotypic_data/offset_misc_files/training/training_files/jp-baypass-real-k2_envdata.txt',\n",
       " '/data/projects/pool_seq/phenotypic_data/offset_misc_files/training/training_files/jp-baypass-real-k3_envdata.txt',\n",
       " '/data/projects/pool_seq/phenotypic_data/offset_misc_files/training/training_files/jp-baypass-real-full_envdata.txt',\n",
       " '/data/projects/pool_seq/phenotypic_data/offset_misc_files/training/training_files/combined-baypass-real-k1_envdata.txt',\n",
       " '/data/projects/pool_seq/phenotypic_data/offset_misc_files/training/training_files/combined-baypass-real-k2_envdata.txt',\n",
       " '/data/projects/pool_seq/phenotypic_data/offset_misc_files/training/training_files/combined-baypass-real-k3_envdata.txt',\n",
       " '/data/projects/pool_seq/phenotypic_data/offset_misc_files/training/training_files/combined-baypass-real-k4_envdata.txt',\n",
       " '/data/projects/pool_seq/phenotypic_data/offset_misc_files/training/training_files/combined-baypass-real-full_envdata.txt',\n",
       " '/data/projects/pool_seq/phenotypic_data/offset_misc_files/training/training_files/fdc-wza-real-k1_envdata.txt',\n",
       " '/data/projects/pool_seq/phenotypic_data/offset_misc_files/training/training_files/fdc-wza-real-k2_envdata.txt',\n",
       " '/data/projects/pool_seq/phenotypic_data/offset_misc_files/training/training_files/fdc-wza-real-k3_envdata.txt',\n",
       " '/data/projects/pool_seq/phenotypic_data/offset_misc_files/training/training_files/fdc-wza-real-k4_envdata.txt',\n",
       " '/data/projects/pool_seq/phenotypic_data/offset_misc_files/training/training_files/fdc-wza-real-full_envdata.txt',\n",
       " '/data/projects/pool_seq/phenotypic_data/offset_misc_files/training/training_files/fdi-wza-real-k1_envdata.txt',\n",
       " '/data/projects/pool_seq/phenotypic_data/offset_misc_files/training/training_files/fdi-wza-real-k2_envdata.txt',\n",
       " '/data/projects/pool_seq/phenotypic_data/offset_misc_files/training/training_files/fdi-wza-real-k3_envdata.txt',\n",
       " '/data/projects/pool_seq/phenotypic_data/offset_misc_files/training/training_files/fdi-wza-real-k4_envdata.txt',\n",
       " '/data/projects/pool_seq/phenotypic_data/offset_misc_files/training/training_files/fdi-wza-real-full_envdata.txt',\n",
       " '/data/projects/pool_seq/phenotypic_data/offset_misc_files/training/training_files/jp-wza-real-k1_envdata.txt',\n",
       " '/data/projects/pool_seq/phenotypic_data/offset_misc_files/training/training_files/jp-wza-real-k2_envdata.txt',\n",
       " '/data/projects/pool_seq/phenotypic_data/offset_misc_files/training/training_files/jp-wza-real-k3_envdata.txt',\n",
       " '/data/projects/pool_seq/phenotypic_data/offset_misc_files/training/training_files/jp-wza-real-full_envdata.txt',\n",
       " '/data/projects/pool_seq/phenotypic_data/offset_misc_files/training/training_files/wl-wza-real-k1_envdata.txt',\n",
       " '/data/projects/pool_seq/phenotypic_data/offset_misc_files/training/training_files/wl-wza-real-k2_envdata.txt',\n",
       " '/data/projects/pool_seq/phenotypic_data/offset_misc_files/training/training_files/wl-wza-real-k3_envdata.txt',\n",
       " '/data/projects/pool_seq/phenotypic_data/offset_misc_files/training/training_files/wl-wza-real-k4_envdata.txt',\n",
       " '/data/projects/pool_seq/phenotypic_data/offset_misc_files/training/training_files/wl-wza-real-full_envdata.txt',\n",
       " '/data/projects/pool_seq/phenotypic_data/offset_misc_files/training/training_files/combined-wza-real-k1_envdata.txt',\n",
       " '/data/projects/pool_seq/phenotypic_data/offset_misc_files/training/training_files/combined-wza-real-k2_envdata.txt',\n",
       " '/data/projects/pool_seq/phenotypic_data/offset_misc_files/training/training_files/combined-wza-real-k3_envdata.txt',\n",
       " '/data/projects/pool_seq/phenotypic_data/offset_misc_files/training/training_files/combined-wza-real-k4_envdata.txt',\n",
       " '/data/projects/pool_seq/phenotypic_data/offset_misc_files/training/training_files/combined-wza-real-full_envdata.txt',\n",
       " '/data/projects/pool_seq/phenotypic_data/offset_misc_files/training/training_files/fdc-baypass-random-k1_envdata.txt',\n",
       " '/data/projects/pool_seq/phenotypic_data/offset_misc_files/training/training_files/fdc-baypass-random-k2_envdata.txt',\n",
       " '/data/projects/pool_seq/phenotypic_data/offset_misc_files/training/training_files/fdc-baypass-random-k3_envdata.txt',\n",
       " '/data/projects/pool_seq/phenotypic_data/offset_misc_files/training/training_files/fdc-baypass-random-k4_envdata.txt',\n",
       " '/data/projects/pool_seq/phenotypic_data/offset_misc_files/training/training_files/fdc-baypass-random-full_envdata.txt',\n",
       " '/data/projects/pool_seq/phenotypic_data/offset_misc_files/training/training_files/fdi-baypass-random-k1_envdata.txt',\n",
       " '/data/projects/pool_seq/phenotypic_data/offset_misc_files/training/training_files/fdi-baypass-random-k2_envdata.txt',\n",
       " '/data/projects/pool_seq/phenotypic_data/offset_misc_files/training/training_files/fdi-baypass-random-k3_envdata.txt',\n",
       " '/data/projects/pool_seq/phenotypic_data/offset_misc_files/training/training_files/fdi-baypass-random-k4_envdata.txt',\n",
       " '/data/projects/pool_seq/phenotypic_data/offset_misc_files/training/training_files/fdi-baypass-random-full_envdata.txt',\n",
       " '/data/projects/pool_seq/phenotypic_data/offset_misc_files/training/training_files/jp-baypass-random-k1_envdata.txt',\n",
       " '/data/projects/pool_seq/phenotypic_data/offset_misc_files/training/training_files/jp-baypass-random-k2_envdata.txt',\n",
       " '/data/projects/pool_seq/phenotypic_data/offset_misc_files/training/training_files/jp-baypass-random-k3_envdata.txt',\n",
       " '/data/projects/pool_seq/phenotypic_data/offset_misc_files/training/training_files/jp-baypass-random-full_envdata.txt',\n",
       " '/data/projects/pool_seq/phenotypic_data/offset_misc_files/training/training_files/combined-baypass-random-k1_envdata.txt',\n",
       " '/data/projects/pool_seq/phenotypic_data/offset_misc_files/training/training_files/combined-baypass-random-k2_envdata.txt',\n",
       " '/data/projects/pool_seq/phenotypic_data/offset_misc_files/training/training_files/combined-baypass-random-k3_envdata.txt',\n",
       " '/data/projects/pool_seq/phenotypic_data/offset_misc_files/training/training_files/combined-baypass-random-k4_envdata.txt',\n",
       " '/data/projects/pool_seq/phenotypic_data/offset_misc_files/training/training_files/combined-baypass-random-full_envdata.txt',\n",
       " '/data/projects/pool_seq/phenotypic_data/offset_misc_files/training/training_files/fdc-wza-random-k1_envdata.txt',\n",
       " '/data/projects/pool_seq/phenotypic_data/offset_misc_files/training/training_files/fdc-wza-random-k2_envdata.txt',\n",
       " '/data/projects/pool_seq/phenotypic_data/offset_misc_files/training/training_files/fdc-wza-random-k3_envdata.txt',\n",
       " '/data/projects/pool_seq/phenotypic_data/offset_misc_files/training/training_files/fdc-wza-random-k4_envdata.txt',\n",
       " '/data/projects/pool_seq/phenotypic_data/offset_misc_files/training/training_files/fdc-wza-random-full_envdata.txt',\n",
       " '/data/projects/pool_seq/phenotypic_data/offset_misc_files/training/training_files/fdi-wza-random-k1_envdata.txt',\n",
       " '/data/projects/pool_seq/phenotypic_data/offset_misc_files/training/training_files/fdi-wza-random-k2_envdata.txt',\n",
       " '/data/projects/pool_seq/phenotypic_data/offset_misc_files/training/training_files/fdi-wza-random-k3_envdata.txt',\n",
       " '/data/projects/pool_seq/phenotypic_data/offset_misc_files/training/training_files/fdi-wza-random-k4_envdata.txt',\n",
       " '/data/projects/pool_seq/phenotypic_data/offset_misc_files/training/training_files/fdi-wza-random-full_envdata.txt',\n",
       " '/data/projects/pool_seq/phenotypic_data/offset_misc_files/training/training_files/jp-wza-random-k1_envdata.txt',\n",
       " '/data/projects/pool_seq/phenotypic_data/offset_misc_files/training/training_files/jp-wza-random-k2_envdata.txt',\n",
       " '/data/projects/pool_seq/phenotypic_data/offset_misc_files/training/training_files/jp-wza-random-k3_envdata.txt',\n",
       " '/data/projects/pool_seq/phenotypic_data/offset_misc_files/training/training_files/jp-wza-random-full_envdata.txt',\n",
       " '/data/projects/pool_seq/phenotypic_data/offset_misc_files/training/training_files/wl-wza-random-k1_envdata.txt',\n",
       " '/data/projects/pool_seq/phenotypic_data/offset_misc_files/training/training_files/wl-wza-random-k2_envdata.txt',\n",
       " '/data/projects/pool_seq/phenotypic_data/offset_misc_files/training/training_files/wl-wza-random-k3_envdata.txt',\n",
       " '/data/projects/pool_seq/phenotypic_data/offset_misc_files/training/training_files/wl-wza-random-k4_envdata.txt',\n",
       " '/data/projects/pool_seq/phenotypic_data/offset_misc_files/training/training_files/wl-wza-random-full_envdata.txt',\n",
       " '/data/projects/pool_seq/phenotypic_data/offset_misc_files/training/training_files/combined-wza-random-k1_envdata.txt',\n",
       " '/data/projects/pool_seq/phenotypic_data/offset_misc_files/training/training_files/combined-wza-random-k2_envdata.txt',\n",
       " '/data/projects/pool_seq/phenotypic_data/offset_misc_files/training/training_files/combined-wza-random-k3_envdata.txt',\n",
       " '/data/projects/pool_seq/phenotypic_data/offset_misc_files/training/training_files/combined-wza-random-k4_envdata.txt',\n",
       " '/data/projects/pool_seq/phenotypic_data/offset_misc_files/training/training_files/combined-wza-random-full_envdata.txt']"
      ]
     },
     "execution_count": 51,
     "metadata": {},
     "output_type": "execute_result"
    }
   ],
   "source": [
    "envdata_files"
   ]
  },
  {
   "cell_type": "code",
   "execution_count": 52,
   "metadata": {},
   "outputs": [
    {
     "data": {
      "text/plain": [
       "['/data/projects/pool_seq/phenotypic_data/offset_misc_files/training/training_files/fdc-baypass-real-k1.txt',\n",
       " '/data/projects/pool_seq/phenotypic_data/offset_misc_files/training/training_files/fdc-baypass-real-k2.txt',\n",
       " '/data/projects/pool_seq/phenotypic_data/offset_misc_files/training/training_files/fdc-baypass-real-k3.txt',\n",
       " '/data/projects/pool_seq/phenotypic_data/offset_misc_files/training/training_files/fdc-baypass-real-k4.txt',\n",
       " '/data/projects/pool_seq/phenotypic_data/offset_misc_files/training/training_files/fdc-baypass-real-full.txt',\n",
       " '/data/projects/pool_seq/phenotypic_data/offset_misc_files/training/training_files/fdi-baypass-real-k1.txt',\n",
       " '/data/projects/pool_seq/phenotypic_data/offset_misc_files/training/training_files/fdi-baypass-real-k2.txt',\n",
       " '/data/projects/pool_seq/phenotypic_data/offset_misc_files/training/training_files/fdi-baypass-real-k3.txt',\n",
       " '/data/projects/pool_seq/phenotypic_data/offset_misc_files/training/training_files/fdi-baypass-real-k4.txt',\n",
       " '/data/projects/pool_seq/phenotypic_data/offset_misc_files/training/training_files/fdi-baypass-real-full.txt',\n",
       " '/data/projects/pool_seq/phenotypic_data/offset_misc_files/training/training_files/jp-baypass-real-k1.txt',\n",
       " '/data/projects/pool_seq/phenotypic_data/offset_misc_files/training/training_files/jp-baypass-real-k2.txt',\n",
       " '/data/projects/pool_seq/phenotypic_data/offset_misc_files/training/training_files/jp-baypass-real-k3.txt',\n",
       " '/data/projects/pool_seq/phenotypic_data/offset_misc_files/training/training_files/jp-baypass-real-full.txt',\n",
       " '/data/projects/pool_seq/phenotypic_data/offset_misc_files/training/training_files/combined-baypass-real-k1.txt',\n",
       " '/data/projects/pool_seq/phenotypic_data/offset_misc_files/training/training_files/combined-baypass-real-k2.txt',\n",
       " '/data/projects/pool_seq/phenotypic_data/offset_misc_files/training/training_files/combined-baypass-real-k3.txt',\n",
       " '/data/projects/pool_seq/phenotypic_data/offset_misc_files/training/training_files/combined-baypass-real-k4.txt',\n",
       " '/data/projects/pool_seq/phenotypic_data/offset_misc_files/training/training_files/combined-baypass-real-full.txt',\n",
       " '/data/projects/pool_seq/phenotypic_data/offset_misc_files/training/training_files/fdc-wza-real-k1.txt',\n",
       " '/data/projects/pool_seq/phenotypic_data/offset_misc_files/training/training_files/fdc-wza-real-k2.txt',\n",
       " '/data/projects/pool_seq/phenotypic_data/offset_misc_files/training/training_files/fdc-wza-real-k3.txt',\n",
       " '/data/projects/pool_seq/phenotypic_data/offset_misc_files/training/training_files/fdc-wza-real-k4.txt',\n",
       " '/data/projects/pool_seq/phenotypic_data/offset_misc_files/training/training_files/fdc-wza-real-full.txt',\n",
       " '/data/projects/pool_seq/phenotypic_data/offset_misc_files/training/training_files/fdi-wza-real-k1.txt',\n",
       " '/data/projects/pool_seq/phenotypic_data/offset_misc_files/training/training_files/fdi-wza-real-k2.txt',\n",
       " '/data/projects/pool_seq/phenotypic_data/offset_misc_files/training/training_files/fdi-wza-real-k3.txt',\n",
       " '/data/projects/pool_seq/phenotypic_data/offset_misc_files/training/training_files/fdi-wza-real-k4.txt',\n",
       " '/data/projects/pool_seq/phenotypic_data/offset_misc_files/training/training_files/fdi-wza-real-full.txt',\n",
       " '/data/projects/pool_seq/phenotypic_data/offset_misc_files/training/training_files/jp-wza-real-k1.txt',\n",
       " '/data/projects/pool_seq/phenotypic_data/offset_misc_files/training/training_files/jp-wza-real-k2.txt',\n",
       " '/data/projects/pool_seq/phenotypic_data/offset_misc_files/training/training_files/jp-wza-real-k3.txt',\n",
       " '/data/projects/pool_seq/phenotypic_data/offset_misc_files/training/training_files/jp-wza-real-full.txt',\n",
       " '/data/projects/pool_seq/phenotypic_data/offset_misc_files/training/training_files/wl-wza-real-k1.txt',\n",
       " '/data/projects/pool_seq/phenotypic_data/offset_misc_files/training/training_files/wl-wza-real-k2.txt',\n",
       " '/data/projects/pool_seq/phenotypic_data/offset_misc_files/training/training_files/wl-wza-real-k3.txt',\n",
       " '/data/projects/pool_seq/phenotypic_data/offset_misc_files/training/training_files/wl-wza-real-k4.txt',\n",
       " '/data/projects/pool_seq/phenotypic_data/offset_misc_files/training/training_files/wl-wza-real-full.txt',\n",
       " '/data/projects/pool_seq/phenotypic_data/offset_misc_files/training/training_files/combined-wza-real-k1.txt',\n",
       " '/data/projects/pool_seq/phenotypic_data/offset_misc_files/training/training_files/combined-wza-real-k2.txt',\n",
       " '/data/projects/pool_seq/phenotypic_data/offset_misc_files/training/training_files/combined-wza-real-k3.txt',\n",
       " '/data/projects/pool_seq/phenotypic_data/offset_misc_files/training/training_files/combined-wza-real-k4.txt',\n",
       " '/data/projects/pool_seq/phenotypic_data/offset_misc_files/training/training_files/combined-wza-real-full.txt',\n",
       " '/data/projects/pool_seq/phenotypic_data/offset_misc_files/training/training_files/fdc-baypass-random-k1.txt',\n",
       " '/data/projects/pool_seq/phenotypic_data/offset_misc_files/training/training_files/fdc-baypass-random-k2.txt',\n",
       " '/data/projects/pool_seq/phenotypic_data/offset_misc_files/training/training_files/fdc-baypass-random-k3.txt',\n",
       " '/data/projects/pool_seq/phenotypic_data/offset_misc_files/training/training_files/fdc-baypass-random-k4.txt',\n",
       " '/data/projects/pool_seq/phenotypic_data/offset_misc_files/training/training_files/fdc-baypass-random-full.txt',\n",
       " '/data/projects/pool_seq/phenotypic_data/offset_misc_files/training/training_files/fdi-baypass-random-k1.txt',\n",
       " '/data/projects/pool_seq/phenotypic_data/offset_misc_files/training/training_files/fdi-baypass-random-k2.txt',\n",
       " '/data/projects/pool_seq/phenotypic_data/offset_misc_files/training/training_files/fdi-baypass-random-k3.txt',\n",
       " '/data/projects/pool_seq/phenotypic_data/offset_misc_files/training/training_files/fdi-baypass-random-k4.txt',\n",
       " '/data/projects/pool_seq/phenotypic_data/offset_misc_files/training/training_files/fdi-baypass-random-full.txt',\n",
       " '/data/projects/pool_seq/phenotypic_data/offset_misc_files/training/training_files/jp-baypass-random-k1.txt',\n",
       " '/data/projects/pool_seq/phenotypic_data/offset_misc_files/training/training_files/jp-baypass-random-k2.txt',\n",
       " '/data/projects/pool_seq/phenotypic_data/offset_misc_files/training/training_files/jp-baypass-random-k3.txt',\n",
       " '/data/projects/pool_seq/phenotypic_data/offset_misc_files/training/training_files/jp-baypass-random-full.txt',\n",
       " '/data/projects/pool_seq/phenotypic_data/offset_misc_files/training/training_files/combined-baypass-random-k1.txt',\n",
       " '/data/projects/pool_seq/phenotypic_data/offset_misc_files/training/training_files/combined-baypass-random-k2.txt',\n",
       " '/data/projects/pool_seq/phenotypic_data/offset_misc_files/training/training_files/combined-baypass-random-k3.txt',\n",
       " '/data/projects/pool_seq/phenotypic_data/offset_misc_files/training/training_files/combined-baypass-random-k4.txt',\n",
       " '/data/projects/pool_seq/phenotypic_data/offset_misc_files/training/training_files/combined-baypass-random-full.txt',\n",
       " '/data/projects/pool_seq/phenotypic_data/offset_misc_files/training/training_files/fdc-wza-random-k1.txt',\n",
       " '/data/projects/pool_seq/phenotypic_data/offset_misc_files/training/training_files/fdc-wza-random-k2.txt',\n",
       " '/data/projects/pool_seq/phenotypic_data/offset_misc_files/training/training_files/fdc-wza-random-k3.txt',\n",
       " '/data/projects/pool_seq/phenotypic_data/offset_misc_files/training/training_files/fdc-wza-random-k4.txt',\n",
       " '/data/projects/pool_seq/phenotypic_data/offset_misc_files/training/training_files/fdc-wza-random-full.txt',\n",
       " '/data/projects/pool_seq/phenotypic_data/offset_misc_files/training/training_files/fdi-wza-random-k1.txt',\n",
       " '/data/projects/pool_seq/phenotypic_data/offset_misc_files/training/training_files/fdi-wza-random-k2.txt',\n",
       " '/data/projects/pool_seq/phenotypic_data/offset_misc_files/training/training_files/fdi-wza-random-k3.txt',\n",
       " '/data/projects/pool_seq/phenotypic_data/offset_misc_files/training/training_files/fdi-wza-random-k4.txt',\n",
       " '/data/projects/pool_seq/phenotypic_data/offset_misc_files/training/training_files/fdi-wza-random-full.txt',\n",
       " '/data/projects/pool_seq/phenotypic_data/offset_misc_files/training/training_files/jp-wza-random-k1.txt',\n",
       " '/data/projects/pool_seq/phenotypic_data/offset_misc_files/training/training_files/jp-wza-random-k2.txt',\n",
       " '/data/projects/pool_seq/phenotypic_data/offset_misc_files/training/training_files/jp-wza-random-k3.txt',\n",
       " '/data/projects/pool_seq/phenotypic_data/offset_misc_files/training/training_files/jp-wza-random-full.txt',\n",
       " '/data/projects/pool_seq/phenotypic_data/offset_misc_files/training/training_files/wl-wza-random-k1.txt',\n",
       " '/data/projects/pool_seq/phenotypic_data/offset_misc_files/training/training_files/wl-wza-random-k2.txt',\n",
       " '/data/projects/pool_seq/phenotypic_data/offset_misc_files/training/training_files/wl-wza-random-k3.txt',\n",
       " '/data/projects/pool_seq/phenotypic_data/offset_misc_files/training/training_files/wl-wza-random-k4.txt',\n",
       " '/data/projects/pool_seq/phenotypic_data/offset_misc_files/training/training_files/wl-wza-random-full.txt',\n",
       " '/data/projects/pool_seq/phenotypic_data/offset_misc_files/training/training_files/combined-wza-random-k1.txt',\n",
       " '/data/projects/pool_seq/phenotypic_data/offset_misc_files/training/training_files/combined-wza-random-k2.txt',\n",
       " '/data/projects/pool_seq/phenotypic_data/offset_misc_files/training/training_files/combined-wza-random-k3.txt',\n",
       " '/data/projects/pool_seq/phenotypic_data/offset_misc_files/training/training_files/combined-wza-random-k4.txt',\n",
       " '/data/projects/pool_seq/phenotypic_data/offset_misc_files/training/training_files/combined-wza-random-full.txt']"
      ]
     },
     "execution_count": 52,
     "metadata": {},
     "output_type": "execute_result"
    }
   ],
   "source": [
    "freqfiles"
   ]
  },
  {
   "cell_type": "markdown",
   "metadata": {},
   "source": [
    " "
   ]
  },
  {
   "cell_type": "markdown",
   "metadata": {},
   "source": [
    " "
   ]
  },
  {
   "cell_type": "markdown",
   "metadata": {},
   "source": [
    "<a id='slurm'></a>\n",
    "# 5. create slurm files\n",
    "\n",
    "[top](#home)"
   ]
  },
  {
   "cell_type": "code",
   "execution_count": 53,
   "metadata": {},
   "outputs": [],
   "source": [
    "# files created in ../03_clip_climate_data.ipynb\n",
    "range_files = {'fdc' : '/data/projects/pool_seq/environemental_data/new_netCDF_files/NA_NORM_1961-1990/NA_NORM_1961-1990_all-envs_WGS84_clipped_coastal.txt',\n",
    "               'fdi' : '/data/projects/pool_seq/environemental_data/new_netCDF_files/NA_NORM_1961-1990/NA_NORM_1961-1990_all-envs_WGS84_clipped_interior.txt',\n",
    "               'jp' : '/data/projects/pool_seq/environemental_data/new_netCDF_files/NA_NORM_1961-1990/NA_NORM_1961-1990_all-envs_WGS84_clipped_jp.txt',\n",
    "               'wl' : '/data/projects/pool_seq/environemental_data/new_netCDF_files/NA_NORM_1961-1990/NA_NORM_1961-1990_all-envs_WGS84_clipped_wl.txt',\n",
    "               'combined' : '/data/projects/pool_seq/environemental_data/new_netCDF_files/NA_NORM_1961-1990/NA_NORM_1961-1990_all-envs_WGS84_clipped_combined.txt'\n",
    "              }\n",
    "assert all([op.exists(f) for f in range_files.values()])"
   ]
  },
  {
   "cell_type": "code",
   "execution_count": 54,
   "metadata": {},
   "outputs": [
    {
     "data": {
      "text/plain": [
       "'/data/projects/pool_seq/phenotypic_data/offset_misc_files'"
      ]
     },
     "execution_count": 54,
     "metadata": {},
     "output_type": "execute_result"
    }
   ],
   "source": [
    "DIR"
   ]
  },
  {
   "cell_type": "code",
   "execution_count": 55,
   "metadata": {},
   "outputs": [
    {
     "data": {
      "text/plain": [
       "86"
      ]
     },
     "execution_count": 55,
     "metadata": {},
     "output_type": "execute_result"
    }
   ],
   "source": [
    "# create sbatch .sh files\n",
    "cdir = '/scratch/lindb/gradient_forest_iterations'  # remote path\n",
    "\n",
    "# move previously created files from before revision (these shouldn't change though except for email)\n",
    "shdir = makedir(op.join(DIR, 'training/training_shfiles'))\n",
    "tmpdir = makedir(op.join(shdir, 'before_revision'))\n",
    "for src in fs(shdir, dirs=False):\n",
    "    # save previous files\n",
    "    dst = op.join(tmpdir, op.basename(src))\n",
    "    shutil.move(src, dst)\n",
    "imports_path = '/home/lindb/github/r_imports'  # remote path\n",
    "\n",
    "# create sh files\n",
    "shfiles = []\n",
    "for snpfile in freqfiles:\n",
    "    snpfile = snpfile.replace(DIR, cdir)  # remote path\n",
    "    spp = op.basename(snpfile).split('_')[0].split(\"-\")[0]\n",
    "    \n",
    "    envfile = snpfile.replace('.txt', '_envdata.txt')  # remote path\n",
    "    rangefile = op.join(cdir, 'training/training_files/' + op.basename(range_files[spp]))  # remote path\n",
    "    basename = op.basename(snpfile.rstrip('.txt'))\n",
    "    \n",
    "    text = f'''#!/bin/sh\n",
    "#SBATCH --job-name={basename}\n",
    "#SBATCH --time=12:00:00\n",
    "#SBATCH --mem=120000M\n",
    "#SBATCH --output={basename}_%j.out\n",
    "#SBATCH --mail-user=lind.brandon.m@gmail.com\n",
    "#SBATCH --mail-type=FAIL\n",
    "\n",
    "module load nixpkgs/16.09  gcc/7.3.0 r/3.5.1\n",
    "export R_LIBS=~/.local/R/$EBVERSIONR\n",
    "\n",
    "Rscript {cdir}/gradient_training.R \\\\\n",
    "{snpfile} \\\\\n",
    "{envfile} \\\\\n",
    "{rangefile} \\\\\n",
    "{basename} \\\\\n",
    "{cdir} \\\\\n",
    "{imports_path}\n",
    "\n",
    "\n",
    "'''\n",
    "    shfile = op.join(shdir, basename + '.sh')\n",
    "    with open(shfile, 'w') as o:\n",
    "        o.write(text)\n",
    "    shfiles.append(shfile)\n",
    "    \n",
    "len(shfiles)"
   ]
  },
  {
   "cell_type": "code",
   "execution_count": 56,
   "metadata": {},
   "outputs": [
    {
     "data": {
      "text/plain": [
       "['/data/projects/pool_seq/phenotypic_data/offset_misc_files/training/training_shfiles/fdc-baypass-real-k1.sh',\n",
       " '/data/projects/pool_seq/phenotypic_data/offset_misc_files/training/training_shfiles/fdc-baypass-real-k2.sh',\n",
       " '/data/projects/pool_seq/phenotypic_data/offset_misc_files/training/training_shfiles/fdc-baypass-real-k3.sh',\n",
       " '/data/projects/pool_seq/phenotypic_data/offset_misc_files/training/training_shfiles/fdc-baypass-real-k4.sh',\n",
       " '/data/projects/pool_seq/phenotypic_data/offset_misc_files/training/training_shfiles/fdc-baypass-real-full.sh']"
      ]
     },
     "execution_count": 56,
     "metadata": {},
     "output_type": "execute_result"
    }
   ],
   "source": [
    "shfiles[:5]"
   ]
  },
  {
   "cell_type": "code",
   "execution_count": 57,
   "metadata": {},
   "outputs": [
    {
     "name": "stdout",
     "output_type": "stream",
     "text": [
      "#!/bin/sh\n",
      "#SBATCH --job-name=fdc-baypass-real-k1\n",
      "#SBATCH --time=12:00:00\n",
      "#SBATCH --mem=120000M\n",
      "#SBATCH --output=fdc-baypass-real-k1_%j.out\n",
      "#SBATCH --mail-user=lind.brandon.m@gmail.com\n",
      "#SBATCH --mail-type=FAIL\n",
      "\n",
      "module load nixpkgs/16.09  gcc/7.3.0 r/3.5.1\n",
      "export R_LIBS=~/.local/R/$EBVERSIONR\n",
      "\n",
      "Rscript /scratch/lindb/gradient_forest_iterations/gradient_training.R \\\n",
      "/scratch/lindb/gradient_forest_iterations/training/training_files/fdc-baypass-real-k1.txt \\\n",
      "/scratch/lindb/gradient_forest_iterations/training/training_files/fdc-baypass-real-k1_envdata.txt \\\n",
      "/scratch/lindb/gradient_forest_iterations/training/training_files/NA_NORM_1961-1990_all-envs_WGS84_clipped_coastal.txt \\\n",
      "fdc-baypass-real-k1 \\\n",
      "/scratch/lindb/gradient_forest_iterations \\\n",
      "/home/lindb/github/r_imports\n",
      "\n",
      "\n",
      "\n"
     ]
    }
   ],
   "source": [
    "print(read(shfiles[0], lines=False))"
   ]
  },
  {
   "cell_type": "markdown",
   "metadata": {},
   "source": [
    "<a id='cedar'></a>\n",
    "# 6. transfer to cedar HPC\n",
    "\n",
    "[top](#home)"
   ]
  },
  {
   "cell_type": "code",
   "execution_count": 58,
   "metadata": {},
   "outputs": [
    {
     "data": {
      "text/plain": [
       "'/scratch/lindb/gradient_forest_iterations'"
      ]
     },
     "execution_count": 58,
     "metadata": {},
     "output_type": "execute_result"
    }
   ],
   "source": [
    "cdir"
   ]
  },
  {
   "cell_type": "code",
   "execution_count": 59,
   "metadata": {},
   "outputs": [
    {
     "data": {
      "text/plain": [
       "['/data/projects/pool_seq/phenotypic_data/offset_misc_files/extract_importance.R',\n",
       " '/data/projects/pool_seq/phenotypic_data/offset_misc_files/gradient_fitting_script.R',\n",
       " '/data/projects/pool_seq/phenotypic_data/offset_misc_files/gradient_training.R']"
      ]
     },
     "execution_count": 59,
     "metadata": {},
     "output_type": "execute_result"
    }
   ],
   "source": [
    "script_files = fs(DIR, endswith='.R')\n",
    "script_files"
   ]
  },
  {
   "cell_type": "code",
   "execution_count": 60,
   "metadata": {},
   "outputs": [
    {
     "data": {
      "text/plain": [
       "['cedar:/scratch/lindb/gradient_forest_iterations',\n",
       " 'cedar:/scratch/lindb/gradient_forest_iterations/training/training_shfiles',\n",
       " 'cedar:/scratch/lindb/gradient_forest_iterations/training/training_files']"
      ]
     },
     "execution_count": 60,
     "metadata": {},
     "output_type": "execute_result"
    }
   ],
   "source": [
    "# which dirs to make on cedar so that rsync commands work?\n",
    "dnames = []\n",
    "for src in freqfiles + envdata_files + script_files + shfiles:\n",
    "    dst = src.replace(DIR, 'cedar:' + cdir)\n",
    "    dnames.append(op.dirname(dst))\n",
    "    \n",
    "for src in values(range_files):\n",
    "    dst = src.replace(op.dirname(src), 'cedar:' + cdir)\n",
    "    dnames.append(op.dirname(dst))\n",
    "    \n",
    "uni(dnames)"
   ]
  },
  {
   "cell_type": "code",
   "execution_count": null,
   "metadata": {},
   "outputs": [],
   "source": []
  },
  {
   "cell_type": "code",
   "execution_count": 61,
   "metadata": {},
   "outputs": [
    {
     "name": "stdout",
     "output_type": "stream",
     "text": [
      "\u001b[1m\n",
      "Watching 266 jobs ...\u001b[0m\n"
     ]
    },
    {
     "name": "stderr",
     "output_type": "stream",
     "text": [
      "100%|███████████████| 266/266 [03:05<00:00,  1.43it/s]\n"
     ]
    }
   ],
   "source": [
    "jobs = []\n",
    "srcdsts = []\n",
    "for src in freqfiles + envdata_files + script_files + shfiles:\n",
    "    dst = src.replace(DIR, 'cedar:' + cdir)\n",
    "    jobs.append(lview.apply_async(rsync, *(src, dst)))\n",
    "    srcdsts.append((src, dst))\n",
    "    \n",
    "for src in values(range_files):\n",
    "    dst = src.replace(op.dirname(src), 'cedar:' + op.join(cdir, 'training/training_files'))\n",
    "    jobs.append(lview.apply_async(rsync, *(src, dst)))\n",
    "    srcdsts.append((src, dst))\n",
    "    \n",
    "watch_async(jobs)"
   ]
  },
  {
   "cell_type": "code",
   "execution_count": null,
   "metadata": {},
   "outputs": [],
   "source": []
  },
  {
   "cell_type": "code",
   "execution_count": 62,
   "metadata": {},
   "outputs": [
    {
     "name": "stdout",
     "output_type": "stream",
     "text": [
      "\u001b[1m\n",
      "Watching 4 jobs ...\u001b[0m\n"
     ]
    },
    {
     "name": "stderr",
     "output_type": "stream",
     "text": [
      "iteration 0: 100%|███████████████| 4/4 [00:12<00:00,  3.03s/it]\n"
     ]
    }
   ],
   "source": [
    "count = 0\n",
    "while True:\n",
    "    needed = []\n",
    "    newlist = []\n",
    "    for i,j in enumerate(jobs):\n",
    "        try:\n",
    "            x = j.r\n",
    "        except:\n",
    "            needed.append(srcdsts[i])\n",
    "            newlist.append(srcdsts[i])\n",
    "    srcdsts = newlist\n",
    "    \n",
    "    if len(needed) == 0:\n",
    "        break\n",
    "    \n",
    "    jobs = []\n",
    "    for src,dst in needed:\n",
    "        jobs.append(lview.apply_async(rsync, *(src, dst)))\n",
    "    watch_async(jobs, desc=f'iteration {count}')\n",
    "    \n",
    "    count += 1\n"
   ]
  },
  {
   "cell_type": "code",
   "execution_count": null,
   "metadata": {},
   "outputs": [],
   "source": []
  },
  {
   "cell_type": "code",
   "execution_count": null,
   "metadata": {},
   "outputs": [],
   "source": []
  },
  {
   "cell_type": "code",
   "execution_count": null,
   "metadata": {},
   "outputs": [],
   "source": []
  },
  {
   "cell_type": "code",
   "execution_count": 63,
   "metadata": {},
   "outputs": [
    {
     "data": {
      "text/plain": [
       "'0-00:12:44'"
      ]
     },
     "execution_count": 63,
     "metadata": {},
     "output_type": "execute_result"
    }
   ],
   "source": [
    "# total time to complete notebook\n",
    "t2 = dt.now()\n",
    "formatclock(t2 - t1, exact=True)"
   ]
  },
  {
   "cell_type": "code",
   "execution_count": null,
   "metadata": {},
   "outputs": [],
   "source": []
  },
  {
   "cell_type": "code",
   "execution_count": 64,
   "metadata": {},
   "outputs": [],
   "source": [
    "# now go to the server and sbatch the .sh files!"
   ]
  },
  {
   "cell_type": "code",
   "execution_count": null,
   "metadata": {},
   "outputs": [],
   "source": []
  },
  {
   "cell_type": "markdown",
   "metadata": {},
   "source": [
    "[top](#home)"
   ]
  },
  {
   "cell_type": "code",
   "execution_count": null,
   "metadata": {},
   "outputs": [],
   "source": []
  },
  {
   "cell_type": "code",
   "execution_count": null,
   "metadata": {},
   "outputs": [],
   "source": []
  },
  {
   "cell_type": "code",
   "execution_count": null,
   "metadata": {},
   "outputs": [],
   "source": []
  }
 ],
 "metadata": {
  "kernelspec": {
   "display_name": "Python 3",
   "language": "python",
   "name": "python3"
  },
  "language_info": {
   "codemirror_mode": {
    "name": "ipython",
    "version": 3
   },
   "file_extension": ".py",
   "mimetype": "text/x-python",
   "name": "python",
   "nbconvert_exporter": "python",
   "pygments_lexer": "ipython3",
   "version": "3.8.5"
  }
 },
 "nbformat": 4,
 "nbformat_minor": 4
}
