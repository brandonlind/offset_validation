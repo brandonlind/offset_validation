{
 "cells": [
  {
   "cell_type": "markdown",
   "id": "0a987059",
   "metadata": {},
   "source": [
    "<a id='home'></a>\n",
    "### purpose\n",
    "\n",
    "recreate the scatter plot between GF WZA full agains increment growth for the cross-variety model - original figure was in 11_validate_GF_offset_predictions.ipynb, but we want something prettier\n",
    "\n",
    "### outline\n",
    "\n",
    "[1. read in population data](#read)\n",
    "\n",
    "[2. extract offset values from netCDF files](#netcdf)\n",
    "\n",
    "[3. isolate pheno and offset vals](#iso)\n",
    "\n",
    "[4. create scatter plot](#scatter)"
   ]
  },
  {
   "cell_type": "code",
   "execution_count": 1,
   "id": "f1c68da1",
   "metadata": {},
   "outputs": [
    {
     "name": "stdout",
     "output_type": "stream",
     "text": [
      "56 56\n",
      "##################################################################\n",
      "Today:\tJune 27, 2023 - 06:06:55\n",
      "python version: 3.8.5\n",
      "conda env: newpy385\n",
      "\n",
      "Current commit of pythonimports:\n",
      "commit 03d76f7a992130f4b94ac34a09ad439e918d3044  \n",
      "Author: Brandon Lind <lind.brandon.m@gmail.com>  \n",
      "Date:   Fri Jun 9 09:42:21 2023 -0400\n",
      "##################################################################\n",
      "\n"
     ]
    },
    {
     "data": {
      "text/html": [
       "<details>\n",
       "<summary>Click to view session information</summary>\n",
       "<pre>\n",
       "-----\n",
       "balance_queue       NA\n",
       "cartopy             0.18.0\n",
       "ipyparallel         6.3.0\n",
       "matplotlib          3.3.1\n",
       "myclasses           NA\n",
       "myfigs              NA\n",
       "mymaps              NA\n",
       "myslurm             NA\n",
       "numpy               1.22.4\n",
       "pandas              1.5.3\n",
       "pythonimports       NA\n",
       "rioxarray           0.13.3\n",
       "session_info        1.0.0\n",
       "tqdm                4.55.1\n",
       "xarray              2023.1.0\n",
       "-----\n",
       "</pre>\n",
       "<details>\n",
       "<summary>Click to view modules imported as dependencies</summary>\n",
       "<pre>\n",
       "PIL                 9.4.0\n",
       "affine              2.4.0\n",
       "attr                22.2.0\n",
       "backcall            0.2.0\n",
       "certifi             2022.12.07\n",
       "cffi                1.14.5\n",
       "click               8.1.3\n",
       "cycler              0.10.0\n",
       "cython_runtime      NA\n",
       "dateutil            2.8.2\n",
       "decorator           5.0.9\n",
       "defusedxml          0.7.1\n",
       "fiona               1.8.20\n",
       "ipykernel           5.4.2\n",
       "ipython_genutils    0.2.0\n",
       "ipywidgets          7.6.3\n",
       "jedi                0.17.0\n",
       "kiwisolver          1.4.4\n",
       "matplotlib_venn     0.11.6\n",
       "mpl_toolkits        NA\n",
       "packaging           23.0\n",
       "parso               0.7.1\n",
       "pexpect             4.8.0\n",
       "pickleshare         0.7.5\n",
       "pkg_resources       NA\n",
       "prompt_toolkit      3.0.17\n",
       "ptyprocess          0.7.0\n",
       "pygments            2.9.0\n",
       "pyparsing           3.0.9\n",
       "pyproj              3.4.1\n",
       "pytz                2022.7.1\n",
       "rasterio            1.3.5.post1\n",
       "scipy               1.6.2\n",
       "seaborn             0.11.0\n",
       "setuptools          67.2.0\n",
       "shapefile           2.1.3\n",
       "shapely             1.7.1\n",
       "six                 1.16.0\n",
       "statsmodels         0.12.2\n",
       "storemagic          NA\n",
       "tornado             6.1\n",
       "traitlets           5.0.5\n",
       "wcwidth             0.2.5\n",
       "zmq                 22.1.0\n",
       "</pre>\n",
       "</details> <!-- seems like this ends pre, so might as well be explicit -->\n",
       "<pre>\n",
       "-----\n",
       "IPython             7.19.0\n",
       "jupyter_client      6.1.12\n",
       "jupyter_core        4.7.1\n",
       "notebook            6.4.0\n",
       "-----\n",
       "Python 3.8.5 (default, Sep  4 2020, 07:30:14) [GCC 7.3.0]\n",
       "Linux-3.10.0-1160.90.1.el7.x86_64-x86_64-with-glibc2.10\n",
       "-----\n",
       "Session information updated at 2023-06-27 06:06\n",
       "</pre>\n",
       "</details>"
      ],
      "text/plain": [
       "<IPython.core.display.HTML object>"
      ]
     },
     "execution_count": 1,
     "metadata": {},
     "output_type": "execute_result"
    }
   ],
   "source": [
    "from pythonimports import *\n",
    "from myfigs import save_pdf\n",
    "\n",
    "import xarray\n",
    "import rioxarray\n",
    "\n",
    "t1 = dt.now()  # notebook timer\n",
    "\n",
    "savedir = '/data/projects/pool_seq/phenotypic_data/offset_misc_files/results/gradient_forests/figs'\n",
    "\n",
    "lview,dview = get_client()\n",
    "\n",
    "latest_commit()\n",
    "session_info.show()"
   ]
  },
  {
   "cell_type": "markdown",
   "id": "7bd3f717",
   "metadata": {},
   "source": [
    "<a id='read'></a>\n",
    "# 1. read in population data\n",
    "[top](#home)"
   ]
  },
  {
   "cell_type": "markdown",
   "id": "4b339f36",
   "metadata": {},
   "source": [
    "### doug-fir pop data"
   ]
  },
  {
   "cell_type": "code",
   "execution_count": 2,
   "id": "97c99106",
   "metadata": {},
   "outputs": [],
   "source": [
    "envdata = {}"
   ]
  },
  {
   "cell_type": "code",
   "execution_count": 3,
   "id": "1d387d04",
   "metadata": {},
   "outputs": [
    {
     "name": "stdout",
     "output_type": "stream",
     "text": [
      "{1: 'DF_p1', 2: 'DF_p2', 3: 'DF_p3', 4: 'DF_p4', 5: 'DF_p5', 6: 'DF_p6', 7: 'DF_p7', 8: 'DF_p8', 9: 'DF_p9', 10: 'DF_p10', 11: 'DF_p11', 12: 'DF_p12', 13: 'DF_p13', 14: 'DF_p14', 15: 'DF_p15', 16: 'DF_p16', 17: 'DF_p17', 18: 'DF_p18', 19: 'DF_p19', 20: 'DF_p20', 23: 'DF_p23', 24: 'DF_p24', 25: 'DF_p25', 26: 'DF_p26', 27: 'DF_p27', 28: 'DF_p28', 29: 'DF_p29', 30: 'DF_p30', 31: 'DF_p31', 32: 'DF_p32', 33: 'DF_p33', 34: 'DF_p34', 35: 'DF_p35', 36: 'DF_p36', 37: 'DF_p37', 38: 'DF_p38', 39: 'DF_p39', 40: 'DF_p40', 41: 'DF_p41', 42: 'DF_p42', 43: 'DF_p43', 44: 'DF_p44', 45: 'DF_p45', 46: 'DF_p46', 47: 'DF_p47', 48: 'DF_p48', 49: 'DF_p49', 50: 'DF_p50', 51: 'DF_p51', 52: 'DF_p52', 53: 'DF_p53', 54: 'DF_p54', 55: 'DF_p55', 56: 'DF_p56', 57: 'DF_p57', 58: 'DF_p58', 59: 'DF_p59', 60: 'DF_p60', 61: 'DF_p61', 62: 'DF_p62', 72: 'DF_p72', 73: 'DF_p73', 74: 'DF_p74', 75: 'DF_p75', 76: 'DF_p76', 77: 'DF_p77', 78: 'DF_p78', 79: 'DF_p79', 80: 'DF_p80', 81: 'DF_p81', 82: 'DF_p82', 83: 'DF_p83', 84: 'DF_p84'}\n"
     ]
    }
   ],
   "source": [
    "# map prov ID to our ID to translate pop names in phenotype data below\n",
    "envdata['combined'] = pd.read_table('/data/projects/pool_seq/environemental_data/change_p6/df_ALL-naturalpops_raw_env-19variables_change-p6.txt')\n",
    "envdata['combined'].index = envdata['combined']['our_id'].tolist()\n",
    "provdict = dict(zip(envdata['combined']['prov'], envdata['combined']['our_id']))\n",
    "print(provdict)"
   ]
  },
  {
   "cell_type": "code",
   "execution_count": 4,
   "id": "45917249",
   "metadata": {},
   "outputs": [],
   "source": [
    "# create color dict for pop colors\n",
    "\n",
    "df_colors = pd.read_table('/data/projects/pool_seq/environemental_data/change_p6/doug-fir_colored_pops.txt')\n",
    "df_colors.loc[df_colors['our_id']=='DF_p40', ['group', 'group_color']] = 'North BC', '#f205f4'  # as in ../01_split_training_and_testing.ipynb\n",
    "\n",
    "cdict = dict(\n",
    "    zip(df_colors['our_id'],\n",
    "        df_colors['group_color'])\n",
    ")\n",
    "\n",
    "\n",
    "assert len(cdict) == nrow(envdata['combined'])"
   ]
  },
  {
   "cell_type": "markdown",
   "id": "c0193905",
   "metadata": {},
   "source": [
    "### doug-fir phenotypes"
   ]
  },
  {
   "cell_type": "code",
   "execution_count": 5,
   "id": "adfb6378",
   "metadata": {},
   "outputs": [
    {
     "name": "stdout",
     "output_type": "stream",
     "text": [
      "73\n"
     ]
    },
    {
     "data": {
      "text/html": [
       "<div>\n",
       "<style scoped>\n",
       "    .dataframe tbody tr th:only-of-type {\n",
       "        vertical-align: middle;\n",
       "    }\n",
       "\n",
       "    .dataframe tbody tr th {\n",
       "        vertical-align: top;\n",
       "    }\n",
       "\n",
       "    .dataframe thead th {\n",
       "        text-align: right;\n",
       "    }\n",
       "</style>\n",
       "<table border=\"1\" class=\"dataframe\">\n",
       "  <thead>\n",
       "    <tr style=\"text-align: right;\">\n",
       "      <th></th>\n",
       "      <th>blup_increment</th>\n",
       "      <th>blup_shoot_biomass</th>\n",
       "    </tr>\n",
       "  </thead>\n",
       "  <tbody>\n",
       "    <tr>\n",
       "      <th>DF_p1</th>\n",
       "      <td>35.15544</td>\n",
       "      <td>15.445821</td>\n",
       "    </tr>\n",
       "    <tr>\n",
       "      <th>DF_p2</th>\n",
       "      <td>28.85236</td>\n",
       "      <td>12.384858</td>\n",
       "    </tr>\n",
       "    <tr>\n",
       "      <th>DF_p3</th>\n",
       "      <td>16.22677</td>\n",
       "      <td>3.514184</td>\n",
       "    </tr>\n",
       "    <tr>\n",
       "      <th>DF_p4</th>\n",
       "      <td>18.40748</td>\n",
       "      <td>4.782511</td>\n",
       "    </tr>\n",
       "    <tr>\n",
       "      <th>DF_p5</th>\n",
       "      <td>14.47699</td>\n",
       "      <td>2.578436</td>\n",
       "    </tr>\n",
       "  </tbody>\n",
       "</table>\n",
       "</div>"
      ],
      "text/plain": [
       "       blup_increment  blup_shoot_biomass\n",
       "DF_p1        35.15544           15.445821\n",
       "DF_p2        28.85236           12.384858\n",
       "DF_p3        16.22677            3.514184\n",
       "DF_p4        18.40748            4.782511\n",
       "DF_p5        14.47699            2.578436"
      ]
     },
     "execution_count": 5,
     "metadata": {},
     "output_type": "execute_result"
    }
   ],
   "source": [
    "# get common garden files for doug-fir\n",
    "# read in two phenofiles, combine - skip this after updating phenotypes in Nov 2021\n",
    "\n",
    "# drought = pd.read_table('/data/projects/pool_seq/phenotypic_data/doug-fir/Data_Drought_Blups_May_01_2021_Brandon_prov.txt')\n",
    "# drought = drought[drought['Prov'].isin(keys(provdict))]\n",
    "# drought.index = drought['Prov'].map(provdict)\n",
    "# print(sum(envdata['combined'].index.isin(drought.index)))\n",
    "\n",
    "# _phenodata = pd.read_table('/data/projects/pool_seq/phenotypic_data/doug-fir/Data_Totem_Blups_April_26_2021_Brandon-BLUPs_prov.txt')\n",
    "_phenodata = pd.read_excel('/data/projects/pool_seq/phenotypic_data/doug-fir/Data_Totem_Blups_Nov_17_2021_Brandon.xlsx')  # new pheno\n",
    "_phenodata = _phenodata[_phenodata['Prov'].isin(keys(provdict))]\n",
    "assert nrow(_phenodata) == nrow(envdata['combined'])\n",
    "_phenodata.index = _phenodata['Prov'].map(provdict)\n",
    "_phenodata.index.name = None\n",
    "print(sum(envdata['combined'].index.isin(_phenodata.index)))\n",
    "# _phenodata = _phenodata.loc[envdata.index]\n",
    "\n",
    "# blups = _phenodata[['blup_increment', 'blup_shoot_biomass']].copy()\n",
    "dfdata = _phenodata[['blup_increment', 'blup_shoot_biomass']].copy()\n",
    "# dfdata = pd.merge(blups,\n",
    "#                   drought[['Blup_lm_slope_corrected',\n",
    "#                            'Blup_beta_inflec_correc_before',\n",
    "#                            ' Blup_Tem4_corrected_fv_fm',\n",
    "#                            ' Blup_Tem3_corrected_fv_fm',\n",
    "#                            'Blup_h_max_dry',\n",
    "#                            'Blup_h_increment_total_wet']],\n",
    "#                   left_index=True,\n",
    "#                   right_index=True)\n",
    "\n",
    "dfdata.head()"
   ]
  },
  {
   "cell_type": "code",
   "execution_count": 6,
   "id": "ad6eddcb",
   "metadata": {},
   "outputs": [],
   "source": [
    "phenodata = {\n",
    "    'combined' : {'vancouver' : dfdata}\n",
    "}"
   ]
  },
  {
   "cell_type": "markdown",
   "id": "644b408c",
   "metadata": {},
   "source": [
    "<a id='netcdf'></a>\n",
    "# 2. extract offset values from netCDF files\n",
    "[top](#home)"
   ]
  },
  {
   "cell_type": "code",
   "execution_count": 7,
   "id": "3dde1d91",
   "metadata": {},
   "outputs": [],
   "source": [
    "def read_offset_file(offset_file, x_dim=\"latitude\", y_dim=\"longitude\"):\n",
    "    \"\"\"Read in netcdf file.\"\"\"\n",
    "    import xarray as xr\n",
    "    import rioxarray\n",
    "\n",
    "    ds = xr.open_dataset(offset_file)\n",
    "    ds.rio.set_spatial_dims(x_dim=x_dim, y_dim=y_dim, inplace=True)\n",
    "    ds.rio.write_crs(\"epsg:4326\", inplace=True)\n",
    "    \n",
    "    layers = [var for var in list(ds.variables) if var not in ['crs', 'longitude', 'latitude']]\n",
    "    assert len(layers) == 1\n",
    "    layer = layers[0]\n",
    "    vals = ds[layer][:,:]\n",
    "    lons = ds[layer]['longitude']\n",
    "    lats = ds[layer]['latitude']\n",
    "    \n",
    "    return ds, layer, vals, lons, lats\n",
    "dview['read_offset_file'] = read_offset_file\n",
    "\n",
    "\n",
    "def get_offset_data(offset_file, envdata, latcol='LAT', loncol='LONG'):\n",
    "    \"\"\"Read in offset data from netCDF `offset_file` for each of the pops in `envdata`.\"\"\"\n",
    "    import xarray as xr\n",
    "\n",
    "    # read in offset data\n",
    "    ds,layer,*args = read_offset_file(offset_file)\n",
    "\n",
    "    # pull offset values directly from the shapefile\n",
    "    target_lat = xr.DataArray(envdata[latcol], dims='points')\n",
    "    target_lon = xr.DataArray(envdata[loncol], dims='points')\n",
    "    offsets = ds[layer].sel(longitude=target_lon, latitude=target_lat, method='nearest').to_dataframe()\n",
    "    offsets.index = envdata['our_id'].tolist()\n",
    "    \n",
    "    try:\n",
    "        assert offsets[offsets.columns[-1]].isnull().sum() == 0\n",
    "    except AssertionError as e:\n",
    "        # there can be null vals if a population resides outside of the shapefile boundaries ...\n",
    "        # ... when shapefiles have been used to clip climate data\n",
    "        print(offset_file, envdata.index)\n",
    "        raise e\n",
    "\n",
    "    return offsets\n"
   ]
  },
  {
   "cell_type": "code",
   "execution_count": 8,
   "id": "6c3d7149",
   "metadata": {},
   "outputs": [
    {
     "data": {
      "text/plain": [
       "'/data/projects/pool_seq/phenotypic_data/offset_misc_files/fitting/combined-wza-real-full_gradient_forest_training_combined-vancouver_all-envs_WGS84_clipped_offset.nc'"
      ]
     },
     "execution_count": 8,
     "metadata": {},
     "output_type": "execute_result"
    }
   ],
   "source": [
    "# get the files that contain the offset information\n",
    "fitting_dir = '/data/projects/pool_seq/phenotypic_data/offset_misc_files/fitting'\n",
    "ncfiles = fs(fitting_dir, pattern='combined-wza-real-full', endswith='.nc', exclude=['NA_'])\n",
    "assert len(ncfiles) == 1\n",
    "\n",
    "ncfiles[0]"
   ]
  },
  {
   "cell_type": "code",
   "execution_count": 9,
   "id": "4ad58c8c",
   "metadata": {},
   "outputs": [
    {
     "name": "stdout",
     "output_type": "stream",
     "text": [
      "vancouver combined wza-real 1 ['full']\n"
     ]
    }
   ],
   "source": [
    "# for each of the netCDF files, partition into garden, species, dataset (wza/baypass/random), and whether ...\n",
    "# ... it's one of the k-fold cross-validation sets or the full (no test set) dataset\n",
    "# raw_offset[garden][spp][dataset][k_or_full] = f\n",
    "raw_offset = wrap_defaultdict(None, 4)\n",
    "species = []\n",
    "for f in ncfiles:\n",
    "    spp,method,setname,kfold,*args = op.basename(f).rstrip(\".txt\").split(\"-\")\n",
    "    kfold = kfold.split(\"_gradient\")[0]\n",
    "    garden = args[0].split(\"_\")[0]\n",
    "    dataset = '-'.join([method, setname])\n",
    "    \n",
    "    assert garden in ['vancouver', 'christine', 'fontbrune']\n",
    "    assert spp in ['wl', 'jp', 'fdi', 'fdc', 'combined']\n",
    "    assert kfold in ['full', 'k1', 'k2', 'k3', 'k4']\n",
    "    \n",
    "    species.append(spp)\n",
    "    raw_offset[garden][spp][dataset][kfold] = f\n",
    "\n",
    "for garden,sppdict in raw_offset.items():\n",
    "    for spp,datadict in sppdict.items():\n",
    "        for dataset,kdict in datadict.items():\n",
    "            print(garden, spp, dataset, len(kdict), keys(kdict))"
   ]
  },
  {
   "cell_type": "code",
   "execution_count": 10,
   "id": "a89e32f1",
   "metadata": {},
   "outputs": [
    {
     "name": "stdout",
     "output_type": "stream",
     "text": [
      "\u001b[1m\n",
      "Watching 1 jobs ...\u001b[0m\n"
     ]
    },
    {
     "name": "stderr",
     "output_type": "stream",
     "text": [
      "100%|███████████████| 1/1 [00:00<00:00, 9554.22it/s]\n"
     ]
    }
   ],
   "source": [
    "# retrieve offset data in parallel\n",
    "jobs = []\n",
    "arg_order = []\n",
    "for garden,sppdict in raw_offset.items():\n",
    "    for spp,datadict in sppdict.items():\n",
    "        latcol = 'LAT' #if spp != 'wl' else 'Latitude'\n",
    "        loncol = 'LONG' #if spp != 'wl' else 'Longitude'\n",
    "        for dataset,kdict in datadict.items():\n",
    "            for kfold,f in kdict.items():\n",
    "                arg_order.append([garden, spp, dataset, kfold, f])\n",
    "                jobs.append(\n",
    "                    lview.apply_async(\n",
    "                        get_offset_data, *(f, envdata[spp]), **dict(latcol=latcol, loncol=loncol)\n",
    "                    )\n",
    "                )\n",
    "watch_async(jobs)"
   ]
  },
  {
   "cell_type": "code",
   "execution_count": 11,
   "id": "4a6f5473",
   "metadata": {},
   "outputs": [
    {
     "data": {
      "text/html": [
       "<div>\n",
       "<style scoped>\n",
       "    .dataframe tbody tr th:only-of-type {\n",
       "        vertical-align: middle;\n",
       "    }\n",
       "\n",
       "    .dataframe tbody tr th {\n",
       "        vertical-align: top;\n",
       "    }\n",
       "\n",
       "    .dataframe thead th {\n",
       "        text-align: right;\n",
       "    }\n",
       "</style>\n",
       "<table border=\"1\" class=\"dataframe\">\n",
       "  <thead>\n",
       "    <tr style=\"text-align: right;\">\n",
       "      <th></th>\n",
       "      <th>crs</th>\n",
       "      <th>longitude</th>\n",
       "      <th>latitude</th>\n",
       "      <th>X..Downloads.NA_ENSEMBLE_rcp45_2050s.TD_WGS84_clipped_df_combined.tif</th>\n",
       "    </tr>\n",
       "  </thead>\n",
       "  <tbody>\n",
       "    <tr>\n",
       "      <th>DF_p1</th>\n",
       "      <td>0</td>\n",
       "      <td>-126.639401</td>\n",
       "      <td>49.787773</td>\n",
       "      <td>0.024996</td>\n",
       "    </tr>\n",
       "    <tr>\n",
       "      <th>DF_p2</th>\n",
       "      <td>0</td>\n",
       "      <td>-122.735252</td>\n",
       "      <td>50.325470</td>\n",
       "      <td>0.088759</td>\n",
       "    </tr>\n",
       "    <tr>\n",
       "      <th>DF_p3</th>\n",
       "      <td>0</td>\n",
       "      <td>-115.628298</td>\n",
       "      <td>50.535873</td>\n",
       "      <td>0.113735</td>\n",
       "    </tr>\n",
       "    <tr>\n",
       "      <th>DF_p4</th>\n",
       "      <td>0</td>\n",
       "      <td>-122.337824</td>\n",
       "      <td>52.032074</td>\n",
       "      <td>0.112037</td>\n",
       "    </tr>\n",
       "    <tr>\n",
       "      <th>DF_p5</th>\n",
       "      <td>0</td>\n",
       "      <td>-119.041506</td>\n",
       "      <td>49.016294</td>\n",
       "      <td>0.105254</td>\n",
       "    </tr>\n",
       "  </tbody>\n",
       "</table>\n",
       "</div>"
      ],
      "text/plain": [
       "       crs   longitude   latitude  \\\n",
       "DF_p1    0 -126.639401  49.787773   \n",
       "DF_p2    0 -122.735252  50.325470   \n",
       "DF_p3    0 -115.628298  50.535873   \n",
       "DF_p4    0 -122.337824  52.032074   \n",
       "DF_p5    0 -119.041506  49.016294   \n",
       "\n",
       "       X..Downloads.NA_ENSEMBLE_rcp45_2050s.TD_WGS84_clipped_df_combined.tif  \n",
       "DF_p1                                           0.024996                      \n",
       "DF_p2                                           0.088759                      \n",
       "DF_p3                                           0.113735                      \n",
       "DF_p4                                           0.112037                      \n",
       "DF_p5                                           0.105254                      "
      ]
     },
     "execution_count": 11,
     "metadata": {},
     "output_type": "execute_result"
    }
   ],
   "source": [
    "# get job returns, store in dict\n",
    "offsets = wrap_defaultdict(None, 4)\n",
    "for i,job in enumerate(jobs):\n",
    "    garden,spp,dataset,kfold,f = arg_order[i]\n",
    "    df = job.r\n",
    "    offsets[garden][spp][dataset][kfold] = df.copy()\n",
    "    \n",
    "df.head()"
   ]
  },
  {
   "cell_type": "markdown",
   "id": "30f16fd0",
   "metadata": {},
   "source": [
    "<a id='iso'></a>\n",
    "# 3. isolate pheno and offset vals\n",
    "\n",
    "[top](#home)"
   ]
  },
  {
   "cell_type": "code",
   "execution_count": 12,
   "id": "bb715de4",
   "metadata": {},
   "outputs": [
    {
     "data": {
      "text/plain": [
       "DF_p1     0.024996\n",
       "DF_p2     0.088759\n",
       "DF_p3     0.113735\n",
       "DF_p4     0.112037\n",
       "DF_p5     0.105254\n",
       "            ...   \n",
       "DF_p80    0.013900\n",
       "DF_p81    0.019737\n",
       "DF_p82    0.021846\n",
       "DF_p83    0.016875\n",
       "DF_p84    0.019232\n",
       "Name: X..Downloads.NA_ENSEMBLE_rcp45_2050s.TD_WGS84_clipped_df_combined.tif, Length: 73, dtype: float32"
      ]
     },
     "execution_count": 12,
     "metadata": {},
     "output_type": "execute_result"
    }
   ],
   "source": [
    "offsetdf = offsets['vancouver']['combined']['wza-real']['full']\n",
    "offset = offsetdf[offsetdf.columns[-1]]\n",
    "\n",
    "offset"
   ]
  },
  {
   "cell_type": "code",
   "execution_count": 13,
   "id": "6c73feed",
   "metadata": {},
   "outputs": [
    {
     "data": {
      "text/plain": [
       "DF_p1     35.15544\n",
       "DF_p2     28.85236\n",
       "DF_p3     16.22677\n",
       "DF_p4     18.40748\n",
       "DF_p5     14.47699\n",
       "            ...   \n",
       "DF_p80    34.35363\n",
       "DF_p81    36.69975\n",
       "DF_p82    34.51143\n",
       "DF_p83    36.22062\n",
       "DF_p84    38.56369\n",
       "Name: blup_increment, Length: 73, dtype: float64"
      ]
     },
     "execution_count": 13,
     "metadata": {},
     "output_type": "execute_result"
    }
   ],
   "source": [
    "phenovals = phenodata['combined']['vancouver']['blup_increment']\n",
    "\n",
    "phenovals"
   ]
  },
  {
   "cell_type": "markdown",
   "id": "c633bf21",
   "metadata": {},
   "source": [
    "<a id='scatter'></a>\n",
    "# 4. create scatter plot\n",
    "\n",
    "[top](#home)"
   ]
  },
  {
   "cell_type": "code",
   "execution_count": 14,
   "id": "3c84b32a",
   "metadata": {},
   "outputs": [],
   "source": [
    "varcolors = {'FDC' : 'limegreen', 'FDI' : 'purple'}\n",
    "varmap = dict(zip(envdata['combined']['our_id'], envdata['combined']['Variety']))"
   ]
  },
  {
   "cell_type": "code",
   "execution_count": 15,
   "id": "49b4e9dd",
   "metadata": {
    "scrolled": false
   },
   "outputs": [
    {
     "name": "stdout",
     "output_type": "stream",
     "text": [
      "\u001b[1mSaved to: \u001b[0m /data/projects/pool_seq/phenotypic_data/offset_misc_files/results/gradient_forests/figs/combined_vancouver_wza-real_full_maintext_blup_increment.pdf\n"
     ]
    },
    {
     "data": {
      "image/png": "[encoded data removed]",
      "text/plain": [
       "<Figure size 720x504 with 1 Axes>"
      ]
     },
     "metadata": {
      "needs_background": "light"
     },
     "output_type": "display_data"
    }
   ],
   "source": [
    "fig, ax = plt.subplots(figsize=(10, 7))\n",
    "\n",
    "for pop in offset.index:\n",
    "    variety = varmap[pop]\n",
    "    varcolor = varcolors[variety]\n",
    "    ax.scatter(phenovals.loc[pop], offset.loc[pop], marker='o', edgecolor=varcolor, facecolor=cdict[pop],\n",
    "              linewidth=3, s=80)\n",
    "\n",
    "ax.set_xlabel('Increment Growth (cm)', fontsize=15)\n",
    "ax.set_ylabel('genetic offset', fontsize=15)\n",
    "\n",
    "# gradient_image(ax=ax, cmap=cmap, transform=ax.transAxes, extent=(0,1,0,1), cmap_range=(0.0, 0.5))\n",
    "\n",
    "saveloc = op.join(savedir, 'combined_vancouver_wza-real_full_maintext_blup_increment.pdf')\n",
    "save_pdf(saveloc)"
   ]
  },
  {
   "cell_type": "code",
   "execution_count": null,
   "id": "c14fbc8c",
   "metadata": {},
   "outputs": [],
   "source": []
  },
  {
   "cell_type": "code",
   "execution_count": 16,
   "id": "020e8ee7",
   "metadata": {},
   "outputs": [
    {
     "data": {
      "text/plain": [
       "'0-00:00:03'"
      ]
     },
     "execution_count": 16,
     "metadata": {},
     "output_type": "execute_result"
    }
   ],
   "source": [
    "formatclock(dt.now() - t1, exact=True)"
   ]
  },
  {
   "cell_type": "code",
   "execution_count": null,
   "id": "5106cf98",
   "metadata": {},
   "outputs": [],
   "source": []
  },
  {
   "cell_type": "markdown",
   "id": "4f11c80e",
   "metadata": {},
   "source": [
    "[top](#home)"
   ]
  },
  {
   "cell_type": "code",
   "execution_count": null,
   "id": "bc494a22",
   "metadata": {},
   "outputs": [],
   "source": []
  },
  {
   "cell_type": "code",
   "execution_count": null,
   "id": "0d6f31fc",
   "metadata": {},
   "outputs": [],
   "source": []
  },
  {
   "cell_type": "code",
   "execution_count": null,
   "id": "15ce7e68",
   "metadata": {},
   "outputs": [],
   "source": []
  },
  {
   "cell_type": "code",
   "execution_count": null,
   "id": "a6af6385",
   "metadata": {},
   "outputs": [],
   "source": []
  },
  {
   "cell_type": "code",
   "execution_count": null,
   "id": "2b5906b0",
   "metadata": {},
   "outputs": [],
   "source": []
  }
 ],
 "metadata": {
  "kernelspec": {
   "display_name": "Python 3",
   "language": "python",
   "name": "python3"
  },
  "language_info": {
   "codemirror_mode": {
    "name": "ipython",
    "version": 3
   },
   "file_extension": ".py",
   "mimetype": "text/x-python",
   "name": "python",
   "nbconvert_exporter": "python",
   "pygments_lexer": "ipython3",
   "version": "3.8.5"
  }
 },
 "nbformat": 4,
 "nbformat_minor": 5
}
