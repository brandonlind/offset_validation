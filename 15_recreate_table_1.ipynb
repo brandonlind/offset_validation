{
 "cells": [
  {
   "cell_type": "markdown",
   "id": "da7b1c18",
   "metadata": {},
   "source": [
    "<a id='home'></a>\n",
    "\n",
    "### purpose\n",
    "\n",
    "create table of locus counts for manuscript using printouts from `04_create_datasets-wza_baypass_random.ipynb`\n",
    "\n",
    "### notes\n",
    "\n",
    "the counts in this notebook for baypass loci with linear models does not match the [original submission](https://github.com/brandonlind/offset_validation/releases/tag/preprint_release) because we excluded elevation in this round (when elevation was included, this added loci to marker sets). (with the same variables, the loci counts with sig linear models should have been the same).\n",
    "\n",
    "### outline\n",
    "\n",
    "1. [full data sets](#full)\n",
    "    - how many loci were in the full wza and baypass sets (+ random/pseudo random)?\n",
    "    \n",
    "1. [RONA](#rona)\n",
    "\n",
    "    - how many loci were used in RONA?"
   ]
  },
  {
   "cell_type": "code",
   "execution_count": 1,
   "id": "1e1b2b41",
   "metadata": {},
   "outputs": [
    {
     "name": "stdout",
     "output_type": "stream",
     "text": [
      "##################################################################\n",
      "Today:\tJuly 10, 2023 - 09:54:37\n",
      "python version: 3.8.5\n",
      "conda env: newpy385\n",
      "\n",
      "Current commit of pythonimports:\n",
      "commit 03d76f7a992130f4b94ac34a09ad439e918d3044  \n",
      "Author: Brandon Lind <lind.brandon.m@gmail.com>  \n",
      "Date:   Fri Jun 9 09:42:21 2023 -0400\n",
      "##################################################################\n",
      "\n"
     ]
    },
    {
     "data": {
      "text/html": [
       "<details>\n",
       "<summary>Click to view session information</summary>\n",
       "<pre>\n",
       "-----\n",
       "balance_queue       NA\n",
       "cartopy             0.18.0\n",
       "ipyparallel         6.3.0\n",
       "matplotlib          3.3.1\n",
       "myclasses           NA\n",
       "myfigs              NA\n",
       "mymaps              NA\n",
       "myslurm             NA\n",
       "numpy               1.22.4\n",
       "pandas              1.5.3\n",
       "pythonimports       NA\n",
       "session_info        1.0.0\n",
       "tqdm                4.55.1\n",
       "-----\n",
       "</pre>\n",
       "<details>\n",
       "<summary>Click to view modules imported as dependencies</summary>\n",
       "<pre>\n",
       "PIL                 9.4.0\n",
       "attr                22.2.0\n",
       "backcall            0.2.0\n",
       "certifi             2022.12.07\n",
       "cffi                1.14.5\n",
       "cycler              0.10.0\n",
       "cython_runtime      NA\n",
       "dateutil            2.8.2\n",
       "decorator           5.0.9\n",
       "defusedxml          0.7.1\n",
       "fiona               1.8.20\n",
       "ipykernel           5.4.2\n",
       "ipython_genutils    0.2.0\n",
       "ipywidgets          7.6.3\n",
       "jedi                0.17.0\n",
       "kiwisolver          1.4.4\n",
       "matplotlib_venn     0.11.6\n",
       "mpl_toolkits        NA\n",
       "parso               0.7.1\n",
       "pexpect             4.8.0\n",
       "pickleshare         0.7.5\n",
       "pkg_resources       NA\n",
       "prompt_toolkit      3.0.17\n",
       "ptyprocess          0.7.0\n",
       "pygments            2.9.0\n",
       "pyparsing           3.0.9\n",
       "pytz                2022.7.1\n",
       "scipy               1.6.2\n",
       "seaborn             0.11.0\n",
       "setuptools          67.2.0\n",
       "shapefile           2.1.3\n",
       "shapely             1.7.1\n",
       "six                 1.16.0\n",
       "statsmodels         0.12.2\n",
       "storemagic          NA\n",
       "tornado             6.1\n",
       "traitlets           5.0.5\n",
       "wcwidth             0.2.5\n",
       "zmq                 22.1.0\n",
       "</pre>\n",
       "</details> <!-- seems like this ends pre, so might as well be explicit -->\n",
       "<pre>\n",
       "-----\n",
       "IPython             7.19.0\n",
       "jupyter_client      6.1.12\n",
       "jupyter_core        4.7.1\n",
       "notebook            6.4.0\n",
       "-----\n",
       "Python 3.8.5 (default, Sep  4 2020, 07:30:14) [GCC 7.3.0]\n",
       "Linux-3.10.0-1160.90.1.el7.x86_64-x86_64-with-glibc2.10\n",
       "-----\n",
       "Session information updated at 2023-07-10 09:54\n",
       "</pre>\n",
       "</details>"
      ],
      "text/plain": [
       "<IPython.core.display.HTML object>"
      ]
     },
     "execution_count": 1,
     "metadata": {},
     "output_type": "execute_result"
    }
   ],
   "source": [
    "from pythonimports import *\n",
    "\n",
    "latest_commit()\n",
    "sinfo(html=True)"
   ]
  },
  {
   "cell_type": "markdown",
   "id": "d54ab8f0",
   "metadata": {},
   "source": [
    "<a id='full'></a>\n",
    "# 1. full data sets\n",
    "\n",
    "[top](#home)"
   ]
  },
  {
   "cell_type": "code",
   "execution_count": 2,
   "id": "49385f54",
   "metadata": {},
   "outputs": [
    {
     "data": {
      "text/plain": [
       "('combined', 'wza', 'random', '4810')"
      ]
     },
     "execution_count": 2,
     "metadata": {},
     "output_type": "execute_result"
    }
   ],
   "source": [
    "# # before revision\n",
    "# text = '''fdc-baypass-real 17516\n",
    "# fdi-baypass-real 12398\n",
    "# jp-baypass-real 22635\n",
    "# combined-baypass-real 25219\n",
    "# fdc-wza-real 4886\n",
    "# fdi-wza-real 11434\n",
    "# jp-wza-real 4788\n",
    "# wl-wza-real 8496\n",
    "# combined-wza-real 14760\n",
    "# fdc-baypass-random 17516\n",
    "# fdi-baypass-random 12398\n",
    "# jp-baypass-random 22635\n",
    "# combined-baypass-random 25219\n",
    "# fdc-wza-random 4886\n",
    "# fdi-wza-random 11434\n",
    "# jp-wza-random 4788\n",
    "# wl-wza-random 8496\n",
    "# combined-wza-random 14760\n",
    "# fdc-baypass-pseudo_random_loci 17516\n",
    "# fdi-baypass-pseudo_random_loci 12398\n",
    "# jp-baypass-pseudo_random_loci 22635\n",
    "# combined-baypass-pseudo_random_loci 25219\n",
    "# fdc-wza-pseudo_random_loci 4886\n",
    "# fdi-wza-pseudo_random_loci 11434\n",
    "# jp-wza-pseudo_random_loci 4788\n",
    "# wl-wza-pseudo_random_loci 8496\n",
    "# combined-wza-pseudo_random_loci 14760'''\n",
    "\n",
    "# after revision\n",
    "# text from 04_create_datasets-wza_baypass_random.ipynb cell 36\n",
    "text = '''fdc-baypass-real 17516\n",
    "fdi-baypass-real 12398\n",
    "jp-baypass-real 22635\n",
    "combined-baypass-real 25219\n",
    "fdc-wza-real 3770\n",
    "fdi-wza-real 1787\n",
    "jp-wza-real 8564\n",
    "wl-wza-real 79\n",
    "combined-wza-real 4810\n",
    "fdc-baypass-random 17516\n",
    "fdi-baypass-random 12398\n",
    "jp-baypass-random 22635\n",
    "combined-baypass-random 25219\n",
    "fdc-wza-random 3770\n",
    "fdi-wza-random 1787\n",
    "jp-wza-random 8564\n",
    "wl-wza-random 79\n",
    "combined-wza-random 4810'''\n",
    "\n",
    "\n",
    "locus_counts = wrap_defaultdict(None, 3)\n",
    "for line in text.split('\\n'):\n",
    "    dataset,count = line.split()\n",
    "    spp,method,setname = dataset.split('-')\n",
    "    locus_counts[spp][method][setname] = count\n",
    "\n",
    "spp,method,setname,count"
   ]
  },
  {
   "cell_type": "code",
   "execution_count": 3,
   "id": "261864a8",
   "metadata": {
    "scrolled": true
   },
   "outputs": [
    {
     "name": "stdout",
     "output_type": "stream",
     "text": [
      "\u001b[1mfdc\u001b[0m\n"
     ]
    },
    {
     "data": {
      "text/html": [
       "<div>\n",
       "<style scoped>\n",
       "    .dataframe tbody tr th:only-of-type {\n",
       "        vertical-align: middle;\n",
       "    }\n",
       "\n",
       "    .dataframe tbody tr th {\n",
       "        vertical-align: top;\n",
       "    }\n",
       "\n",
       "    .dataframe thead th {\n",
       "        text-align: right;\n",
       "    }\n",
       "</style>\n",
       "<table border=\"1\" class=\"dataframe\">\n",
       "  <thead>\n",
       "    <tr style=\"text-align: right;\">\n",
       "      <th></th>\n",
       "      <th>baypass</th>\n",
       "      <th>wza</th>\n",
       "    </tr>\n",
       "  </thead>\n",
       "  <tbody>\n",
       "    <tr>\n",
       "      <th>real</th>\n",
       "      <td>17516</td>\n",
       "      <td>3770</td>\n",
       "    </tr>\n",
       "    <tr>\n",
       "      <th>random</th>\n",
       "      <td>17516</td>\n",
       "      <td>3770</td>\n",
       "    </tr>\n",
       "  </tbody>\n",
       "</table>\n",
       "</div>"
      ],
      "text/plain": [
       "       baypass   wza\n",
       "real     17516  3770\n",
       "random   17516  3770"
      ]
     },
     "metadata": {},
     "output_type": "display_data"
    },
    {
     "name": "stdout",
     "output_type": "stream",
     "text": [
      "\u001b[1mfdi\u001b[0m\n"
     ]
    },
    {
     "data": {
      "text/html": [
       "<div>\n",
       "<style scoped>\n",
       "    .dataframe tbody tr th:only-of-type {\n",
       "        vertical-align: middle;\n",
       "    }\n",
       "\n",
       "    .dataframe tbody tr th {\n",
       "        vertical-align: top;\n",
       "    }\n",
       "\n",
       "    .dataframe thead th {\n",
       "        text-align: right;\n",
       "    }\n",
       "</style>\n",
       "<table border=\"1\" class=\"dataframe\">\n",
       "  <thead>\n",
       "    <tr style=\"text-align: right;\">\n",
       "      <th></th>\n",
       "      <th>baypass</th>\n",
       "      <th>wza</th>\n",
       "    </tr>\n",
       "  </thead>\n",
       "  <tbody>\n",
       "    <tr>\n",
       "      <th>real</th>\n",
       "      <td>12398</td>\n",
       "      <td>1787</td>\n",
       "    </tr>\n",
       "    <tr>\n",
       "      <th>random</th>\n",
       "      <td>12398</td>\n",
       "      <td>1787</td>\n",
       "    </tr>\n",
       "  </tbody>\n",
       "</table>\n",
       "</div>"
      ],
      "text/plain": [
       "       baypass   wza\n",
       "real     12398  1787\n",
       "random   12398  1787"
      ]
     },
     "metadata": {},
     "output_type": "display_data"
    },
    {
     "name": "stdout",
     "output_type": "stream",
     "text": [
      "\u001b[1mjp\u001b[0m\n"
     ]
    },
    {
     "data": {
      "text/html": [
       "<div>\n",
       "<style scoped>\n",
       "    .dataframe tbody tr th:only-of-type {\n",
       "        vertical-align: middle;\n",
       "    }\n",
       "\n",
       "    .dataframe tbody tr th {\n",
       "        vertical-align: top;\n",
       "    }\n",
       "\n",
       "    .dataframe thead th {\n",
       "        text-align: right;\n",
       "    }\n",
       "</style>\n",
       "<table border=\"1\" class=\"dataframe\">\n",
       "  <thead>\n",
       "    <tr style=\"text-align: right;\">\n",
       "      <th></th>\n",
       "      <th>baypass</th>\n",
       "      <th>wza</th>\n",
       "    </tr>\n",
       "  </thead>\n",
       "  <tbody>\n",
       "    <tr>\n",
       "      <th>real</th>\n",
       "      <td>22635</td>\n",
       "      <td>8564</td>\n",
       "    </tr>\n",
       "    <tr>\n",
       "      <th>random</th>\n",
       "      <td>22635</td>\n",
       "      <td>8564</td>\n",
       "    </tr>\n",
       "  </tbody>\n",
       "</table>\n",
       "</div>"
      ],
      "text/plain": [
       "       baypass   wza\n",
       "real     22635  8564\n",
       "random   22635  8564"
      ]
     },
     "metadata": {},
     "output_type": "display_data"
    },
    {
     "name": "stdout",
     "output_type": "stream",
     "text": [
      "\u001b[1mcombined\u001b[0m\n"
     ]
    },
    {
     "data": {
      "text/html": [
       "<div>\n",
       "<style scoped>\n",
       "    .dataframe tbody tr th:only-of-type {\n",
       "        vertical-align: middle;\n",
       "    }\n",
       "\n",
       "    .dataframe tbody tr th {\n",
       "        vertical-align: top;\n",
       "    }\n",
       "\n",
       "    .dataframe thead th {\n",
       "        text-align: right;\n",
       "    }\n",
       "</style>\n",
       "<table border=\"1\" class=\"dataframe\">\n",
       "  <thead>\n",
       "    <tr style=\"text-align: right;\">\n",
       "      <th></th>\n",
       "      <th>baypass</th>\n",
       "      <th>wza</th>\n",
       "    </tr>\n",
       "  </thead>\n",
       "  <tbody>\n",
       "    <tr>\n",
       "      <th>real</th>\n",
       "      <td>25219</td>\n",
       "      <td>4810</td>\n",
       "    </tr>\n",
       "    <tr>\n",
       "      <th>random</th>\n",
       "      <td>25219</td>\n",
       "      <td>4810</td>\n",
       "    </tr>\n",
       "  </tbody>\n",
       "</table>\n",
       "</div>"
      ],
      "text/plain": [
       "       baypass   wza\n",
       "real     25219  4810\n",
       "random   25219  4810"
      ]
     },
     "metadata": {},
     "output_type": "display_data"
    },
    {
     "name": "stdout",
     "output_type": "stream",
     "text": [
      "\u001b[1mwl\u001b[0m\n"
     ]
    },
    {
     "data": {
      "text/html": [
       "<div>\n",
       "<style scoped>\n",
       "    .dataframe tbody tr th:only-of-type {\n",
       "        vertical-align: middle;\n",
       "    }\n",
       "\n",
       "    .dataframe tbody tr th {\n",
       "        vertical-align: top;\n",
       "    }\n",
       "\n",
       "    .dataframe thead th {\n",
       "        text-align: right;\n",
       "    }\n",
       "</style>\n",
       "<table border=\"1\" class=\"dataframe\">\n",
       "  <thead>\n",
       "    <tr style=\"text-align: right;\">\n",
       "      <th></th>\n",
       "      <th>wza</th>\n",
       "    </tr>\n",
       "  </thead>\n",
       "  <tbody>\n",
       "    <tr>\n",
       "      <th>random</th>\n",
       "      <td>79</td>\n",
       "    </tr>\n",
       "    <tr>\n",
       "      <th>real</th>\n",
       "      <td>79</td>\n",
       "    </tr>\n",
       "  </tbody>\n",
       "</table>\n",
       "</div>"
      ],
      "text/plain": [
       "       wza\n",
       "random  79\n",
       "real    79"
      ]
     },
     "metadata": {},
     "output_type": "display_data"
    }
   ],
   "source": [
    "for spp,_dict in locus_counts.items():\n",
    "    print(ColorText(spp).bold())\n",
    "    display(pd.DataFrame(_dict))"
   ]
  },
  {
   "cell_type": "code",
   "execution_count": null,
   "id": "59329b49",
   "metadata": {},
   "outputs": [],
   "source": []
  },
  {
   "cell_type": "code",
   "execution_count": null,
   "id": "fca15994",
   "metadata": {},
   "outputs": [],
   "source": []
  },
  {
   "cell_type": "markdown",
   "id": "4c54ff28",
   "metadata": {},
   "source": [
    "<a id='rona'></a>\n",
    "# 2. RONA\n",
    "\n",
    "[top](#home)"
   ]
  },
  {
   "cell_type": "code",
   "execution_count": 4,
   "id": "fbc7d47d",
   "metadata": {},
   "outputs": [
    {
     "data": {
      "text/plain": [
       "18"
      ]
     },
     "execution_count": 4,
     "metadata": {},
     "output_type": "execute_result"
    }
   ],
   "source": [
    "# get files that have loci IDs among sets created in ../04_create_datasets-wza_baypass_random.ipynb#outliers\n",
    "training_dir = '/data/projects/pool_seq/phenotypic_data/offset_misc_files/training/training_files'\n",
    "files = fs(training_dir, 'full', endswith='.txt', exclude='envdata')\n",
    "len(files)"
   ]
  },
  {
   "cell_type": "code",
   "execution_count": 5,
   "id": "bf635353",
   "metadata": {
    "scrolled": false
   },
   "outputs": [
    {
     "name": "stdout",
     "output_type": "stream",
     "text": [
      "combined baypass random 25219\n",
      "combined baypass real 25219\n",
      "combined wza random 4810\n",
      "combined wza real 4810\n",
      "fdc baypass random 17516\n",
      "fdc baypass real 17516\n",
      "fdc wza random 3770\n",
      "fdc wza real 3770\n",
      "fdi baypass random 12398\n",
      "fdi baypass real 12398\n",
      "fdi wza random 1787\n",
      "fdi wza real 1787\n",
      "jp baypass random 22635\n",
      "jp baypass real 22635\n",
      "jp wza random 8564\n",
      "jp wza real 8564\n",
      "wl wza random 79\n",
      "wl wza real 79\n",
      "\n",
      "\n",
      "combined 57234\n",
      "fdc 40448\n",
      "fdi 27540\n",
      "jp 55362\n",
      "wl 158\n"
     ]
    }
   ],
   "source": [
    "# get the loci that were assigned to testing sets in ../04_create_datasets-wza_baypass_random.ipynb#outliers\n",
    "    # ie union of random/baypass/wza\n",
    "spploci = defaultdict(list)\n",
    "grouploci = wrap_defaultdict(None, 3)\n",
    "for f in files:\n",
    "    spp, method, setname, kfold = op.basename(f).rstrip('.txt').split('-')\n",
    "    \n",
    "    df = pd.read_table(f, index_col='index', nrows=1)\n",
    "    # this next line from a previous run where I had accidentally wrote txt with multiple index \n",
    "        # (can prob deprecate, but no harm if I leave it)\n",
    "    loci = [locus for locus in df.columns if 'Unnamed' not in locus and 'level' not in locus]\n",
    "    \n",
    "    print(spp, method, setname, len(loci))\n",
    "    grouploci[spp][method][setname] = loci\n",
    "    spploci[spp].extend(loci)\n",
    "    \n",
    "print('\\n')\n",
    "\n",
    "for spp, loci in spploci.items():\n",
    "    spploci[spp] = uni(loci)\n",
    "    print(spp, len(spploci[spp]))"
   ]
  },
  {
   "cell_type": "code",
   "execution_count": null,
   "id": "fc84fd41",
   "metadata": {},
   "outputs": [],
   "source": []
  },
  {
   "cell_type": "code",
   "execution_count": 6,
   "id": "6cd131a3",
   "metadata": {},
   "outputs": [],
   "source": [
    "ronadir = '/data/projects/pool_seq/phenotypic_data/offset_misc_files/results/rona'"
   ]
  },
  {
   "cell_type": "code",
   "execution_count": 7,
   "id": "8140766a",
   "metadata": {},
   "outputs": [
    {
     "data": {
      "text/plain": [
       "'Mon Jun 26 10:10:03 2023'"
      ]
     },
     "execution_count": 7,
     "metadata": {},
     "output_type": "execute_result"
    }
   ],
   "source": [
    "gettimestamp(op.join(ronadir, 'linear_models.pkl'))"
   ]
  },
  {
   "cell_type": "code",
   "execution_count": 8,
   "id": "3d380b59",
   "metadata": {},
   "outputs": [
    {
     "name": "stderr",
     "output_type": "stream",
     "text": [
      "jp: 100%|███████████████| 19/19 [00:00<00:00, 59.65it/s]\n",
      "fdi: 100%|███████████████| 19/19 [00:00<00:00, 138.32it/s]\n",
      "fdc: 100%|███████████████| 19/19 [00:00<00:00, 90.70it/s]\n",
      "combined: 100%|███████████████| 19/19 [00:00<00:00, 44.67it/s]\n"
     ]
    }
   ],
   "source": [
    "# retrieve loci with significant linear models as in 09_RONA.ipynb cell 16\n",
    "results = pklload(op.join(ronadir, 'linear_models.pkl'))\n",
    "\n",
    "# determine which of the loci had pvals <= 0.05\n",
    "keep = wrap_defaultdict(list, 2)\n",
    "for spp, envdict in results.items():\n",
    "    for env, locusdict in pbar(envdict.items(), desc=spp):\n",
    "        for locus, (slope, intercept, pval) in locusdict.items():\n",
    "            if pval <= 0.05:\n",
    "                keep[spp][env].append(locus)\n"
   ]
  },
  {
   "cell_type": "code",
   "execution_count": 9,
   "id": "8dac8d3f",
   "metadata": {},
   "outputs": [
    {
     "data": {
      "text/plain": [
       "'>super81-429557'"
      ]
     },
     "execution_count": 9,
     "metadata": {},
     "output_type": "execute_result"
    }
   ],
   "source": [
    "keep['jp']['MAP'][0]"
   ]
  },
  {
   "cell_type": "code",
   "execution_count": 10,
   "id": "e2c24767",
   "metadata": {},
   "outputs": [
    {
     "name": "stdout",
     "output_type": "stream",
     "text": [
      "jp 39852\n",
      "fdi 20071\n",
      "fdc 30827\n",
      "combined 53836\n"
     ]
    }
   ],
   "source": [
    "keepers = {}\n",
    "for spp, envdict in keep.items():\n",
    "    keepers[spp] = uni(flatten(envdict.values()))\n",
    "    print(spp, len(keepers[spp]))"
   ]
  },
  {
   "cell_type": "code",
   "execution_count": null,
   "id": "7df19073",
   "metadata": {},
   "outputs": [],
   "source": []
  },
  {
   "cell_type": "code",
   "execution_count": 11,
   "id": "4380c797",
   "metadata": {},
   "outputs": [
    {
     "name": "stdout",
     "output_type": "stream",
     "text": [
      "combined baypass random 25219 22857\n",
      "combined baypass real 25219 24687\n",
      "combined wza random 4810 4337\n",
      "combined wza real 4810 4756\n",
      "fdc baypass random 17516 9684\n",
      "fdc baypass real 17516 17433\n",
      "fdc wza random 3770 2050\n",
      "fdc wza real 3770 3766\n",
      "fdi baypass random 12398 5973\n",
      "fdi baypass real 12398 12262\n",
      "fdi wza random 1787 873\n",
      "fdi wza real 1787 1787\n",
      "jp baypass random 22635 11383\n",
      "jp baypass real 22635 22570\n",
      "jp wza random 8564 4281\n",
      "jp wza real 8564 8563\n"
     ]
    }
   ],
   "source": [
    "# how many unique loci with sig linear models for each locus set?\n",
    "rona_table = wrap_defaultdict(None, 2)\n",
    "for (spp, method, setname), loci in unwrap_dictionary(grouploci):\n",
    "    if spp != 'wl':\n",
    "        interloci = set(loci).intersection(keepers[spp])\n",
    "        print(spp, method, setname, len(loci), len(interloci))\n",
    "        rona_table[spp][f'{method}-{setname}'] = len(interloci)"
   ]
  },
  {
   "cell_type": "code",
   "execution_count": 12,
   "id": "8bad0d99",
   "metadata": {
    "scrolled": false
   },
   "outputs": [
    {
     "name": "stdout",
     "output_type": "stream",
     "text": [
      "combined\n"
     ]
    },
    {
     "data": {
      "text/html": [
       "<div>\n",
       "<style scoped>\n",
       "    .dataframe tbody tr th:only-of-type {\n",
       "        vertical-align: middle;\n",
       "    }\n",
       "\n",
       "    .dataframe tbody tr th {\n",
       "        vertical-align: top;\n",
       "    }\n",
       "\n",
       "    .dataframe thead th {\n",
       "        text-align: right;\n",
       "    }\n",
       "</style>\n",
       "<table border=\"1\" class=\"dataframe\">\n",
       "  <thead>\n",
       "    <tr style=\"text-align: right;\">\n",
       "      <th></th>\n",
       "      <th>baypass-random</th>\n",
       "      <th>baypass-real</th>\n",
       "      <th>wza-random</th>\n",
       "      <th>wza-real</th>\n",
       "    </tr>\n",
       "  </thead>\n",
       "  <tbody>\n",
       "    <tr>\n",
       "      <th>combined</th>\n",
       "      <td>22857</td>\n",
       "      <td>24687</td>\n",
       "      <td>4337</td>\n",
       "      <td>4756</td>\n",
       "    </tr>\n",
       "    <tr>\n",
       "      <th>combined</th>\n",
       "      <td>22857</td>\n",
       "      <td>24687</td>\n",
       "      <td>4337</td>\n",
       "      <td>4756</td>\n",
       "    </tr>\n",
       "    <tr>\n",
       "      <th>combined</th>\n",
       "      <td>22857</td>\n",
       "      <td>24687</td>\n",
       "      <td>4337</td>\n",
       "      <td>4756</td>\n",
       "    </tr>\n",
       "    <tr>\n",
       "      <th>combined</th>\n",
       "      <td>22857</td>\n",
       "      <td>24687</td>\n",
       "      <td>4337</td>\n",
       "      <td>4756</td>\n",
       "    </tr>\n",
       "  </tbody>\n",
       "</table>\n",
       "</div>"
      ],
      "text/plain": [
       "          baypass-random  baypass-real  wza-random  wza-real\n",
       "combined           22857         24687        4337      4756\n",
       "combined           22857         24687        4337      4756\n",
       "combined           22857         24687        4337      4756\n",
       "combined           22857         24687        4337      4756"
      ]
     },
     "metadata": {},
     "output_type": "display_data"
    },
    {
     "name": "stdout",
     "output_type": "stream",
     "text": [
      "fdc\n"
     ]
    },
    {
     "data": {
      "text/html": [
       "<div>\n",
       "<style scoped>\n",
       "    .dataframe tbody tr th:only-of-type {\n",
       "        vertical-align: middle;\n",
       "    }\n",
       "\n",
       "    .dataframe tbody tr th {\n",
       "        vertical-align: top;\n",
       "    }\n",
       "\n",
       "    .dataframe thead th {\n",
       "        text-align: right;\n",
       "    }\n",
       "</style>\n",
       "<table border=\"1\" class=\"dataframe\">\n",
       "  <thead>\n",
       "    <tr style=\"text-align: right;\">\n",
       "      <th></th>\n",
       "      <th>baypass-random</th>\n",
       "      <th>baypass-real</th>\n",
       "      <th>wza-random</th>\n",
       "      <th>wza-real</th>\n",
       "    </tr>\n",
       "  </thead>\n",
       "  <tbody>\n",
       "    <tr>\n",
       "      <th>fdc</th>\n",
       "      <td>9684</td>\n",
       "      <td>17433</td>\n",
       "      <td>2050</td>\n",
       "      <td>3766</td>\n",
       "    </tr>\n",
       "    <tr>\n",
       "      <th>fdc</th>\n",
       "      <td>9684</td>\n",
       "      <td>17433</td>\n",
       "      <td>2050</td>\n",
       "      <td>3766</td>\n",
       "    </tr>\n",
       "    <tr>\n",
       "      <th>fdc</th>\n",
       "      <td>9684</td>\n",
       "      <td>17433</td>\n",
       "      <td>2050</td>\n",
       "      <td>3766</td>\n",
       "    </tr>\n",
       "    <tr>\n",
       "      <th>fdc</th>\n",
       "      <td>9684</td>\n",
       "      <td>17433</td>\n",
       "      <td>2050</td>\n",
       "      <td>3766</td>\n",
       "    </tr>\n",
       "  </tbody>\n",
       "</table>\n",
       "</div>"
      ],
      "text/plain": [
       "     baypass-random  baypass-real  wza-random  wza-real\n",
       "fdc            9684         17433        2050      3766\n",
       "fdc            9684         17433        2050      3766\n",
       "fdc            9684         17433        2050      3766\n",
       "fdc            9684         17433        2050      3766"
      ]
     },
     "metadata": {},
     "output_type": "display_data"
    },
    {
     "name": "stdout",
     "output_type": "stream",
     "text": [
      "fdi\n"
     ]
    },
    {
     "data": {
      "text/html": [
       "<div>\n",
       "<style scoped>\n",
       "    .dataframe tbody tr th:only-of-type {\n",
       "        vertical-align: middle;\n",
       "    }\n",
       "\n",
       "    .dataframe tbody tr th {\n",
       "        vertical-align: top;\n",
       "    }\n",
       "\n",
       "    .dataframe thead th {\n",
       "        text-align: right;\n",
       "    }\n",
       "</style>\n",
       "<table border=\"1\" class=\"dataframe\">\n",
       "  <thead>\n",
       "    <tr style=\"text-align: right;\">\n",
       "      <th></th>\n",
       "      <th>baypass-random</th>\n",
       "      <th>baypass-real</th>\n",
       "      <th>wza-random</th>\n",
       "      <th>wza-real</th>\n",
       "    </tr>\n",
       "  </thead>\n",
       "  <tbody>\n",
       "    <tr>\n",
       "      <th>fdi</th>\n",
       "      <td>5973</td>\n",
       "      <td>12262</td>\n",
       "      <td>873</td>\n",
       "      <td>1787</td>\n",
       "    </tr>\n",
       "    <tr>\n",
       "      <th>fdi</th>\n",
       "      <td>5973</td>\n",
       "      <td>12262</td>\n",
       "      <td>873</td>\n",
       "      <td>1787</td>\n",
       "    </tr>\n",
       "    <tr>\n",
       "      <th>fdi</th>\n",
       "      <td>5973</td>\n",
       "      <td>12262</td>\n",
       "      <td>873</td>\n",
       "      <td>1787</td>\n",
       "    </tr>\n",
       "    <tr>\n",
       "      <th>fdi</th>\n",
       "      <td>5973</td>\n",
       "      <td>12262</td>\n",
       "      <td>873</td>\n",
       "      <td>1787</td>\n",
       "    </tr>\n",
       "  </tbody>\n",
       "</table>\n",
       "</div>"
      ],
      "text/plain": [
       "     baypass-random  baypass-real  wza-random  wza-real\n",
       "fdi            5973         12262         873      1787\n",
       "fdi            5973         12262         873      1787\n",
       "fdi            5973         12262         873      1787\n",
       "fdi            5973         12262         873      1787"
      ]
     },
     "metadata": {},
     "output_type": "display_data"
    },
    {
     "name": "stdout",
     "output_type": "stream",
     "text": [
      "jp\n"
     ]
    },
    {
     "data": {
      "text/html": [
       "<div>\n",
       "<style scoped>\n",
       "    .dataframe tbody tr th:only-of-type {\n",
       "        vertical-align: middle;\n",
       "    }\n",
       "\n",
       "    .dataframe tbody tr th {\n",
       "        vertical-align: top;\n",
       "    }\n",
       "\n",
       "    .dataframe thead th {\n",
       "        text-align: right;\n",
       "    }\n",
       "</style>\n",
       "<table border=\"1\" class=\"dataframe\">\n",
       "  <thead>\n",
       "    <tr style=\"text-align: right;\">\n",
       "      <th></th>\n",
       "      <th>baypass-random</th>\n",
       "      <th>baypass-real</th>\n",
       "      <th>wza-random</th>\n",
       "      <th>wza-real</th>\n",
       "    </tr>\n",
       "  </thead>\n",
       "  <tbody>\n",
       "    <tr>\n",
       "      <th>jp</th>\n",
       "      <td>11383</td>\n",
       "      <td>22570</td>\n",
       "      <td>4281</td>\n",
       "      <td>8563</td>\n",
       "    </tr>\n",
       "    <tr>\n",
       "      <th>jp</th>\n",
       "      <td>11383</td>\n",
       "      <td>22570</td>\n",
       "      <td>4281</td>\n",
       "      <td>8563</td>\n",
       "    </tr>\n",
       "    <tr>\n",
       "      <th>jp</th>\n",
       "      <td>11383</td>\n",
       "      <td>22570</td>\n",
       "      <td>4281</td>\n",
       "      <td>8563</td>\n",
       "    </tr>\n",
       "    <tr>\n",
       "      <th>jp</th>\n",
       "      <td>11383</td>\n",
       "      <td>22570</td>\n",
       "      <td>4281</td>\n",
       "      <td>8563</td>\n",
       "    </tr>\n",
       "  </tbody>\n",
       "</table>\n",
       "</div>"
      ],
      "text/plain": [
       "    baypass-random  baypass-real  wza-random  wza-real\n",
       "jp           11383         22570        4281      8563\n",
       "jp           11383         22570        4281      8563\n",
       "jp           11383         22570        4281      8563\n",
       "jp           11383         22570        4281      8563"
      ]
     },
     "metadata": {},
     "output_type": "display_data"
    }
   ],
   "source": [
    "for spp,_dict in rona_table.items():\n",
    "    df = pd.DataFrame(_dict, index=[spp] * len(_dict))\n",
    "    print(spp)\n",
    "    display(df)\n"
   ]
  },
  {
   "cell_type": "code",
   "execution_count": null,
   "id": "997b5470",
   "metadata": {},
   "outputs": [],
   "source": []
  },
  {
   "cell_type": "code",
   "execution_count": null,
   "id": "1369acd2",
   "metadata": {},
   "outputs": [],
   "source": []
  },
  {
   "cell_type": "code",
   "execution_count": null,
   "id": "a88949c1",
   "metadata": {},
   "outputs": [],
   "source": []
  },
  {
   "cell_type": "code",
   "execution_count": null,
   "id": "ea5a259f",
   "metadata": {},
   "outputs": [],
   "source": []
  }
 ],
 "metadata": {
  "kernelspec": {
   "display_name": "Python 3",
   "language": "python",
   "name": "python3"
  },
  "language_info": {
   "codemirror_mode": {
    "name": "ipython",
    "version": 3
   },
   "file_extension": ".py",
   "mimetype": "text/x-python",
   "name": "python",
   "nbconvert_exporter": "python",
   "pygments_lexer": "ipython3",
   "version": "3.8.5"
  }
 },
 "nbformat": 4,
 "nbformat_minor": 5
}
