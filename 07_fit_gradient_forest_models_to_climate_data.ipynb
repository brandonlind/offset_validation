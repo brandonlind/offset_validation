{
 "cells": [
  {
   "cell_type": "markdown",
   "metadata": {},
   "source": [
    "<a id='home'></a>\n",
    "### purpose\n",
    "\n",
    "fit output models to climate of common garden as well as future climate projections\n",
    "\n",
    "### outline\n",
    "\n",
    "[1 - create mask files using species' shapefiles for use in gradient forest fitting](#create)\n",
    "- values inside of the shapefile boundares are set to 0 and all values outside of boundary are NA\n",
    "    - save each mask (a RasterStack R object) (one for each species) as .RDS\n",
    "\n",
    "[2 - rsync training outfiles from cedar HPC](#rsync)\n",
    "- these are the RDS files created from using the input files created in `04_create_datasets-wza_baypass_random` with the scripts created in `05_gradient_forest_processing_scripts` which were carried out on cedar HPC\n",
    "\n",
    "[3 - Read in common garden climate data](#climate)\n",
    "- read in the two-year average climate for Vancouver common garden (doug-fir) and 52-year average climate for two jack pine common gardens (Ste Christine, Fontbrune)\n",
    "\n",
    "[4 - Create common garden range_files](#range)\n",
    "- if I want to project offset to a common garden for range-wide populations, I need to project the garden's climate range-wide\n",
    "- do so by taking one of the clipped climate .txt files from `03_clip_climate_data.ipynb` for each of the species, and overwritting the range-wide climate data with the common garden data (all lat/longs within boundary species range get one climate value)\n",
    "\n",
    "[5 - Fit trained model to common garden and future climates](#fit)\n",
    "\n",
    "\n",
    "#### notes\n",
    "- I ran it through once with 56 engines but killed it once it started training parallel because of memory issues. Progress bars for rsycing will not be accurate"
   ]
  },
  {
   "cell_type": "markdown",
   "metadata": {},
   "source": [
    " "
   ]
  },
  {
   "cell_type": "code",
   "execution_count": 1,
   "metadata": {},
   "outputs": [
    {
     "name": "stdout",
     "output_type": "stream",
     "text": [
      "20 20\n",
      "##################################################################\n",
      "Current commit of pythonimports:\n",
      "commit 0f67fe16b545ed556fd3ce2d4b01565e7a24831a  \n",
      "Author: Brandon <brandon.lind@ubc.ca>  \n",
      "Date:   Thu Jul 15 11:38:49 2021 -0600\n",
      "Today:\tJuly 25, 2021 - 15:27:54\n",
      "python version: 3.8.5\n",
      "##################################################################\n",
      "\n"
     ]
    },
    {
     "data": {
      "text/html": [
       "<details>\n",
       "<summary>Click to view module versions</summary>\n",
       "<pre>\n",
       "-----\n",
       "PIL                 8.0.0\n",
       "balance_queue       NA\n",
       "cartopy             0.18.0\n",
       "ipyparallel         6.3.0\n",
       "matplotlib          3.3.1\n",
       "mymaps              NA\n",
       "myslurm             NA\n",
       "numpy               1.20.2\n",
       "pandas              1.2.4\n",
       "pythonimports       NA\n",
       "rioxarray           0.1.1\n",
       "sinfo               0.3.1\n",
       "tqdm                4.55.1\n",
       "xarray              0.16.2\n",
       "-----\n",
       "</pre>\n",
       "<details>\n",
       "<summary>Click to view dependency modules</summary>\n",
       "<pre>\n",
       "PIL                 8.0.0\n",
       "affine              2.3.0\n",
       "attr                21.2.0\n",
       "backcall            0.2.0\n",
       "cartopy             0.18.0\n",
       "certifi             2021.05.30\n",
       "cffi                1.14.5\n",
       "click               7.1.2\n",
       "cycler              0.10.0\n",
       "cython_runtime      NA\n",
       "dateutil            2.8.1\n",
       "decorator           5.0.9\n",
       "fiona               1.8.20\n",
       "ipykernel           5.4.2\n",
       "ipyparallel         6.3.0\n",
       "ipython_genutils    0.2.0\n",
       "ipywidgets          7.6.3\n",
       "jedi                0.17.0\n",
       "kiwisolver          1.2.0\n",
       "matplotlib          3.3.1\n",
       "mkl                 2.3.0\n",
       "mpl_toolkits        NA\n",
       "numpy               1.20.2\n",
       "pandas              1.2.4\n",
       "parso               0.7.1\n",
       "pexpect             4.8.0\n",
       "pickleshare         0.7.5\n",
       "pkg_resources       NA\n",
       "prompt_toolkit      3.0.17\n",
       "ptyprocess          0.7.0\n",
       "pygments            2.9.0\n",
       "pyparsing           2.4.7\n",
       "pyproj              3.1.0\n",
       "pytz                2020.1\n",
       "rasterio            1.2.0\n",
       "rioxarray           0.1.1\n",
       "scipy               1.6.2\n",
       "shapefile           2.1.3\n",
       "shapely             1.7.1\n",
       "sinfo               0.3.1\n",
       "six                 1.16.0\n",
       "storemagic          NA\n",
       "tornado             6.1\n",
       "tqdm                4.55.1\n",
       "traitlets           5.0.5\n",
       "wcwidth             0.2.5\n",
       "xarray              0.16.2\n",
       "zmq                 22.1.0\n",
       "</pre>\n",
       "</details> <!-- seems like this ends pre, so might as well be explicit -->\n",
       "<pre>\n",
       "-----\n",
       "IPython             7.19.0\n",
       "jupyter_client      6.1.12\n",
       "jupyter_core        4.7.1\n",
       "notebook            6.4.0\n",
       "-----\n",
       "Python 3.8.5 (default, Sep  4 2020, 07:30:14) [GCC 7.3.0]\n",
       "Linux-3.10.0-1160.25.1.el7.x86_64-x86_64-with-glibc2.10\n",
       "56 logical CPU cores, x86_64\n",
       "-----\n",
       "Session information updated at 2021-07-25 15:27\n",
       "</pre>\n",
       "</details>"
      ],
      "text/plain": [
       "<IPython.core.display.HTML object>"
      ]
     },
     "execution_count": 1,
     "metadata": {},
     "output_type": "execute_result"
    }
   ],
   "source": [
    "from pythonimports import *\n",
    "import xarray,rioxarray\n",
    "\n",
    "lview,dview = get_client()\n",
    "\n",
    "latest_commit()\n",
    "sinfo(html=True)"
   ]
  },
  {
   "cell_type": "markdown",
   "metadata": {},
   "source": [
    "<a id='create'></a>\n",
    "# create mask files\n",
    "\n",
    "- this process based on code here: https://www.mountainmanmaier.com/software/pop_genom/\n",
    "- I only really need one .tif (since I set all values to 0 to create mask)\n",
    "\n",
    "outline\n",
    "- first create a single .tif for each of the updated shapefiles\n",
    "- then create and save RasterStack objects as RDS, where all values within shapefile boundaries are set to 0 and those outside are NA"
   ]
  },
  {
   "cell_type": "code",
   "execution_count": 2,
   "metadata": {},
   "outputs": [],
   "source": [
    "def create_tif(netcdf_file, tif_outfile, shapefile):\n",
    "    \"\"\"Clip netCDF file within shapefile boundaries, save as tif.\n",
    "    \n",
    "    Notes\n",
    "    -----\n",
    "    - assumes WGS84 projection of netcdf_file\n",
    "    \"\"\"\n",
    "    import geopandas, rioxarray, cartopy.crs, xarray\n",
    "    from shapely.geometry import box, mapping\n",
    "\n",
    "    # read in netcdf file\n",
    "    dataset = xarray.open_dataset(netcdf_file)\n",
    "\n",
    "    # add metadata for WGS84\n",
    "    dataset.rio.set_spatial_dims(x_dim=\"lon\", y_dim=\"lat\", inplace=True)\n",
    "    dataset.rio.write_crs(\"epsg:4326\", inplace=True)\n",
    "\n",
    "    # read in the shapefile\n",
    "    shp = geopandas.read_file(shapefile, crs=cartopy.crs.PlateCarree())\n",
    "    \n",
    "    # clip climate data within boundaries of shapefile\n",
    "    clipped = dataset.rio.clip(shp.geometry.apply(mapping), shp.crs, drop=False)\n",
    "    \n",
    "    # save as .tif\n",
    "    clipped.rio.to_raster(tif_outfile)\n",
    "    \n",
    "    return tif_outfile"
   ]
  },
  {
   "cell_type": "code",
   "execution_count": 3,
   "metadata": {},
   "outputs": [],
   "source": [
    "# get one of the netCDF files from one of the netCDF dirs created in ../02_update_species_range_shapefiles.ipynb\n",
    "netdir = '/data/projects/pool_seq/environemental_data/new_netCDF_files/NA_ENSEMBLE_rcp45_2050s'\n",
    "netfile = op.join(netdir, 'TD_WGS84.nc')\n",
    "assert op.exists(netfile)"
   ]
  },
  {
   "cell_type": "code",
   "execution_count": 4,
   "metadata": {},
   "outputs": [
    {
     "data": {
      "text/plain": [
       "['/data/projects/pool_seq/environemental_data/shapefiles/interior_union_file.shp',\n",
       " '/data/projects/pool_seq/environemental_data/shapefiles/combined/df_combined_union_file.shp',\n",
       " '/data/projects/pool_seq/environemental_data/shapefiles/jp_union_file.shp',\n",
       " '/data/projects/pool_seq/environemental_data/shapefiles/wl_union_file.shp',\n",
       " '/data/projects/pool_seq/environemental_data/shapefiles/coastal_union_file.shp']"
      ]
     },
     "execution_count": 4,
     "metadata": {},
     "output_type": "execute_result"
    }
   ],
   "source": [
    "# get the paths to the updated shapefiles\n",
    "shapedir = '/data/projects/pool_seq/environemental_data/shapefiles'\n",
    "bnames = ['interior_union_file.shp',\n",
    "          'combined/df_combined_union_file.shp',\n",
    "          'jp_union_file.shp',\n",
    "          'wl_union_file.shp',\n",
    "          'coastal_union_file.shp']\n",
    "shapefiles = [op.join(shapedir, f) for f in bnames]\n",
    "shapefiles"
   ]
  },
  {
   "cell_type": "code",
   "execution_count": 5,
   "metadata": {},
   "outputs": [
    {
     "name": "stdout",
     "output_type": "stream",
     "text": [
      "\u001b[1m\n",
      "Watching 5 jobs ...\u001b[0m\n"
     ]
    },
    {
     "name": "stderr",
     "output_type": "stream",
     "text": [
      "creating tifs: 100%|██████████| 5/5 [00:04<00:00,  1.09it/s]\n"
     ]
    }
   ],
   "source": [
    "# create a tif for each shapefile \n",
    "jobs = []\n",
    "for shapefile in shapefiles:\n",
    "    suffix = '_clipped_' + op.basename(shapefile).split(\"_union\")[0] + '.tif'  # _clipped_<species>.tif\n",
    "    outfile = netfile.replace('.nc', suffix)\n",
    "    jobs.append(\n",
    "        lview.apply_async(create_tif, *(netfile,\n",
    "                                        outfile,\n",
    "                                        shapefile))\n",
    "        )\n",
    "watch_async(jobs, desc='creating tifs')"
   ]
  },
  {
   "cell_type": "code",
   "execution_count": 6,
   "metadata": {},
   "outputs": [
    {
     "data": {
      "text/plain": [
       "['/data/projects/pool_seq/environemental_data/new_netCDF_files/NA_ENSEMBLE_rcp45_2050s/TD_WGS84_clipped_interior.tif',\n",
       " '/data/projects/pool_seq/environemental_data/new_netCDF_files/NA_ENSEMBLE_rcp45_2050s/TD_WGS84_clipped_df_combined.tif',\n",
       " '/data/projects/pool_seq/environemental_data/new_netCDF_files/NA_ENSEMBLE_rcp45_2050s/TD_WGS84_clipped_jp.tif',\n",
       " '/data/projects/pool_seq/environemental_data/new_netCDF_files/NA_ENSEMBLE_rcp45_2050s/TD_WGS84_clipped_wl.tif',\n",
       " '/data/projects/pool_seq/environemental_data/new_netCDF_files/NA_ENSEMBLE_rcp45_2050s/TD_WGS84_clipped_coastal.tif']"
      ]
     },
     "execution_count": 6,
     "metadata": {},
     "output_type": "execute_result"
    }
   ],
   "source": [
    "tifs = []\n",
    "for j in jobs:\n",
    "    tifs.append(j.r)\n",
    "tifs"
   ]
  },
  {
   "cell_type": "code",
   "execution_count": 7,
   "metadata": {},
   "outputs": [
    {
     "data": {
      "text/plain": [
       "True"
      ]
     },
     "execution_count": 7,
     "metadata": {},
     "output_type": "execute_result"
    }
   ],
   "source": [
    "len(shapefiles) == len(jobs) == len(tifs)"
   ]
  },
  {
   "cell_type": "code",
   "execution_count": 8,
   "metadata": {},
   "outputs": [
    {
     "data": {
      "text/plain": [
       "'/lu213/brandon.lind/data/testdir/rsync_tifs.txt'"
      ]
     },
     "execution_count": 8,
     "metadata": {},
     "output_type": "execute_result"
    }
   ],
   "source": [
    "# execute rsync commands from local computer to download the tif files\n",
    "\n",
    "rsyncfile = '/lu213/brandon.lind/data/testdir/rsync_tifs.txt'\n",
    "\n",
    "with open(rsyncfile, 'w') as o:\n",
    "    cmds = []\n",
    "    for tif in tifs:\n",
    "        dname = op.basename(op.dirname(tif))\n",
    "        cmds.append(f'rsync -azv yeaman03:{tif} {dname}-{op.basename(tif)}')\n",
    "\n",
    "    o.write('\\n'.join(cmds))\n",
    "\n",
    "rsyncfile"
   ]
  },
  {
   "cell_type": "markdown",
   "metadata": {},
   "source": [
    "### create RasterStack from .tif and save\n",
    "- values within the range boundaries are 0, outside the range boundaries are NA\n",
    "- this is the effective process carried out here: https://www.mountainmanmaier.com/software/pop_genom/\n",
    "\n",
    "```R\n",
    "# first rsync clipped environmental .tif files created above\n",
    "\n",
    "# then run the following on local computer that allows rgdal install\n",
    "# (I figured it out after running manually - conda install -c conda-forge r-rgdal\n",
    "\n",
    "library(raster)\n",
    "DIR = '~/Downloads'\n",
    "\n",
    "files = list.files(DIR, pattern='\\\\.tif')  # 5 previously cut .tif files\n",
    "stopifnot(length(files) == 5)\n",
    "\n",
    "files1 <- paste(DIR, files, sep='/')\n",
    "\n",
    "progress = 0\n",
    "for (f in files1){\n",
    "    r1 = sapply(c(f), function(x) { flip(raster(x), direction='y') } )\n",
    "    all.s <- stack(r1)\n",
    "    # instead of trying to set values to 0 this way (mountainmanmaier):\n",
    "    ### mask <- round((all.s[[1]]/all.s[[1]]) - 1)\n",
    "    # set them to 0 this way (the first way results in values very near 0, stupid R)\n",
    "    all.s[[1]][is.na(values(all.s[[1]])) == FALSE] <- 0\n",
    "    \n",
    "    # save mask\n",
    "    mask <- all.s[[1]]\n",
    "    maskfile <- gsub(\".tif\", \"_union_mask.RDS\", f)\n",
    "    maskfile <- gsub(\"NA_ENSEMBLE_rcp45_2050s-TD_WGS84_clipped_\", \"\", maskfile)  # <species>_union_mask.RDS\n",
    "    saveRDS(mask, maskfile)\n",
    "    \n",
    "    progress = progress + 1\n",
    "    print(c(progress, maskfile))\n",
    "}\n",
    "\n",
    "# rsync mask.RDS files to /data/projects/pool_seq/environemental_data/shapefiles\n",
    "\n",
    "```"
   ]
  },
  {
   "cell_type": "code",
   "execution_count": 9,
   "metadata": {},
   "outputs": [
    {
     "data": {
      "text/plain": [
       "{'coastal': '/data/projects/pool_seq/environemental_data/shapefiles/coastal_union_mask.RDS',\n",
       " 'combined': '/data/projects/pool_seq/environemental_data/shapefiles/df_combined_union_mask.RDS',\n",
       " 'interior': '/data/projects/pool_seq/environemental_data/shapefiles/interior_union_mask.RDS',\n",
       " 'jp': '/data/projects/pool_seq/environemental_data/shapefiles/jp_union_mask.RDS',\n",
       " 'wl': '/data/projects/pool_seq/environemental_data/shapefiles/wl_union_mask.RDS'}"
      ]
     },
     "execution_count": 9,
     "metadata": {},
     "output_type": "execute_result"
    }
   ],
   "source": [
    "maskdir = '/data/projects/pool_seq/environemental_data/shapefiles'\n",
    "masklist = fs(maskdir, endswith='mask.RDS')\n",
    "\n",
    "maskfiles = {}\n",
    "for mask in masklist:\n",
    "    spp = op.basename(mask).split(\"_\")[0] if 'combined' not in mask else 'combined'\n",
    "    maskfiles[spp] = mask\n",
    "    \n",
    "maskfiles"
   ]
  },
  {
   "cell_type": "code",
   "execution_count": null,
   "metadata": {},
   "outputs": [],
   "source": []
  },
  {
   "cell_type": "markdown",
   "metadata": {},
   "source": [
    "<a id='rsync'></a>\n",
    "# rsync training outfiles from cedar\n",
    "\n",
    "[top](#home)"
   ]
  },
  {
   "cell_type": "code",
   "execution_count": 10,
   "metadata": {},
   "outputs": [],
   "source": [
    "outdir = '/data/projects/pool_seq/phenotypic_data/offset_misc_files/training/training_outfiles'"
   ]
  },
  {
   "cell_type": "code",
   "execution_count": 11,
   "metadata": {},
   "outputs": [
    {
     "data": {
      "text/plain": [
       "258"
      ]
     },
     "execution_count": 11,
     "metadata": {},
     "output_type": "execute_result"
    }
   ],
   "source": [
    "rsyncfile = op.join(outdir, 'rds_rsync.txt')\n",
    "rsync_cmds = read(rsyncfile)\n",
    "len(rsync_cmds)"
   ]
  },
  {
   "cell_type": "code",
   "execution_count": 12,
   "metadata": {},
   "outputs": [
    {
     "data": {
      "text/plain": [
       "['rsync',\n",
       " '-azv',\n",
       " 'cedar:/scratch/lindb/gradient_forest_iterations/combined-baypass-pseudo_random_loci-full_gradient_forest_predOut.RDS',\n",
       " '/data/projects/pool_seq/phenotypic_data/offset_misc_files/training/training_outfiles/combined-baypass-pseudo_random_loci-full_gradient_forest_predOut.RDS']"
      ]
     },
     "execution_count": 12,
     "metadata": {},
     "output_type": "execute_result"
    }
   ],
   "source": [
    "rsync_cmds[0].split()"
   ]
  },
  {
   "cell_type": "code",
   "execution_count": 13,
   "metadata": {},
   "outputs": [
    {
     "name": "stdout",
     "output_type": "stream",
     "text": [
      "\u001b[1m\n",
      "Watching 258 jobs ...\u001b[0m\n"
     ]
    },
    {
     "name": "stderr",
     "output_type": "stream",
     "text": [
      "100%|██████████| 258/258 [00:46<00:00,  5.57it/s]\n"
     ]
    }
   ],
   "source": [
    "# run this cell until all files are transferred\n",
    "jobs = []\n",
    "trained_files = []\n",
    "predfiles = []\n",
    "dsts = []\n",
    "for cmd in rsync_cmds:\n",
    "    *args,src,dst = cmd.split()\n",
    "\n",
    "    jobs.append(\n",
    "        lview.apply_async(\n",
    "            rsync, *(src, dst)\n",
    "        )\n",
    "    )\n",
    "    \n",
    "    if dst.endswith('training.RDS'):\n",
    "        trained_files.append(dst)\n",
    "    else:\n",
    "        predfiles.append(dst)\n",
    "        \n",
    "    dsts.append(dst)\n",
    "    \n",
    "watch_async(jobs)"
   ]
  },
  {
   "cell_type": "code",
   "execution_count": 14,
   "metadata": {},
   "outputs": [
    {
     "name": "stdout",
     "output_type": "stream",
     "text": [
      "\u001b[1m\n",
      "Watching 8 jobs ...\u001b[0m\n"
     ]
    },
    {
     "name": "stderr",
     "output_type": "stream",
     "text": [
      "iteration 0: 100%|██████████| 8/8 [00:02<00:00,  2.83it/s]\n"
     ]
    }
   ],
   "source": [
    "# redo any that failed\n",
    "count = 0\n",
    "while True:\n",
    "    needed = []\n",
    "    new_rsync_cmds = []\n",
    "    for i,j in enumerate(jobs):\n",
    "        try:\n",
    "            x = j.r\n",
    "        except:\n",
    "            needed.append(rsync_cmds[i])\n",
    "            new_rsync_cmds.append(rsync_cmds[i])\n",
    "    rsync_cmds = new_rsync_cmds\n",
    "            \n",
    "    if len(needed) == 0:\n",
    "        break\n",
    "        \n",
    "    jobs = []\n",
    "    for cmd in rsync_cmds:\n",
    "        *args,src,dst = cmd.split()\n",
    "\n",
    "        jobs.append(\n",
    "            lview.apply_async(\n",
    "                rsync, *(src, dst)\n",
    "            )\n",
    "        )\n",
    "    watch_async(jobs, desc=f'iteration {count}')\n",
    "    count += 1"
   ]
  },
  {
   "cell_type": "code",
   "execution_count": 15,
   "metadata": {},
   "outputs": [],
   "source": [
    "assert all([op.exists(dst) for dst in dsts])"
   ]
  },
  {
   "cell_type": "code",
   "execution_count": 16,
   "metadata": {
    "scrolled": true
   },
   "outputs": [],
   "source": [
    "# get lists of models grouped by species name\n",
    "trained_models = defaultdict(list)\n",
    "for model in sorted(trained_files):\n",
    "    spp = op.basename(model).split(\"-\")[0].split(\"_\")[0]\n",
    "    pred = model.replace('_training.RDS', '_predOut.RDS')\n",
    "    assert pred in dsts\n",
    "    trained_models[spp].append((model, pred))"
   ]
  },
  {
   "cell_type": "code",
   "execution_count": 17,
   "metadata": {},
   "outputs": [
    {
     "data": {
      "text/plain": [
       "'wl'"
      ]
     },
     "execution_count": 17,
     "metadata": {},
     "output_type": "execute_result"
    }
   ],
   "source": [
    "spp"
   ]
  },
  {
   "cell_type": "code",
   "execution_count": null,
   "metadata": {},
   "outputs": [],
   "source": []
  },
  {
   "cell_type": "code",
   "execution_count": 18,
   "metadata": {},
   "outputs": [
    {
     "data": {
      "text/plain": [
       "('/data/projects/pool_seq/phenotypic_data/offset_misc_files/training/training_outfiles/wl-wza-pseudo_random_loci-full_gradient_forest_training.RDS',\n",
       " '/data/projects/pool_seq/phenotypic_data/offset_misc_files/training/training_outfiles/wl-wza-pseudo_random_loci-full_gradient_forest_predOut.RDS')"
      ]
     },
     "execution_count": 18,
     "metadata": {},
     "output_type": "execute_result"
    }
   ],
   "source": [
    "trained_models[spp][0]"
   ]
  },
  {
   "cell_type": "code",
   "execution_count": null,
   "metadata": {},
   "outputs": [],
   "source": []
  },
  {
   "cell_type": "markdown",
   "metadata": {},
   "source": [
    "<a id='climate'></a>\n",
    "# Read in common garden climate data"
   ]
  },
  {
   "cell_type": "markdown",
   "metadata": {},
   "source": [
    "### doug-fir"
   ]
  },
  {
   "cell_type": "code",
   "execution_count": 19,
   "metadata": {},
   "outputs": [
    {
     "data": {
      "text/html": [
       "<div>\n",
       "<style scoped>\n",
       "    .dataframe tbody tr th:only-of-type {\n",
       "        vertical-align: middle;\n",
       "    }\n",
       "\n",
       "    .dataframe tbody tr th {\n",
       "        vertical-align: top;\n",
       "    }\n",
       "\n",
       "    .dataframe thead th {\n",
       "        text-align: right;\n",
       "    }\n",
       "</style>\n",
       "<table border=\"1\" class=\"dataframe\">\n",
       "  <thead>\n",
       "    <tr style=\"text-align: right;\">\n",
       "      <th></th>\n",
       "      <th>Latitude</th>\n",
       "      <th>Longitude</th>\n",
       "      <th>Elevation</th>\n",
       "      <th>AHM</th>\n",
       "      <th>CMD</th>\n",
       "      <th>DD5</th>\n",
       "      <th>DD_0</th>\n",
       "      <th>EMT</th>\n",
       "      <th>EXT</th>\n",
       "      <th>Eref</th>\n",
       "      <th>FFP</th>\n",
       "      <th>MAP</th>\n",
       "      <th>MAT</th>\n",
       "      <th>MCMT</th>\n",
       "      <th>MSP</th>\n",
       "      <th>MWMT</th>\n",
       "      <th>NFFD</th>\n",
       "      <th>PAS</th>\n",
       "      <th>SHM</th>\n",
       "      <th>TD</th>\n",
       "      <th>bFFP</th>\n",
       "      <th>eFFP</th>\n",
       "    </tr>\n",
       "  </thead>\n",
       "  <tbody>\n",
       "    <tr>\n",
       "      <th>vancouver</th>\n",
       "      <td>49.257</td>\n",
       "      <td>-123.25</td>\n",
       "      <td>81.0</td>\n",
       "      <td>18.05</td>\n",
       "      <td>301.0</td>\n",
       "      <td>2487.5</td>\n",
       "      <td>86.5</td>\n",
       "      <td>-13.5</td>\n",
       "      <td>35.0</td>\n",
       "      <td>648.0</td>\n",
       "      <td>262.0</td>\n",
       "      <td>1194.0</td>\n",
       "      <td>11.2</td>\n",
       "      <td>5.4</td>\n",
       "      <td>259.0</td>\n",
       "      <td>19.65</td>\n",
       "      <td>320.5</td>\n",
       "      <td>36.0</td>\n",
       "      <td>76.65</td>\n",
       "      <td>14.25</td>\n",
       "      <td>60.0</td>\n",
       "      <td>322.0</td>\n",
       "    </tr>\n",
       "  </tbody>\n",
       "</table>\n",
       "</div>"
      ],
      "text/plain": [
       "           Latitude  Longitude  Elevation    AHM    CMD     DD5  DD_0   EMT  \\\n",
       "vancouver    49.257    -123.25       81.0  18.05  301.0  2487.5  86.5 -13.5   \n",
       "\n",
       "            EXT   Eref    FFP     MAP   MAT  MCMT    MSP   MWMT   NFFD   PAS  \\\n",
       "vancouver  35.0  648.0  262.0  1194.0  11.2   5.4  259.0  19.65  320.5  36.0   \n",
       "\n",
       "             SHM     TD  bFFP   eFFP  \n",
       "vancouver  76.65  14.25  60.0  322.0  "
      ]
     },
     "execution_count": 19,
     "metadata": {},
     "output_type": "execute_result"
    }
   ],
   "source": [
    "# doug-fir vancouver data\n",
    "vanfile = '/data/projects/pool_seq/environemental_data/vancouver_data/vancouver_climate-2018-2019_USING.txt'\n",
    "vanclim = pd.read_table(vanfile, index_col=0)\n",
    "vanclim = vanclim[vanclim.index =='two_year_avg']\n",
    "vanclim.index = ['vancouver']\n",
    "vanclim.columns.values[:2] = ['Latitude', 'Longitude']\n",
    "vanclim"
   ]
  },
  {
   "cell_type": "markdown",
   "metadata": {},
   "source": [
    "### jack pine"
   ]
  },
  {
   "cell_type": "code",
   "execution_count": 20,
   "metadata": {},
   "outputs": [
    {
     "data": {
      "text/html": [
       "<div>\n",
       "<style scoped>\n",
       "    .dataframe tbody tr th:only-of-type {\n",
       "        vertical-align: middle;\n",
       "    }\n",
       "\n",
       "    .dataframe tbody tr th {\n",
       "        vertical-align: top;\n",
       "    }\n",
       "\n",
       "    .dataframe thead th {\n",
       "        text-align: right;\n",
       "    }\n",
       "</style>\n",
       "<table border=\"1\" class=\"dataframe\">\n",
       "  <thead>\n",
       "    <tr style=\"text-align: right;\">\n",
       "      <th></th>\n",
       "      <th>Latitude</th>\n",
       "      <th>Longitude</th>\n",
       "      <th>Elevation</th>\n",
       "      <th>AHM</th>\n",
       "      <th>CMD</th>\n",
       "      <th>DD5</th>\n",
       "      <th>DD_0</th>\n",
       "      <th>EMT</th>\n",
       "      <th>EXT</th>\n",
       "      <th>Eref</th>\n",
       "      <th>FFP</th>\n",
       "      <th>MAP</th>\n",
       "      <th>MAT</th>\n",
       "      <th>MCMT</th>\n",
       "      <th>MSP</th>\n",
       "      <th>MWMT</th>\n",
       "      <th>NFFD</th>\n",
       "      <th>PAS</th>\n",
       "      <th>SHM</th>\n",
       "      <th>TD</th>\n",
       "      <th>bFFP</th>\n",
       "      <th>eFFP</th>\n",
       "    </tr>\n",
       "  </thead>\n",
       "  <tbody>\n",
       "    <tr>\n",
       "      <th>christine</th>\n",
       "      <td>46.818749</td>\n",
       "      <td>-71.887803</td>\n",
       "      <td>156</td>\n",
       "      <td>12.179245</td>\n",
       "      <td>77.132075</td>\n",
       "      <td>1739.150943</td>\n",
       "      <td>1281.716981</td>\n",
       "      <td>-38.9</td>\n",
       "      <td>43.6</td>\n",
       "      <td>621.962264</td>\n",
       "      <td>127.056604</td>\n",
       "      <td>1162.169811</td>\n",
       "      <td>3.998113</td>\n",
       "      <td>-13.845283</td>\n",
       "      <td>561.150943</td>\n",
       "      <td>18.962264</td>\n",
       "      <td>157.113208</td>\n",
       "      <td>358.075472</td>\n",
       "      <td>34.554717</td>\n",
       "      <td>32.811321</td>\n",
       "      <td>141.094340</td>\n",
       "      <td>268.169811</td>\n",
       "    </tr>\n",
       "    <tr>\n",
       "      <th>fontbrune</th>\n",
       "      <td>46.959018</td>\n",
       "      <td>-75.698440</td>\n",
       "      <td>247</td>\n",
       "      <td>13.962264</td>\n",
       "      <td>135.018868</td>\n",
       "      <td>1624.962264</td>\n",
       "      <td>1418.849057</td>\n",
       "      <td>-41.1</td>\n",
       "      <td>42.6</td>\n",
       "      <td>646.849057</td>\n",
       "      <td>116.056604</td>\n",
       "      <td>953.754717</td>\n",
       "      <td>3.237736</td>\n",
       "      <td>-15.224528</td>\n",
       "      <td>475.490566</td>\n",
       "      <td>18.154717</td>\n",
       "      <td>144.320755</td>\n",
       "      <td>298.849057</td>\n",
       "      <td>38.800000</td>\n",
       "      <td>33.377358</td>\n",
       "      <td>147.358491</td>\n",
       "      <td>263.471698</td>\n",
       "    </tr>\n",
       "  </tbody>\n",
       "</table>\n",
       "</div>"
      ],
      "text/plain": [
       "            Latitude  Longitude  Elevation        AHM         CMD  \\\n",
       "christine  46.818749 -71.887803        156  12.179245   77.132075   \n",
       "fontbrune  46.959018 -75.698440        247  13.962264  135.018868   \n",
       "\n",
       "                   DD5         DD_0   EMT   EXT        Eref         FFP  \\\n",
       "christine  1739.150943  1281.716981 -38.9  43.6  621.962264  127.056604   \n",
       "fontbrune  1624.962264  1418.849057 -41.1  42.6  646.849057  116.056604   \n",
       "\n",
       "                   MAP       MAT       MCMT         MSP       MWMT  \\\n",
       "christine  1162.169811  3.998113 -13.845283  561.150943  18.962264   \n",
       "fontbrune   953.754717  3.237736 -15.224528  475.490566  18.154717   \n",
       "\n",
       "                 NFFD         PAS        SHM         TD        bFFP  \\\n",
       "christine  157.113208  358.075472  34.554717  32.811321  141.094340   \n",
       "fontbrune  144.320755  298.849057  38.800000  33.377358  147.358491   \n",
       "\n",
       "                 eFFP  \n",
       "christine  268.169811  \n",
       "fontbrune  263.471698  "
      ]
     },
     "execution_count": 20,
     "metadata": {},
     "output_type": "execute_result"
    }
   ],
   "source": [
    "# jack pine\n",
    "jpdir = '/data/projects/pool_seq/pangenome/JP_pangenome/JP_pooled/phenotypes'\n",
    "jpclim = pd.read_table(\n",
    "    op.join(jpdir,\n",
    "            'jack_pine_common_gardens_average_climate_1966-2018.txt'),\n",
    "    index_col=0\n",
    ").loc[['christine', 'fontbrune']]\n",
    "\n",
    "jpclim"
   ]
  },
  {
   "cell_type": "markdown",
   "metadata": {},
   "source": [
    "### combine"
   ]
  },
  {
   "cell_type": "code",
   "execution_count": 21,
   "metadata": {},
   "outputs": [
    {
     "data": {
      "text/html": [
       "<div>\n",
       "<style scoped>\n",
       "    .dataframe tbody tr th:only-of-type {\n",
       "        vertical-align: middle;\n",
       "    }\n",
       "\n",
       "    .dataframe tbody tr th {\n",
       "        vertical-align: top;\n",
       "    }\n",
       "\n",
       "    .dataframe thead th {\n",
       "        text-align: right;\n",
       "    }\n",
       "</style>\n",
       "<table border=\"1\" class=\"dataframe\">\n",
       "  <thead>\n",
       "    <tr style=\"text-align: right;\">\n",
       "      <th></th>\n",
       "      <th>Latitude</th>\n",
       "      <th>Longitude</th>\n",
       "      <th>Elevation</th>\n",
       "      <th>AHM</th>\n",
       "      <th>CMD</th>\n",
       "      <th>DD5</th>\n",
       "      <th>DD_0</th>\n",
       "      <th>EMT</th>\n",
       "      <th>EXT</th>\n",
       "      <th>Eref</th>\n",
       "      <th>FFP</th>\n",
       "      <th>MAP</th>\n",
       "      <th>MAT</th>\n",
       "      <th>MCMT</th>\n",
       "      <th>MSP</th>\n",
       "      <th>MWMT</th>\n",
       "      <th>NFFD</th>\n",
       "      <th>PAS</th>\n",
       "      <th>SHM</th>\n",
       "      <th>TD</th>\n",
       "      <th>bFFP</th>\n",
       "      <th>eFFP</th>\n",
       "    </tr>\n",
       "  </thead>\n",
       "  <tbody>\n",
       "    <tr>\n",
       "      <th>christine</th>\n",
       "      <td>46.818749</td>\n",
       "      <td>-71.887803</td>\n",
       "      <td>156.0</td>\n",
       "      <td>12.179245</td>\n",
       "      <td>77.132075</td>\n",
       "      <td>1739.150943</td>\n",
       "      <td>1281.716981</td>\n",
       "      <td>-38.9</td>\n",
       "      <td>43.6</td>\n",
       "      <td>621.962264</td>\n",
       "      <td>127.056604</td>\n",
       "      <td>1162.169811</td>\n",
       "      <td>3.998113</td>\n",
       "      <td>-13.845283</td>\n",
       "      <td>561.150943</td>\n",
       "      <td>18.962264</td>\n",
       "      <td>157.113208</td>\n",
       "      <td>358.075472</td>\n",
       "      <td>34.554717</td>\n",
       "      <td>32.811321</td>\n",
       "      <td>141.094340</td>\n",
       "      <td>268.169811</td>\n",
       "    </tr>\n",
       "    <tr>\n",
       "      <th>fontbrune</th>\n",
       "      <td>46.959018</td>\n",
       "      <td>-75.698440</td>\n",
       "      <td>247.0</td>\n",
       "      <td>13.962264</td>\n",
       "      <td>135.018868</td>\n",
       "      <td>1624.962264</td>\n",
       "      <td>1418.849057</td>\n",
       "      <td>-41.1</td>\n",
       "      <td>42.6</td>\n",
       "      <td>646.849057</td>\n",
       "      <td>116.056604</td>\n",
       "      <td>953.754717</td>\n",
       "      <td>3.237736</td>\n",
       "      <td>-15.224528</td>\n",
       "      <td>475.490566</td>\n",
       "      <td>18.154717</td>\n",
       "      <td>144.320755</td>\n",
       "      <td>298.849057</td>\n",
       "      <td>38.800000</td>\n",
       "      <td>33.377358</td>\n",
       "      <td>147.358491</td>\n",
       "      <td>263.471698</td>\n",
       "    </tr>\n",
       "    <tr>\n",
       "      <th>vancouver</th>\n",
       "      <td>49.257000</td>\n",
       "      <td>-123.250000</td>\n",
       "      <td>81.0</td>\n",
       "      <td>18.050000</td>\n",
       "      <td>301.000000</td>\n",
       "      <td>2487.500000</td>\n",
       "      <td>86.500000</td>\n",
       "      <td>-13.5</td>\n",
       "      <td>35.0</td>\n",
       "      <td>648.000000</td>\n",
       "      <td>262.000000</td>\n",
       "      <td>1194.000000</td>\n",
       "      <td>11.200000</td>\n",
       "      <td>5.400000</td>\n",
       "      <td>259.000000</td>\n",
       "      <td>19.650000</td>\n",
       "      <td>320.500000</td>\n",
       "      <td>36.000000</td>\n",
       "      <td>76.650000</td>\n",
       "      <td>14.250000</td>\n",
       "      <td>60.000000</td>\n",
       "      <td>322.000000</td>\n",
       "    </tr>\n",
       "  </tbody>\n",
       "</table>\n",
       "</div>"
      ],
      "text/plain": [
       "            Latitude   Longitude  Elevation        AHM         CMD  \\\n",
       "christine  46.818749  -71.887803      156.0  12.179245   77.132075   \n",
       "fontbrune  46.959018  -75.698440      247.0  13.962264  135.018868   \n",
       "vancouver  49.257000 -123.250000       81.0  18.050000  301.000000   \n",
       "\n",
       "                   DD5         DD_0   EMT   EXT        Eref         FFP  \\\n",
       "christine  1739.150943  1281.716981 -38.9  43.6  621.962264  127.056604   \n",
       "fontbrune  1624.962264  1418.849057 -41.1  42.6  646.849057  116.056604   \n",
       "vancouver  2487.500000    86.500000 -13.5  35.0  648.000000  262.000000   \n",
       "\n",
       "                   MAP        MAT       MCMT         MSP       MWMT  \\\n",
       "christine  1162.169811   3.998113 -13.845283  561.150943  18.962264   \n",
       "fontbrune   953.754717   3.237736 -15.224528  475.490566  18.154717   \n",
       "vancouver  1194.000000  11.200000   5.400000  259.000000  19.650000   \n",
       "\n",
       "                 NFFD         PAS        SHM         TD        bFFP  \\\n",
       "christine  157.113208  358.075472  34.554717  32.811321  141.094340   \n",
       "fontbrune  144.320755  298.849057  38.800000  33.377358  147.358491   \n",
       "vancouver  320.500000   36.000000  76.650000  14.250000   60.000000   \n",
       "\n",
       "                 eFFP  \n",
       "christine  268.169811  \n",
       "fontbrune  263.471698  \n",
       "vancouver  322.000000  "
      ]
     },
     "execution_count": 21,
     "metadata": {},
     "output_type": "execute_result"
    }
   ],
   "source": [
    "# combine\n",
    "cgdata = pd.concat([jpclim, vanclim])\n",
    "cgdata.head()"
   ]
  },
  {
   "cell_type": "code",
   "execution_count": 22,
   "metadata": {},
   "outputs": [
    {
     "data": {
      "text/plain": [
       "Index(['Elevation', 'AHM', 'CMD', 'DD5', 'DD_0', 'EMT', 'EXT', 'Eref', 'FFP',\n",
       "       'MAP', 'MAT', 'MCMT', 'MSP', 'MWMT', 'NFFD', 'PAS', 'SHM', 'TD', 'bFFP',\n",
       "       'eFFP'],\n",
       "      dtype='object')"
      ]
     },
     "execution_count": 22,
     "metadata": {},
     "output_type": "execute_result"
    }
   ],
   "source": [
    "cgdata.columns[-20:]"
   ]
  },
  {
   "cell_type": "code",
   "execution_count": 23,
   "metadata": {},
   "outputs": [
    {
     "data": {
      "text/plain": [
       "(3, 22)"
      ]
     },
     "execution_count": 23,
     "metadata": {},
     "output_type": "execute_result"
    }
   ],
   "source": [
    "cgdata.shape"
   ]
  },
  {
   "cell_type": "markdown",
   "metadata": {},
   "source": [
    " "
   ]
  },
  {
   "cell_type": "markdown",
   "metadata": {},
   "source": [
    "<a id='range'></a>\n",
    "# create common garden range_files\n",
    "[top](#home)"
   ]
  },
  {
   "cell_type": "code",
   "execution_count": 24,
   "metadata": {},
   "outputs": [
    {
     "data": {
      "text/plain": [
       "'/data/projects/pool_seq/environemental_data/new_netCDF_files/common_gardens'"
      ]
     },
     "execution_count": 24,
     "metadata": {},
     "output_type": "execute_result"
    }
   ],
   "source": [
    "main_netdir = '/data/projects/pool_seq/environemental_data/new_netCDF_files'\n",
    "cg_netdir = makedir(op.join(main_netdir, 'common_gardens'))\n",
    "cg_netdir"
   ]
  },
  {
   "cell_type": "code",
   "execution_count": 25,
   "metadata": {},
   "outputs": [
    {
     "data": {
      "text/plain": [
       "['/data/projects/pool_seq/environemental_data/new_netCDF_files/NA_NORM_1961-1990/NA_NORM_1961-1990_all-envs_WGS84_clipped_coastal.txt',\n",
       " '/data/projects/pool_seq/environemental_data/new_netCDF_files/NA_NORM_1961-1990/NA_NORM_1961-1990_all-envs_WGS84_clipped_combined.txt',\n",
       " '/data/projects/pool_seq/environemental_data/new_netCDF_files/NA_NORM_1961-1990/NA_NORM_1961-1990_all-envs_WGS84_clipped_interior.txt',\n",
       " '/data/projects/pool_seq/environemental_data/new_netCDF_files/NA_NORM_1961-1990/NA_NORM_1961-1990_all-envs_WGS84_clipped_jp.txt',\n",
       " '/data/projects/pool_seq/environemental_data/new_netCDF_files/NA_NORM_1961-1990/NA_NORM_1961-1990_all-envs_WGS84_clipped_wl.txt']"
      ]
     },
     "execution_count": 25,
     "metadata": {},
     "output_type": "execute_result"
    }
   ],
   "source": [
    "# get arbitrary data to overwrite, one for each species\n",
    "tmp_rangefiles = fs(\n",
    "    op.join(main_netdir,\n",
    "            'NA_NORM_1961-1990'),\n",
    "    'all-envs_WGS84',\n",
    "    endswith='.txt',\n",
    ")\n",
    "\n",
    "tmp_rangefiles"
   ]
  },
  {
   "cell_type": "code",
   "execution_count": 26,
   "metadata": {},
   "outputs": [],
   "source": [
    "garden_combos = {'vancouver' : ['coastal', 'wl', 'interior', 'combined'],\n",
    "                 'fontbrune' : ['jp'],\n",
    "                 'christine' : ['jp']                 \n",
    "                }"
   ]
  },
  {
   "cell_type": "code",
   "execution_count": 27,
   "metadata": {
    "scrolled": true
   },
   "outputs": [
    {
     "name": "stdout",
     "output_type": "stream",
     "text": [
      "/data/projects/pool_seq/environemental_data/new_netCDF_files/common_gardens/coastal-vancouver_all-envs_WGS84_clipped.txt\n",
      "/data/projects/pool_seq/environemental_data/new_netCDF_files/common_gardens/combined-vancouver_all-envs_WGS84_clipped.txt\n",
      "/data/projects/pool_seq/environemental_data/new_netCDF_files/common_gardens/interior-vancouver_all-envs_WGS84_clipped.txt\n",
      "/data/projects/pool_seq/environemental_data/new_netCDF_files/common_gardens/jp-christine_all-envs_WGS84_clipped.txt\n",
      "/data/projects/pool_seq/environemental_data/new_netCDF_files/common_gardens/jp-fontbrune_all-envs_WGS84_clipped.txt\n",
      "/data/projects/pool_seq/environemental_data/new_netCDF_files/common_gardens/wl-vancouver_all-envs_WGS84_clipped.txt\n"
     ]
    },
    {
     "data": {
      "text/html": [
       "<div>\n",
       "<style scoped>\n",
       "    .dataframe tbody tr th:only-of-type {\n",
       "        vertical-align: middle;\n",
       "    }\n",
       "\n",
       "    .dataframe tbody tr th {\n",
       "        vertical-align: top;\n",
       "    }\n",
       "\n",
       "    .dataframe thead th {\n",
       "        text-align: right;\n",
       "    }\n",
       "</style>\n",
       "<table border=\"1\" class=\"dataframe\">\n",
       "  <thead>\n",
       "    <tr style=\"text-align: right;\">\n",
       "      <th></th>\n",
       "      <th>lat</th>\n",
       "      <th>lon</th>\n",
       "      <th>Elevation</th>\n",
       "      <th>AHM</th>\n",
       "      <th>CMD</th>\n",
       "      <th>DD5</th>\n",
       "      <th>DD_0</th>\n",
       "      <th>EMT</th>\n",
       "      <th>EXT</th>\n",
       "      <th>Eref</th>\n",
       "      <th>FFP</th>\n",
       "      <th>MAP</th>\n",
       "      <th>MAT</th>\n",
       "      <th>MCMT</th>\n",
       "      <th>MSP</th>\n",
       "      <th>MWMT</th>\n",
       "      <th>NFFD</th>\n",
       "      <th>PAS</th>\n",
       "      <th>SHM</th>\n",
       "      <th>TD</th>\n",
       "      <th>bFFP</th>\n",
       "      <th>eFFP</th>\n",
       "    </tr>\n",
       "  </thead>\n",
       "  <tbody>\n",
       "    <tr>\n",
       "      <th>0</th>\n",
       "      <td>43.802969</td>\n",
       "      <td>-119.368800</td>\n",
       "      <td>81.0</td>\n",
       "      <td>18.05</td>\n",
       "      <td>301.0</td>\n",
       "      <td>2487.5</td>\n",
       "      <td>86.5</td>\n",
       "      <td>-13.5</td>\n",
       "      <td>35.0</td>\n",
       "      <td>648.0</td>\n",
       "      <td>262.0</td>\n",
       "      <td>1194.0</td>\n",
       "      <td>11.2</td>\n",
       "      <td>5.4</td>\n",
       "      <td>259.0</td>\n",
       "      <td>19.65</td>\n",
       "      <td>320.5</td>\n",
       "      <td>36.0</td>\n",
       "      <td>76.65</td>\n",
       "      <td>14.25</td>\n",
       "      <td>60.0</td>\n",
       "      <td>322.0</td>\n",
       "    </tr>\n",
       "    <tr>\n",
       "      <th>1</th>\n",
       "      <td>43.802969</td>\n",
       "      <td>-119.345422</td>\n",
       "      <td>81.0</td>\n",
       "      <td>18.05</td>\n",
       "      <td>301.0</td>\n",
       "      <td>2487.5</td>\n",
       "      <td>86.5</td>\n",
       "      <td>-13.5</td>\n",
       "      <td>35.0</td>\n",
       "      <td>648.0</td>\n",
       "      <td>262.0</td>\n",
       "      <td>1194.0</td>\n",
       "      <td>11.2</td>\n",
       "      <td>5.4</td>\n",
       "      <td>259.0</td>\n",
       "      <td>19.65</td>\n",
       "      <td>320.5</td>\n",
       "      <td>36.0</td>\n",
       "      <td>76.65</td>\n",
       "      <td>14.25</td>\n",
       "      <td>60.0</td>\n",
       "      <td>322.0</td>\n",
       "    </tr>\n",
       "    <tr>\n",
       "      <th>2</th>\n",
       "      <td>43.802969</td>\n",
       "      <td>-119.018128</td>\n",
       "      <td>81.0</td>\n",
       "      <td>18.05</td>\n",
       "      <td>301.0</td>\n",
       "      <td>2487.5</td>\n",
       "      <td>86.5</td>\n",
       "      <td>-13.5</td>\n",
       "      <td>35.0</td>\n",
       "      <td>648.0</td>\n",
       "      <td>262.0</td>\n",
       "      <td>1194.0</td>\n",
       "      <td>11.2</td>\n",
       "      <td>5.4</td>\n",
       "      <td>259.0</td>\n",
       "      <td>19.65</td>\n",
       "      <td>320.5</td>\n",
       "      <td>36.0</td>\n",
       "      <td>76.65</td>\n",
       "      <td>14.25</td>\n",
       "      <td>60.0</td>\n",
       "      <td>322.0</td>\n",
       "    </tr>\n",
       "    <tr>\n",
       "      <th>3</th>\n",
       "      <td>43.802969</td>\n",
       "      <td>-118.994750</td>\n",
       "      <td>81.0</td>\n",
       "      <td>18.05</td>\n",
       "      <td>301.0</td>\n",
       "      <td>2487.5</td>\n",
       "      <td>86.5</td>\n",
       "      <td>-13.5</td>\n",
       "      <td>35.0</td>\n",
       "      <td>648.0</td>\n",
       "      <td>262.0</td>\n",
       "      <td>1194.0</td>\n",
       "      <td>11.2</td>\n",
       "      <td>5.4</td>\n",
       "      <td>259.0</td>\n",
       "      <td>19.65</td>\n",
       "      <td>320.5</td>\n",
       "      <td>36.0</td>\n",
       "      <td>76.65</td>\n",
       "      <td>14.25</td>\n",
       "      <td>60.0</td>\n",
       "      <td>322.0</td>\n",
       "    </tr>\n",
       "    <tr>\n",
       "      <th>4</th>\n",
       "      <td>43.802969</td>\n",
       "      <td>-118.971372</td>\n",
       "      <td>81.0</td>\n",
       "      <td>18.05</td>\n",
       "      <td>301.0</td>\n",
       "      <td>2487.5</td>\n",
       "      <td>86.5</td>\n",
       "      <td>-13.5</td>\n",
       "      <td>35.0</td>\n",
       "      <td>648.0</td>\n",
       "      <td>262.0</td>\n",
       "      <td>1194.0</td>\n",
       "      <td>11.2</td>\n",
       "      <td>5.4</td>\n",
       "      <td>259.0</td>\n",
       "      <td>19.65</td>\n",
       "      <td>320.5</td>\n",
       "      <td>36.0</td>\n",
       "      <td>76.65</td>\n",
       "      <td>14.25</td>\n",
       "      <td>60.0</td>\n",
       "      <td>322.0</td>\n",
       "    </tr>\n",
       "  </tbody>\n",
       "</table>\n",
       "</div>"
      ],
      "text/plain": [
       "         lat         lon  Elevation    AHM    CMD     DD5  DD_0   EMT   EXT  \\\n",
       "0  43.802969 -119.368800       81.0  18.05  301.0  2487.5  86.5 -13.5  35.0   \n",
       "1  43.802969 -119.345422       81.0  18.05  301.0  2487.5  86.5 -13.5  35.0   \n",
       "2  43.802969 -119.018128       81.0  18.05  301.0  2487.5  86.5 -13.5  35.0   \n",
       "3  43.802969 -118.994750       81.0  18.05  301.0  2487.5  86.5 -13.5  35.0   \n",
       "4  43.802969 -118.971372       81.0  18.05  301.0  2487.5  86.5 -13.5  35.0   \n",
       "\n",
       "    Eref    FFP     MAP   MAT  MCMT    MSP   MWMT   NFFD   PAS    SHM     TD  \\\n",
       "0  648.0  262.0  1194.0  11.2   5.4  259.0  19.65  320.5  36.0  76.65  14.25   \n",
       "1  648.0  262.0  1194.0  11.2   5.4  259.0  19.65  320.5  36.0  76.65  14.25   \n",
       "2  648.0  262.0  1194.0  11.2   5.4  259.0  19.65  320.5  36.0  76.65  14.25   \n",
       "3  648.0  262.0  1194.0  11.2   5.4  259.0  19.65  320.5  36.0  76.65  14.25   \n",
       "4  648.0  262.0  1194.0  11.2   5.4  259.0  19.65  320.5  36.0  76.65  14.25   \n",
       "\n",
       "   bFFP   eFFP  \n",
       "0  60.0  322.0  \n",
       "1  60.0  322.0  \n",
       "2  60.0  322.0  \n",
       "3  60.0  322.0  \n",
       "4  60.0  322.0  "
      ]
     },
     "execution_count": 27,
     "metadata": {},
     "output_type": "execute_result"
    }
   ],
   "source": [
    "# create uniform environments across the species' ranges, save\n",
    "newfiles = []\n",
    "for tmp in tmp_rangefiles:\n",
    "    spp = tmp.split(\"_\")[-1].rstrip('.txt')\n",
    "    df = pd.read_table(tmp)[['lat', 'lon'] + cgdata.columns[-20:].tolist()]\n",
    "    for garden in cgdata.index:\n",
    "        if spp in garden_combos[garden]:\n",
    "            df[cgdata.columns[-20:]] = cgdata.loc[garden, cgdata.columns[-20:]]\n",
    "            newfile = op.join(cg_netdir, f'{spp}-{garden}_all-envs_WGS84_clipped.txt')\n",
    "            newfiles.append(newfile)\n",
    "            df.to_csv(newfile, sep='\\t', index=False)\n",
    "            print(newfile)\n",
    "df.head()    "
   ]
  },
  {
   "cell_type": "code",
   "execution_count": null,
   "metadata": {},
   "outputs": [],
   "source": []
  },
  {
   "cell_type": "code",
   "execution_count": 28,
   "metadata": {},
   "outputs": [
    {
     "name": "stdout",
     "output_type": "stream",
     "text": [
      "lat 309\n",
      "lon 389\n",
      "Elevation 1\n",
      "AHM 1\n",
      "CMD 1\n",
      "DD5 1\n",
      "DD_0 1\n",
      "EMT 1\n",
      "EXT 1\n",
      "Eref 1\n",
      "FFP 1\n",
      "MAP 1\n",
      "MAT 1\n",
      "MCMT 1\n",
      "MSP 1\n",
      "MWMT 1\n",
      "NFFD 1\n",
      "PAS 1\n",
      "SHM 1\n",
      "TD 1\n",
      "bFFP 1\n",
      "eFFP 1\n"
     ]
    }
   ],
   "source": [
    "for col in df.columns:\n",
    "    print(col, luni(df[col]))"
   ]
  },
  {
   "cell_type": "code",
   "execution_count": null,
   "metadata": {},
   "outputs": [],
   "source": []
  },
  {
   "cell_type": "code",
   "execution_count": null,
   "metadata": {},
   "outputs": [],
   "source": []
  },
  {
   "cell_type": "code",
   "execution_count": null,
   "metadata": {},
   "outputs": [],
   "source": []
  },
  {
   "cell_type": "markdown",
   "metadata": {},
   "source": [
    "<a id='fit'></a>\n",
    "# Fit trained model to climate data (common garden and future)\n",
    "[top](#home)"
   ]
  },
  {
   "cell_type": "code",
   "execution_count": 29,
   "metadata": {},
   "outputs": [
    {
     "data": {
      "text/plain": [
       "'/data/projects/pool_seq/phenotypic_data/offset_misc_files/fitting'"
      ]
     },
     "execution_count": 29,
     "metadata": {},
     "output_type": "execute_result"
    }
   ],
   "source": [
    "# where to save the fitted data\n",
    "fitting_dir = makedir('/data/projects/pool_seq/phenotypic_data/offset_misc_files/fitting')\n",
    "fitting_dir"
   ]
  },
  {
   "cell_type": "code",
   "execution_count": 30,
   "metadata": {},
   "outputs": [
    {
     "data": {
      "text/plain": [
       "['/data/projects/pool_seq/environemental_data/new_netCDF_files/NA_ENSEMBLE_rcp45_2050s',\n",
       " '/data/projects/pool_seq/environemental_data/new_netCDF_files/NA_ENSEMBLE_rcp45_2080s',\n",
       " '/data/projects/pool_seq/environemental_data/new_netCDF_files/NA_ENSEMBLE_rcp85_2050s',\n",
       " '/data/projects/pool_seq/environemental_data/new_netCDF_files/NA_ENSEMBLE_rcp85_2080s',\n",
       " '/data/projects/pool_seq/environemental_data/new_netCDF_files/NA_NORM_1961-1990',\n",
       " '/data/projects/pool_seq/environemental_data/new_netCDF_files/common_gardens']"
      ]
     },
     "execution_count": 30,
     "metadata": {},
     "output_type": "execute_result"
    }
   ],
   "source": [
    "# get directories where rangefiles are stored\n",
    "netdirs = fs(main_netdir, dirs=True, exclude='Reference')\n",
    "netdirs"
   ]
  },
  {
   "cell_type": "code",
   "execution_count": 31,
   "metadata": {
    "scrolled": false
   },
   "outputs": [
    {
     "data": {
      "text/plain": [
       "{'coastal': defaultdict(list,\n",
       "             {'NA_ENSEMBLE_rcp45_2050s': ['NA_ENSEMBLE_rcp45_2050s_all-envs_WGS84_clipped_coastal.txt'],\n",
       "              'NA_ENSEMBLE_rcp45_2080s': ['NA_ENSEMBLE_rcp45_2080s_all-envs_WGS84_clipped_coastal.txt'],\n",
       "              'NA_ENSEMBLE_rcp85_2050s': ['NA_ENSEMBLE_rcp85_2050s_all-envs_WGS84_clipped_coastal.txt'],\n",
       "              'NA_ENSEMBLE_rcp85_2080s': ['NA_ENSEMBLE_rcp85_2080s_all-envs_WGS84_clipped_coastal.txt'],\n",
       "              'NA_NORM_1961-1990': ['NA_NORM_1961-1990_all-envs_WGS84_clipped_coastal.txt'],\n",
       "              'common_gardens': ['coastal-vancouver_all-envs_WGS84_clipped.txt']}),\n",
       " 'combined': defaultdict(list,\n",
       "             {'NA_ENSEMBLE_rcp45_2050s': ['NA_ENSEMBLE_rcp45_2050s_all-envs_WGS84_clipped_combined.txt'],\n",
       "              'NA_ENSEMBLE_rcp45_2080s': ['NA_ENSEMBLE_rcp45_2080s_all-envs_WGS84_clipped_combined.txt'],\n",
       "              'NA_ENSEMBLE_rcp85_2050s': ['NA_ENSEMBLE_rcp85_2050s_all-envs_WGS84_clipped_combined.txt'],\n",
       "              'NA_ENSEMBLE_rcp85_2080s': ['NA_ENSEMBLE_rcp85_2080s_all-envs_WGS84_clipped_combined.txt'],\n",
       "              'NA_NORM_1961-1990': ['NA_NORM_1961-1990_all-envs_WGS84_clipped_combined.txt'],\n",
       "              'common_gardens': ['combined-vancouver_all-envs_WGS84_clipped.txt']}),\n",
       " 'interior': defaultdict(list,\n",
       "             {'NA_ENSEMBLE_rcp45_2050s': ['NA_ENSEMBLE_rcp45_2050s_all-envs_WGS84_clipped_interior.txt'],\n",
       "              'NA_ENSEMBLE_rcp45_2080s': ['NA_ENSEMBLE_rcp45_2080s_all-envs_WGS84_clipped_interior.txt'],\n",
       "              'NA_ENSEMBLE_rcp85_2050s': ['NA_ENSEMBLE_rcp85_2050s_all-envs_WGS84_clipped_interior.txt'],\n",
       "              'NA_ENSEMBLE_rcp85_2080s': ['NA_ENSEMBLE_rcp85_2080s_all-envs_WGS84_clipped_interior.txt'],\n",
       "              'NA_NORM_1961-1990': ['NA_NORM_1961-1990_all-envs_WGS84_clipped_interior.txt'],\n",
       "              'common_gardens': ['interior-vancouver_all-envs_WGS84_clipped.txt']}),\n",
       " 'jp': defaultdict(list,\n",
       "             {'NA_ENSEMBLE_rcp45_2050s': ['NA_ENSEMBLE_rcp45_2050s_all-envs_WGS84_clipped_jp.txt'],\n",
       "              'NA_ENSEMBLE_rcp45_2080s': ['NA_ENSEMBLE_rcp45_2080s_all-envs_WGS84_clipped_jp.txt'],\n",
       "              'NA_ENSEMBLE_rcp85_2050s': ['NA_ENSEMBLE_rcp85_2050s_all-envs_WGS84_clipped_jp.txt'],\n",
       "              'NA_ENSEMBLE_rcp85_2080s': ['NA_ENSEMBLE_rcp85_2080s_all-envs_WGS84_clipped_jp.txt'],\n",
       "              'NA_NORM_1961-1990': ['NA_NORM_1961-1990_all-envs_WGS84_clipped_jp.txt'],\n",
       "              'common_gardens': ['jp-christine_all-envs_WGS84_clipped.txt',\n",
       "               'jp-fontbrune_all-envs_WGS84_clipped.txt']}),\n",
       " 'wl': defaultdict(list,\n",
       "             {'NA_ENSEMBLE_rcp45_2050s': ['NA_ENSEMBLE_rcp45_2050s_all-envs_WGS84_clipped_wl.txt'],\n",
       "              'NA_ENSEMBLE_rcp45_2080s': ['NA_ENSEMBLE_rcp45_2080s_all-envs_WGS84_clipped_wl.txt'],\n",
       "              'NA_ENSEMBLE_rcp85_2050s': ['NA_ENSEMBLE_rcp85_2050s_all-envs_WGS84_clipped_wl.txt'],\n",
       "              'NA_ENSEMBLE_rcp85_2080s': ['NA_ENSEMBLE_rcp85_2080s_all-envs_WGS84_clipped_wl.txt'],\n",
       "              'NA_NORM_1961-1990': ['NA_NORM_1961-1990_all-envs_WGS84_clipped_wl.txt'],\n",
       "              'common_gardens': ['wl-vancouver_all-envs_WGS84_clipped.txt']})}"
      ]
     },
     "execution_count": 31,
     "metadata": {},
     "output_type": "execute_result"
    }
   ],
   "source": [
    "# get rangefiles\n",
    "range_files = defaultdict(lambda: defaultdict(list))\n",
    "for netdir in netdirs:\n",
    "    files = fs(netdir, 'all-envs_WGS84_clipped', exclude='EUprovs', endswith='.txt')\n",
    "    for f in files:\n",
    "        if 'common_garden' in netdir:\n",
    "            spp = op.basename(f).split('-')[0]\n",
    "        else:\n",
    "            spp = f.split(\"_\")[-1].rstrip('.txt')\n",
    "        range_files[spp][op.basename(op.dirname(f))].append(op.basename(f))\n",
    "dict(range_files)"
   ]
  },
  {
   "cell_type": "code",
   "execution_count": 32,
   "metadata": {},
   "outputs": [],
   "source": [
    "# translate species codes\n",
    "strans = {'fdc' : 'coastal',\n",
    "          'fdi' : 'interior',\n",
    "          'jp' : 'jp',\n",
    "          'wl' : 'wl',\n",
    "          'combined' : 'combined'\n",
    "         }"
   ]
  },
  {
   "cell_type": "code",
   "execution_count": 33,
   "metadata": {},
   "outputs": [],
   "source": [
    "def fit_model(training_file, range_file, predfile, maskfile, basename, save_dir=fitting_dir):\n",
    "    \"\"\"Fit gradient forest training model to input data.\"\"\"\n",
    "    import subprocess\n",
    "    \n",
    "    Rscript = '/lu213/brandon.lind/data/anaconda3/envs/r35/bin/Rscript'  # r 3.5.1 env seen elsewhere in my notebooks\n",
    "    # fitting_script created in ../05_gradient_forest_processing_scripts.ipynb\n",
    "    fitting_script = '/data/projects/pool_seq/phenotypic_data/offset_misc_files/gradient_fitting_script.R'\n",
    "    \n",
    "    output = subprocess.check_output(\n",
    "        [\n",
    "            Rscript,\n",
    "            fitting_script,\n",
    "            training_file,\n",
    "            range_file,\n",
    "            predfile,\n",
    "            maskfile,\n",
    "            basename,\n",
    "            save_dir\n",
    "        ]\n",
    "    ).decode(\"utf-8\").replace(\"\\n\", \"\").split()[-1]\n",
    "    \n",
    "    return output"
   ]
  },
  {
   "cell_type": "markdown",
   "metadata": {},
   "source": [
    "### test out function"
   ]
  },
  {
   "cell_type": "code",
   "execution_count": 34,
   "metadata": {},
   "outputs": [
    {
     "name": "stdout",
     "output_type": "stream",
     "text": [
      "Loading required package: extendedForest\n",
      "extendedForest 1.6.1\n",
      "Type rfNews() to see new features/changes/bug fixes.\n",
      "Loading required package: sp\n",
      "\n",
      "Fitting gradient forest model to input envdata ...\n",
      "   user  system elapsed \n",
      " 91.581   8.783 100.606 \n",
      "\n",
      "Calculating offset ...\n",
      "   user  system elapsed \n",
      " 91.154   8.044  99.434 \n",
      "Loading required namespace: ncdf4\n",
      "\n",
      "Saved netCDF file to:\n",
      "\t/data/projects/pool_seq/phenotypic_data/offset_misc_files/fitting/combined-baypass-pseudo_random_loci-full_gradient_forest_training_NA_ENSEMBLE_rcp45_2050s_all-envs_WGS84_clipped_combined_offset.nc"
     ]
    }
   ],
   "source": [
    "Rscript = '/lu213/brandon.lind/data/anaconda3/envs/r35/bin/Rscript'  # r 3.5.1 env seen elsewhere in my notebooks\n",
    "fitting_script = '/data/projects/pool_seq/phenotypic_data/offset_misc_files/gradient_fitting_script.R'\n",
    "\n",
    "# iterate to fill in some variables I need to test the script\n",
    "basenames = []  # make sure I don't make any duplicate basenames\n",
    "for spp,rds_files in trained_models.items():\n",
    "    for training_file,predfile in rds_files:\n",
    "        maskfile = maskfiles[strans[spp]]\n",
    "        for projection,spp_range_files in range_files[strans[spp]].items():\n",
    "            for range_file in spp_range_files:\n",
    "                range_file = f'/data/projects/pool_seq/environemental_data/new_netCDF_files/{projection}/{range_file}'\n",
    "                basename = op.basename(training_file).rstrip('.RDS') + '_' + op.basename(range_file).rstrip('.txt')\n",
    "                assert basename not in basenames\n",
    "                basenames.append(basename)\n",
    "                break\n",
    "            break\n",
    "        break\n",
    "    break\n",
    "\n",
    "!$Rscript $fitting_script $training_file $range_file $predfile $maskfile $basename $fitting_dir"
   ]
  },
  {
   "cell_type": "code",
   "execution_count": 35,
   "metadata": {},
   "outputs": [
    {
     "data": {
      "text/plain": [
       "[None, None]"
      ]
     },
     "execution_count": 35,
     "metadata": {},
     "output_type": "execute_result"
    },
    {
     "data": {
      "image/png": "[encoded data removed]",
      "text/plain": [
       "<Figure size 1080x720 with 2 Axes>"
      ]
     },
     "metadata": {
      "needs_background": "light"
     },
     "output_type": "display_data"
    }
   ],
   "source": [
    "# look at test result\n",
    "ncfiles = fs(fitting_dir, endswith='.nc')\n",
    "assert len(ncfiles) == 1\n",
    "nc = ncfiles[0]\n",
    "\n",
    "ds = xarray.open_dataset(nc)\n",
    "layers = [var for var in list(ds.variables) if var not in ['crs', 'longitude', 'latitude']]\n",
    "assert len(layers) == 1\n",
    "layer = layers[0]\n",
    "vals = ds[layer][:,:]\n",
    "lons = ds[layer]['longitude']\n",
    "lats = ds[layer]['latitude']\n",
    "\n",
    "\n",
    "ax = basemap(extent=[-130, -112.5, 37.5, 55.5], figsize=(15, 10))\n",
    "\n",
    "contours = plt.contourf(lons, lats, vals, 20, cmap='jet', transform=ccrs.PlateCarree(), origin='lower')\n",
    "cb = plt.colorbar(contours, pad=0.1, shrink=0.5)\n",
    "cb.set_label(f'genetic offset')\n",
    "\n",
    "# delete test result files\n",
    "[os.remove(f) for f in fs(fitting_dir, dirs=False)]"
   ]
  },
  {
   "cell_type": "code",
   "execution_count": null,
   "metadata": {},
   "outputs": [],
   "source": []
  },
  {
   "cell_type": "markdown",
   "metadata": {},
   "source": [
    "### now in parallel"
   ]
  },
  {
   "cell_type": "code",
   "execution_count": 68,
   "metadata": {},
   "outputs": [
    {
     "name": "stdout",
     "output_type": "stream",
     "text": [
      "20 20\n"
     ]
    }
   ],
   "source": [
    "lview,dview = get_client()"
   ]
  },
  {
   "cell_type": "code",
   "execution_count": 69,
   "metadata": {},
   "outputs": [
    {
     "name": "stdout",
     "output_type": "stream",
     "text": [
      "\u001b[1m\n",
      "Watching 798 jobs ...\u001b[0m\n"
     ]
    },
    {
     "name": "stderr",
     "output_type": "stream",
     "text": [
      "100%|██████████| 798/798 [1:02:34<00:00,  4.70s/it]\n"
     ]
    }
   ],
   "source": [
    "jobs = []\n",
    "basenames = []  # make sure I don't make any duplicate basenames\n",
    "args = []\n",
    "for spp,rds_files in trained_models.items():\n",
    "    for training_file,predfile in rds_files:\n",
    "        maskfile = maskfiles[strans[spp]]\n",
    "        for projection,spp_range_files in range_files[strans[spp]].items():\n",
    "            for range_file in spp_range_files:\n",
    "                range_file = f'/data/projects/pool_seq/environemental_data/new_netCDF_files/{projection}/{range_file}'\n",
    "                basename = op.basename(training_file).rstrip('.RDS') + '_' + op.basename(range_file).rstrip('.txt')\n",
    "                assert basename not in basenames\n",
    "                basenames.append(basename)\n",
    "                arg = (training_file, range_file, predfile, maskfile, basename, fitting_dir)\n",
    "                jobs.append(\n",
    "                    lview.apply_async(fit_model, *arg)\n",
    "                )\n",
    "                args.append(arg)\n",
    "\n",
    "watch_async(jobs)"
   ]
  },
  {
   "cell_type": "code",
   "execution_count": 70,
   "metadata": {},
   "outputs": [
    {
     "name": "stdout",
     "output_type": "stream",
     "text": [
      "\u001b[1m\n",
      "Watching 30 jobs ...\u001b[0m\n"
     ]
    },
    {
     "name": "stderr",
     "output_type": "stream",
     "text": [
      "iteration 0: 100%|██████████| 30/30 [09:06<00:00, 18.20s/it]\n"
     ]
    },
    {
     "name": "stdout",
     "output_type": "stream",
     "text": [
      "\u001b[1m\n",
      "Watching 15 jobs ...\u001b[0m\n"
     ]
    },
    {
     "name": "stderr",
     "output_type": "stream",
     "text": [
      "iteration 1: 100%|██████████| 15/15 [12:06<00:00, 48.45s/it]\n"
     ]
    },
    {
     "name": "stdout",
     "output_type": "stream",
     "text": [
      "\u001b[1m\n",
      "Watching 2 jobs ...\u001b[0m\n"
     ]
    },
    {
     "name": "stderr",
     "output_type": "stream",
     "text": [
      "iteration 2: 100%|██████████| 2/2 [08:58<00:00, 269.04s/it]\n"
     ]
    }
   ],
   "source": [
    "# redo the jobs that failed\n",
    "count = 0\n",
    "while True:\n",
    "    needed = []\n",
    "    for basename,arg in zip(basenames, args):\n",
    "        nc = op.join(fitting_dir, basename + '_offset.nc')\n",
    "        rds = op.join(fitting_dir, basename + '_gradient_forest_fitted.RDS')\n",
    "        if not all([op.exists(nc), op.exists(rds)]):\n",
    "            needed.append(arg)\n",
    "\n",
    "    if len(needed) == 0:\n",
    "        break\n",
    "\n",
    "    jobs = []\n",
    "    for arg in needed:\n",
    "        jobs.append(\n",
    "            lview.apply_async(fit_model, *arg)\n",
    "        )\n",
    "\n",
    "    watch_async(jobs, desc=f'iteration {count}')\n",
    "\n",
    "    count += 1"
   ]
  },
  {
   "cell_type": "code",
   "execution_count": null,
   "metadata": {},
   "outputs": [],
   "source": []
  },
  {
   "cell_type": "code",
   "execution_count": null,
   "metadata": {},
   "outputs": [],
   "source": []
  },
  {
   "cell_type": "code",
   "execution_count": null,
   "metadata": {},
   "outputs": [],
   "source": []
  },
  {
   "cell_type": "code",
   "execution_count": null,
   "metadata": {},
   "outputs": [],
   "source": []
  },
  {
   "cell_type": "code",
   "execution_count": null,
   "metadata": {},
   "outputs": [],
   "source": []
  },
  {
   "cell_type": "code",
   "execution_count": null,
   "metadata": {},
   "outputs": [],
   "source": []
  },
  {
   "cell_type": "code",
   "execution_count": null,
   "metadata": {},
   "outputs": [],
   "source": []
  },
  {
   "cell_type": "code",
   "execution_count": null,
   "metadata": {},
   "outputs": [],
   "source": []
  },
  {
   "cell_type": "code",
   "execution_count": null,
   "metadata": {},
   "outputs": [],
   "source": []
  },
  {
   "cell_type": "code",
   "execution_count": null,
   "metadata": {},
   "outputs": [],
   "source": []
  },
  {
   "cell_type": "code",
   "execution_count": null,
   "metadata": {},
   "outputs": [],
   "source": []
  },
  {
   "cell_type": "code",
   "execution_count": null,
   "metadata": {},
   "outputs": [],
   "source": []
  },
  {
   "cell_type": "code",
   "execution_count": null,
   "metadata": {},
   "outputs": [],
   "source": []
  },
  {
   "cell_type": "code",
   "execution_count": null,
   "metadata": {},
   "outputs": [],
   "source": []
  },
  {
   "cell_type": "code",
   "execution_count": null,
   "metadata": {},
   "outputs": [],
   "source": []
  },
  {
   "cell_type": "code",
   "execution_count": null,
   "metadata": {},
   "outputs": [],
   "source": []
  },
  {
   "cell_type": "code",
   "execution_count": null,
   "metadata": {},
   "outputs": [],
   "source": []
  }
 ],
 "metadata": {
  "kernelspec": {
   "display_name": "Python 3",
   "language": "python",
   "name": "python3"
  },
  "language_info": {
   "codemirror_mode": {
    "name": "ipython",
    "version": 3
   },
   "file_extension": ".py",
   "mimetype": "text/x-python",
   "name": "python",
   "nbconvert_exporter": "python",
   "pygments_lexer": "ipython3",
   "version": "3.8.5"
  }
 },
 "nbformat": 4,
 "nbformat_minor": 4
}
